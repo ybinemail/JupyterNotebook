{
 "cells": [
  {
   "cell_type": "markdown",
   "metadata": {},
   "source": [
    "# 基本信息统计\n",
    "改革开放四十年，资本市场风风雨雨也有二十余载，我们的生活、工作甚至心情与股票市场的联系也越来越紧密。最近一则新闻报道上交所向中学生普及金融证券知识，网友评论道：“培养韭菜从娃娃抓起！”。言归正传，我们对A股上市公司到底认识多少？下面使用Python带领大家一步步进入探寻之旅。"
   ]
  },
  {
   "cell_type": "markdown",
   "metadata": {},
   "source": [
    "## 获取数据\n",
    "主要使用tushare包获取A股所有上市公司截至目前（2018年11月26日）的基本面数据，分析相关特征和可视化，挖掘数据背后隐藏的信息。"
   ]
  },
  {
   "cell_type": "code",
   "execution_count": 15,
   "metadata": {},
   "outputs": [
    {
     "data": {
      "text/html": [
       "<div>\n",
       "<style scoped>\n",
       "    .dataframe tbody tr th:only-of-type {\n",
       "        vertical-align: middle;\n",
       "    }\n",
       "\n",
       "    .dataframe tbody tr th {\n",
       "        vertical-align: top;\n",
       "    }\n",
       "\n",
       "    .dataframe thead th {\n",
       "        text-align: right;\n",
       "    }\n",
       "</style>\n",
       "<table border=\"1\" class=\"dataframe\">\n",
       "  <thead>\n",
       "    <tr style=\"text-align: right;\">\n",
       "      <th></th>\n",
       "      <th>Unnamed: 0</th>\n",
       "      <th>ts_code</th>\n",
       "      <th>symbol</th>\n",
       "      <th>name</th>\n",
       "      <th>area</th>\n",
       "      <th>industry</th>\n",
       "      <th>market</th>\n",
       "      <th>list_date</th>\n",
       "    </tr>\n",
       "  </thead>\n",
       "  <tbody>\n",
       "    <tr>\n",
       "      <th>0</th>\n",
       "      <td>0</td>\n",
       "      <td>000001.SZ</td>\n",
       "      <td>1</td>\n",
       "      <td>平安银行</td>\n",
       "      <td>深圳</td>\n",
       "      <td>银行</td>\n",
       "      <td>主板</td>\n",
       "      <td>19910403</td>\n",
       "    </tr>\n",
       "    <tr>\n",
       "      <th>1</th>\n",
       "      <td>1</td>\n",
       "      <td>000002.SZ</td>\n",
       "      <td>2</td>\n",
       "      <td>万科A</td>\n",
       "      <td>深圳</td>\n",
       "      <td>全国地产</td>\n",
       "      <td>主板</td>\n",
       "      <td>19910129</td>\n",
       "    </tr>\n",
       "    <tr>\n",
       "      <th>2</th>\n",
       "      <td>2</td>\n",
       "      <td>000004.SZ</td>\n",
       "      <td>4</td>\n",
       "      <td>ST国华</td>\n",
       "      <td>深圳</td>\n",
       "      <td>软件服务</td>\n",
       "      <td>主板</td>\n",
       "      <td>19910114</td>\n",
       "    </tr>\n",
       "  </tbody>\n",
       "</table>\n",
       "</div>"
      ],
      "text/plain": [
       "   Unnamed: 0    ts_code  symbol  name area industry market  list_date\n",
       "0           0  000001.SZ       1  平安银行   深圳       银行     主板   19910403\n",
       "1           1  000002.SZ       2   万科A   深圳     全国地产     主板   19910129\n",
       "2           2  000004.SZ       4  ST国华   深圳     软件服务     主板   19910114"
      ]
     },
     "execution_count": 15,
     "metadata": {},
     "output_type": "execute_result"
    }
   ],
   "source": [
    "import pandas as pd\n",
    "import numpy as np\n",
    "import tushare as ts\n",
    "import matplotlib.pyplot as plt\n",
    "from scipy import stats\n",
    "\n",
    "%matplotlib inline\n",
    "\n",
    "##925ada1b220d3a4bfa7e8307a04614a33315b0b415e50269dc4d52f8\n",
    "#正常显示画图时出现的中文和负号\n",
    "from pylab import mpl\n",
    "mpl.rcParams['font.sans-serif'] = ['SimHei']\n",
    "mpl.rcParams['axes.unicode_minus'] = False\n",
    "\n",
    "\n",
    "#设置token\n",
    "token='925ada1b220d3a4bfa7e8307a04614a33315b0b415e50269dc4d52f8'\n",
    "pro = ts.pro_api(token)\n",
    "basics_data=pro.stock_basic(list_status='L')\n",
    "basics_data.to_csv('./data/basics_data.csv',encoding='gbk')\n",
    "\n",
    "basics_data = pd.read_csv('./data/basics_data.csv',sep=\",\",encoding=\"gbk\")\n",
    "#查看前三行前8列数据\n",
    "basics_data.iloc[:3]\n"
   ]
  },
  {
   "cell_type": "markdown",
   "metadata": {},
   "source": [
    "### 数据特征：\n",
    "* code,代码；\n",
    "* name,名称；\n",
    "* industry,细分行业；\n",
    "* area,地区；\n",
    "* pe,市盈率；\n",
    "* outstanding,流通股本；\n",
    "* totals,总股本(万)；\n",
    "* totalAssets,总资产(万)；\n",
    "* liquidAssets,流动资产；\n",
    "* fixedAssets,固定资产；\n",
    "* reserved,公积金；\n",
    "* reservedPerShare,每股公积金；\n",
    "* eps,每股收益；\n",
    "* bvps,每股净资；\n",
    "* pb,市净率；\n",
    "* timeToMarket,上市日期；\n",
    "* undp 未分配利润；\n",
    "* perundp 每股未分配；\n",
    "* rev 收入同比（%）；\n",
    "* profit 利润同比（%）；\n",
    "* gpr 毛利率（%）；\n",
    "* npr 净利润率（%）；\n",
    "* holders_num 股东人数"
   ]
  },
  {
   "cell_type": "markdown",
   "metadata": {},
   "source": [
    "## 上市公司分布"
   ]
  },
  {
   "cell_type": "code",
   "execution_count": 16,
   "metadata": {},
   "outputs": [
    {
     "data": {
      "text/plain": [
       "area\n",
       "浙江    623\n",
       "江苏    595\n",
       "北京    433\n",
       "广东    404\n",
       "上海    401\n",
       "深圳    386\n",
       "山东    266\n",
       "福建    165\n",
       "四川    162\n",
       "安徽    152\n",
       "Name: name, dtype: int64"
      ]
     },
     "execution_count": 16,
     "metadata": {},
     "output_type": "execute_result"
    }
   ],
   "source": [
    "#使用groupby对上市公司归属地进行汇总，\n",
    "#统计每个省份（直辖市）上市公司的总数\n",
    "area = basics_data.groupby('area')['name'].count()\n",
    "#从大到小进行排序，取出前十名\n",
    "area.sort_values(ascending=False)[:10]"
   ]
  },
  {
   "cell_type": "code",
   "execution_count": 17,
   "metadata": {},
   "outputs": [
    {
     "data": {
      "text/plain": [
       "area\n",
       "广东    790\n",
       "浙江    623\n",
       "江苏    595\n",
       "北京    433\n",
       "上海    401\n",
       "山东    266\n",
       "福建    165\n",
       "四川    162\n",
       "安徽    152\n",
       "湖南    132\n",
       "Name: name, dtype: int64"
      ]
     },
     "execution_count": 17,
     "metadata": {},
     "output_type": "execute_result"
    }
   ],
   "source": [
    "area['广东'] =  area['广东'] + area['深圳']\n",
    "area.drop(['深圳'],inplace=True)\n",
    "area.sort_values(ascending=False)[:10]"
   ]
  },
  {
   "cell_type": "code",
   "execution_count": 23,
   "metadata": {},
   "outputs": [
    {
     "name": "stderr",
     "output_type": "stream",
     "text": [
      "/Users/robinyu/.local/share/virtualenvs/JupyterNotebook-5PCSqSH0/lib/python3.9/site-packages/IPython/core/pylabtools.py:151: UserWarning: Glyph 19978 (\\N{CJK UNIFIED IDEOGRAPH-4E0A}) missing from current font.\n",
      "  fig.canvas.print_figure(bytes_io, **kw)\n",
      "/Users/robinyu/.local/share/virtualenvs/JupyterNotebook-5PCSqSH0/lib/python3.9/site-packages/IPython/core/pylabtools.py:151: UserWarning: Glyph 24066 (\\N{CJK UNIFIED IDEOGRAPH-5E02}) missing from current font.\n",
      "  fig.canvas.print_figure(bytes_io, **kw)\n",
      "/Users/robinyu/.local/share/virtualenvs/JupyterNotebook-5PCSqSH0/lib/python3.9/site-packages/IPython/core/pylabtools.py:151: UserWarning: Glyph 20844 (\\N{CJK UNIFIED IDEOGRAPH-516C}) missing from current font.\n",
      "  fig.canvas.print_figure(bytes_io, **kw)\n",
      "/Users/robinyu/.local/share/virtualenvs/JupyterNotebook-5PCSqSH0/lib/python3.9/site-packages/IPython/core/pylabtools.py:151: UserWarning: Glyph 21496 (\\N{CJK UNIFIED IDEOGRAPH-53F8}) missing from current font.\n",
      "  fig.canvas.print_figure(bytes_io, **kw)\n",
      "/Users/robinyu/.local/share/virtualenvs/JupyterNotebook-5PCSqSH0/lib/python3.9/site-packages/IPython/core/pylabtools.py:151: UserWarning: Glyph 24635 (\\N{CJK UNIFIED IDEOGRAPH-603B}) missing from current font.\n",
      "  fig.canvas.print_figure(bytes_io, **kw)\n",
      "/Users/robinyu/.local/share/virtualenvs/JupyterNotebook-5PCSqSH0/lib/python3.9/site-packages/IPython/core/pylabtools.py:151: UserWarning: Glyph 25968 (\\N{CJK UNIFIED IDEOGRAPH-6570}) missing from current font.\n",
      "  fig.canvas.print_figure(bytes_io, **kw)\n",
      "/Users/robinyu/.local/share/virtualenvs/JupyterNotebook-5PCSqSH0/lib/python3.9/site-packages/IPython/core/pylabtools.py:151: UserWarning: Glyph 25490 (\\N{CJK UNIFIED IDEOGRAPH-6392}) missing from current font.\n",
      "  fig.canvas.print_figure(bytes_io, **kw)\n",
      "/Users/robinyu/.local/share/virtualenvs/JupyterNotebook-5PCSqSH0/lib/python3.9/site-packages/IPython/core/pylabtools.py:151: UserWarning: Glyph 21517 (\\N{CJK UNIFIED IDEOGRAPH-540D}) missing from current font.\n",
      "  fig.canvas.print_figure(bytes_io, **kw)\n",
      "/Users/robinyu/.local/share/virtualenvs/JupyterNotebook-5PCSqSH0/lib/python3.9/site-packages/IPython/core/pylabtools.py:151: UserWarning: Glyph 21069 (\\N{CJK UNIFIED IDEOGRAPH-524D}) missing from current font.\n",
      "  fig.canvas.print_figure(bytes_io, **kw)\n",
      "/Users/robinyu/.local/share/virtualenvs/JupyterNotebook-5PCSqSH0/lib/python3.9/site-packages/IPython/core/pylabtools.py:151: UserWarning: Glyph 21313 (\\N{CJK UNIFIED IDEOGRAPH-5341}) missing from current font.\n",
      "  fig.canvas.print_figure(bytes_io, **kw)\n",
      "/Users/robinyu/.local/share/virtualenvs/JupyterNotebook-5PCSqSH0/lib/python3.9/site-packages/IPython/core/pylabtools.py:151: UserWarning: Glyph 30465 (\\N{CJK UNIFIED IDEOGRAPH-7701}) missing from current font.\n",
      "  fig.canvas.print_figure(bytes_io, **kw)\n",
      "/Users/robinyu/.local/share/virtualenvs/JupyterNotebook-5PCSqSH0/lib/python3.9/site-packages/IPython/core/pylabtools.py:151: UserWarning: Glyph 20221 (\\N{CJK UNIFIED IDEOGRAPH-4EFD}) missing from current font.\n",
      "  fig.canvas.print_figure(bytes_io, **kw)\n",
      "/Users/robinyu/.local/share/virtualenvs/JupyterNotebook-5PCSqSH0/lib/python3.9/site-packages/IPython/core/pylabtools.py:151: UserWarning: Glyph 24191 (\\N{CJK UNIFIED IDEOGRAPH-5E7F}) missing from current font.\n",
      "  fig.canvas.print_figure(bytes_io, **kw)\n",
      "/Users/robinyu/.local/share/virtualenvs/JupyterNotebook-5PCSqSH0/lib/python3.9/site-packages/IPython/core/pylabtools.py:151: UserWarning: Glyph 19996 (\\N{CJK UNIFIED IDEOGRAPH-4E1C}) missing from current font.\n",
      "  fig.canvas.print_figure(bytes_io, **kw)\n",
      "/Users/robinyu/.local/share/virtualenvs/JupyterNotebook-5PCSqSH0/lib/python3.9/site-packages/IPython/core/pylabtools.py:151: UserWarning: Glyph 27993 (\\N{CJK UNIFIED IDEOGRAPH-6D59}) missing from current font.\n",
      "  fig.canvas.print_figure(bytes_io, **kw)\n",
      "/Users/robinyu/.local/share/virtualenvs/JupyterNotebook-5PCSqSH0/lib/python3.9/site-packages/IPython/core/pylabtools.py:151: UserWarning: Glyph 27743 (\\N{CJK UNIFIED IDEOGRAPH-6C5F}) missing from current font.\n",
      "  fig.canvas.print_figure(bytes_io, **kw)\n",
      "/Users/robinyu/.local/share/virtualenvs/JupyterNotebook-5PCSqSH0/lib/python3.9/site-packages/IPython/core/pylabtools.py:151: UserWarning: Glyph 33487 (\\N{CJK UNIFIED IDEOGRAPH-82CF}) missing from current font.\n",
      "  fig.canvas.print_figure(bytes_io, **kw)\n",
      "/Users/robinyu/.local/share/virtualenvs/JupyterNotebook-5PCSqSH0/lib/python3.9/site-packages/IPython/core/pylabtools.py:151: UserWarning: Glyph 21271 (\\N{CJK UNIFIED IDEOGRAPH-5317}) missing from current font.\n",
      "  fig.canvas.print_figure(bytes_io, **kw)\n",
      "/Users/robinyu/.local/share/virtualenvs/JupyterNotebook-5PCSqSH0/lib/python3.9/site-packages/IPython/core/pylabtools.py:151: UserWarning: Glyph 20140 (\\N{CJK UNIFIED IDEOGRAPH-4EAC}) missing from current font.\n",
      "  fig.canvas.print_figure(bytes_io, **kw)\n",
      "/Users/robinyu/.local/share/virtualenvs/JupyterNotebook-5PCSqSH0/lib/python3.9/site-packages/IPython/core/pylabtools.py:151: UserWarning: Glyph 28023 (\\N{CJK UNIFIED IDEOGRAPH-6D77}) missing from current font.\n",
      "  fig.canvas.print_figure(bytes_io, **kw)\n",
      "/Users/robinyu/.local/share/virtualenvs/JupyterNotebook-5PCSqSH0/lib/python3.9/site-packages/IPython/core/pylabtools.py:151: UserWarning: Glyph 23665 (\\N{CJK UNIFIED IDEOGRAPH-5C71}) missing from current font.\n",
      "  fig.canvas.print_figure(bytes_io, **kw)\n",
      "/Users/robinyu/.local/share/virtualenvs/JupyterNotebook-5PCSqSH0/lib/python3.9/site-packages/IPython/core/pylabtools.py:151: UserWarning: Glyph 31119 (\\N{CJK UNIFIED IDEOGRAPH-798F}) missing from current font.\n",
      "  fig.canvas.print_figure(bytes_io, **kw)\n",
      "/Users/robinyu/.local/share/virtualenvs/JupyterNotebook-5PCSqSH0/lib/python3.9/site-packages/IPython/core/pylabtools.py:151: UserWarning: Glyph 24314 (\\N{CJK UNIFIED IDEOGRAPH-5EFA}) missing from current font.\n",
      "  fig.canvas.print_figure(bytes_io, **kw)\n",
      "/Users/robinyu/.local/share/virtualenvs/JupyterNotebook-5PCSqSH0/lib/python3.9/site-packages/IPython/core/pylabtools.py:151: UserWarning: Glyph 22235 (\\N{CJK UNIFIED IDEOGRAPH-56DB}) missing from current font.\n",
      "  fig.canvas.print_figure(bytes_io, **kw)\n",
      "/Users/robinyu/.local/share/virtualenvs/JupyterNotebook-5PCSqSH0/lib/python3.9/site-packages/IPython/core/pylabtools.py:151: UserWarning: Glyph 24029 (\\N{CJK UNIFIED IDEOGRAPH-5DDD}) missing from current font.\n",
      "  fig.canvas.print_figure(bytes_io, **kw)\n",
      "/Users/robinyu/.local/share/virtualenvs/JupyterNotebook-5PCSqSH0/lib/python3.9/site-packages/IPython/core/pylabtools.py:151: UserWarning: Glyph 23433 (\\N{CJK UNIFIED IDEOGRAPH-5B89}) missing from current font.\n",
      "  fig.canvas.print_figure(bytes_io, **kw)\n",
      "/Users/robinyu/.local/share/virtualenvs/JupyterNotebook-5PCSqSH0/lib/python3.9/site-packages/IPython/core/pylabtools.py:151: UserWarning: Glyph 24509 (\\N{CJK UNIFIED IDEOGRAPH-5FBD}) missing from current font.\n",
      "  fig.canvas.print_figure(bytes_io, **kw)\n",
      "/Users/robinyu/.local/share/virtualenvs/JupyterNotebook-5PCSqSH0/lib/python3.9/site-packages/IPython/core/pylabtools.py:151: UserWarning: Glyph 28246 (\\N{CJK UNIFIED IDEOGRAPH-6E56}) missing from current font.\n",
      "  fig.canvas.print_figure(bytes_io, **kw)\n",
      "/Users/robinyu/.local/share/virtualenvs/JupyterNotebook-5PCSqSH0/lib/python3.9/site-packages/IPython/core/pylabtools.py:151: UserWarning: Glyph 21335 (\\N{CJK UNIFIED IDEOGRAPH-5357}) missing from current font.\n",
      "  fig.canvas.print_figure(bytes_io, **kw)\n"
     ]
    },
    {
     "data": {
      "image/png": "[encoded data removed]",
      "text/plain": [
       "<Figure size 800x500 with 1 Axes>"
      ]
     },
     "metadata": {},
     "output_type": "display_data"
    }
   ],
   "source": [
    "#定义显示数值标签函数\n",
    "def autolabel(fig):\n",
    "    for f in fig:\n",
    "        height = f.get_height()\n",
    "        plt.text(f.get_x()+f.get_width()/2.-0.2, \n",
    "                 1.03*height, '%s' % int(height))   \n",
    "area_top=area.sort_values(ascending=False)[:10]\n",
    "d=dict(area_top)\n",
    "plt.figure(figsize=(8,5))\n",
    "fig=plt.bar(d.keys(), d.values())\n",
    "autolabel(fig)   \n",
    "plt.title(\"上市公司总数排名前十省份\",fontsize=15)\n",
    "plt.ylim(0,850)\n",
    "plt.show()\n",
    "#注意，数据不包含港澳台"
   ]
  },
  {
   "cell_type": "code",
   "execution_count": 24,
   "metadata": {},
   "outputs": [
    {
     "name": "stdout",
     "output_type": "stream",
     "text": [
      "前五个省份上市公司总数占比59.32%\n",
      "前十个省份上市公司总数占比77.62%\n"
     ]
    }
   ],
   "source": [
    "top5 = (area.sort_values(ascending=False)[:5].sum()/area.sum()) * 100\n",
    "top10 = (area.sort_values(ascending=False)[:10].sum()/area.sum()) * 100\n",
    "print(\"前五个省份上市公司总数占比{:.2f}%\".format(top5))\n",
    "print(\"前十个省份上市公司总数占比{:.2f}%\".format(top10))"
   ]
  },
  {
   "cell_type": "code",
   "execution_count": 25,
   "metadata": {},
   "outputs": [
    {
     "ename": "KeyError",
     "evalue": "'Column not found: totalAssets'",
     "output_type": "error",
     "traceback": [
      "\u001b[0;31m---------------------------------------------------------------------------\u001b[0m",
      "\u001b[0;31mKeyError\u001b[0m                                  Traceback (most recent call last)",
      "\u001b[1;32m/Users/robinyu/Workspace/JupyterNotebook/Quant/02金融数据/2.上市公司知多少.ipynb Cell 10\u001b[0m in \u001b[0;36m<cell line: 2>\u001b[0;34m()\u001b[0m\n\u001b[1;32m      <a href='vscode-notebook-cell:/Users/robinyu/Workspace/JupyterNotebook/Quant/02%E9%87%91%E8%9E%8D%E6%95%B0%E6%8D%AE/2.%E4%B8%8A%E5%B8%82%E5%85%AC%E5%8F%B8%E7%9F%A5%E5%A4%9A%E5%B0%91.ipynb#X13sZmlsZQ%3D%3D?line=0'>1</a>\u001b[0m \u001b[39m#对上市公司的总资产根据地区分类汇总\u001b[39;00m\n\u001b[0;32m----> <a href='vscode-notebook-cell:/Users/robinyu/Workspace/JupyterNotebook/Quant/02%E9%87%91%E8%9E%8D%E6%95%B0%E6%8D%AE/2.%E4%B8%8A%E5%B8%82%E5%85%AC%E5%8F%B8%E7%9F%A5%E5%A4%9A%E5%B0%91.ipynb#X13sZmlsZQ%3D%3D?line=1'>2</a>\u001b[0m totalAssets\u001b[39m=\u001b[39mbasics_data\u001b[39m.\u001b[39;49mgroupby(\u001b[39m'\u001b[39;49m\u001b[39marea\u001b[39;49m\u001b[39m'\u001b[39;49m)[\u001b[39m'\u001b[39;49m\u001b[39mtotalAssets\u001b[39;49m\u001b[39m'\u001b[39;49m]\u001b[39m.\u001b[39msum()\n\u001b[1;32m      <a href='vscode-notebook-cell:/Users/robinyu/Workspace/JupyterNotebook/Quant/02%E9%87%91%E8%9E%8D%E6%95%B0%E6%8D%AE/2.%E4%B8%8A%E5%B8%82%E5%85%AC%E5%8F%B8%E7%9F%A5%E5%A4%9A%E5%B0%91.ipynb#X13sZmlsZQ%3D%3D?line=2'>3</a>\u001b[0m \u001b[39m#单位转换为万亿元，保留四位小数\u001b[39;00m\n\u001b[1;32m      <a href='vscode-notebook-cell:/Users/robinyu/Workspace/JupyterNotebook/Quant/02%E9%87%91%E8%9E%8D%E6%95%B0%E6%8D%AE/2.%E4%B8%8A%E5%B8%82%E5%85%AC%E5%8F%B8%E7%9F%A5%E5%A4%9A%E5%B0%91.ipynb#X13sZmlsZQ%3D%3D?line=3'>4</a>\u001b[0m totalAssets\u001b[39m=\u001b[39m\u001b[39mround\u001b[39m(totalAssets\u001b[39m/\u001b[39m\u001b[39m10\u001b[39m\u001b[39m*\u001b[39m\u001b[39m*\u001b[39m\u001b[39m8\u001b[39m,\u001b[39m4\u001b[39m) \n",
      "File \u001b[0;32m~/.local/share/virtualenvs/JupyterNotebook-5PCSqSH0/lib/python3.9/site-packages/pandas/core/groupby/generic.py:1338\u001b[0m, in \u001b[0;36mDataFrameGroupBy.__getitem__\u001b[0;34m(self, key)\u001b[0m\n\u001b[1;32m   1329\u001b[0m \u001b[39mif\u001b[39;00m \u001b[39misinstance\u001b[39m(key, \u001b[39mtuple\u001b[39m) \u001b[39mand\u001b[39;00m \u001b[39mlen\u001b[39m(key) \u001b[39m>\u001b[39m \u001b[39m1\u001b[39m:\n\u001b[1;32m   1330\u001b[0m     \u001b[39m# if len == 1, then it becomes a SeriesGroupBy and this is actually\u001b[39;00m\n\u001b[1;32m   1331\u001b[0m     \u001b[39m# valid syntax, so don't raise warning\u001b[39;00m\n\u001b[1;32m   1332\u001b[0m     warnings\u001b[39m.\u001b[39mwarn(\n\u001b[1;32m   1333\u001b[0m         \u001b[39m\"\u001b[39m\u001b[39mIndexing with multiple keys (implicitly converted to a tuple \u001b[39m\u001b[39m\"\u001b[39m\n\u001b[1;32m   1334\u001b[0m         \u001b[39m\"\u001b[39m\u001b[39mof keys) will be deprecated, use a list instead.\u001b[39m\u001b[39m\"\u001b[39m,\n\u001b[1;32m   1335\u001b[0m         \u001b[39mFutureWarning\u001b[39;00m,\n\u001b[1;32m   1336\u001b[0m         stacklevel\u001b[39m=\u001b[39mfind_stack_level(),\n\u001b[1;32m   1337\u001b[0m     )\n\u001b[0;32m-> 1338\u001b[0m \u001b[39mreturn\u001b[39;00m \u001b[39msuper\u001b[39;49m()\u001b[39m.\u001b[39;49m\u001b[39m__getitem__\u001b[39;49m(key)\n",
      "File \u001b[0;32m~/.local/share/virtualenvs/JupyterNotebook-5PCSqSH0/lib/python3.9/site-packages/pandas/core/base.py:250\u001b[0m, in \u001b[0;36mSelectionMixin.__getitem__\u001b[0;34m(self, key)\u001b[0m\n\u001b[1;32m    248\u001b[0m \u001b[39melse\u001b[39;00m:\n\u001b[1;32m    249\u001b[0m     \u001b[39mif\u001b[39;00m key \u001b[39mnot\u001b[39;00m \u001b[39min\u001b[39;00m \u001b[39mself\u001b[39m\u001b[39m.\u001b[39mobj:\n\u001b[0;32m--> 250\u001b[0m         \u001b[39mraise\u001b[39;00m \u001b[39mKeyError\u001b[39;00m(\u001b[39mf\u001b[39m\u001b[39m\"\u001b[39m\u001b[39mColumn not found: \u001b[39m\u001b[39m{\u001b[39;00mkey\u001b[39m}\u001b[39;00m\u001b[39m\"\u001b[39m)\n\u001b[1;32m    251\u001b[0m     subset \u001b[39m=\u001b[39m \u001b[39mself\u001b[39m\u001b[39m.\u001b[39mobj[key]\n\u001b[1;32m    252\u001b[0m     ndim \u001b[39m=\u001b[39m subset\u001b[39m.\u001b[39mndim\n",
      "\u001b[0;31mKeyError\u001b[0m: 'Column not found: totalAssets'"
     ]
    }
   ],
   "source": [
    "#对上市公司的总资产根据地区分类汇总\n",
    "totalAssets=basics_data.groupby('area')['totalAssets'].sum()\n",
    "#单位转换为万亿元，保留四位小数\n",
    "totalAssets=round(totalAssets/10**8,4) \n",
    "#排序选出前十大省市\n",
    "totalAssets.sort_values(ascending=False)[:10]"
   ]
  }
 ],
 "metadata": {
  "kernelspec": {
   "display_name": "Python 3.9.13 ('JupyterNotebook-5PCSqSH0')",
   "language": "python",
   "name": "python3"
  },
  "language_info": {
   "codemirror_mode": {
    "name": "ipython",
    "version": 3
   },
   "file_extension": ".py",
   "mimetype": "text/x-python",
   "name": "python",
   "nbconvert_exporter": "python",
   "pygments_lexer": "ipython3",
   "version": "3.9.13"
  },
  "orig_nbformat": 4,
  "vscode": {
   "interpreter": {
    "hash": "c57bdfac97ca45c05f862af0e07e2a609dfb06d83bc5ec7dd8d02f8ae1750a09"
   }
  }
 },
 "nbformat": 4,
 "nbformat_minor": 2
}
