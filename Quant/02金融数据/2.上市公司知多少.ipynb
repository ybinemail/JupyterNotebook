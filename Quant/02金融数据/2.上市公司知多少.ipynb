{
 "cells": [
  {
   "cell_type": "markdown",
   "metadata": {},
   "source": [
    "# 基本信息统计\n",
    "改革开放四十年，资本市场风风雨雨也有二十余载，我们的生活、工作甚至心情与股票市场的联系也越来越紧密。最近一则新闻报道上交所向中学生普及金融证券知识，网友评论道：“培养韭菜从娃娃抓起！”。言归正传，我们对A股上市公司到底认识多少？下面使用Python带领大家一步步进入探寻之旅。"
   ]
  },
  {
   "cell_type": "markdown",
   "metadata": {},
   "source": [
    "## 获取数据\n",
    "主要使用tushare包获取A股所有上市公司截至目前（2018年11月26日）的基本面数据，分析相关特征和可视化，挖掘数据背后隐藏的信息。"
   ]
  },
  {
   "cell_type": "code",
   "execution_count": 1,
   "metadata": {},
   "outputs": [],
   "source": [
    "import pandas as pd\n",
    "import numpy as np\n",
    "import tushare as ts\n",
    "import matplotlib.pyplot as plt\n",
    "from scipy import stats\n"
   ]
  }
 ],
 "metadata": {
  "kernelspec": {
   "display_name": "Python 3.9.13 ('JupyterNotebook-5PCSqSH0')",
   "language": "python",
   "name": "python3"
  },
  "language_info": {
   "codemirror_mode": {
    "name": "ipython",
    "version": 3
   },
   "file_extension": ".py",
   "mimetype": "text/x-python",
   "name": "python",
   "nbconvert_exporter": "python",
   "pygments_lexer": "ipython3",
   "version": "3.9.13"
  },
  "orig_nbformat": 4,
  "vscode": {
   "interpreter": {
    "hash": "c57bdfac97ca45c05f862af0e07e2a609dfb06d83bc5ec7dd8d02f8ae1750a09"
   }
  }
 },
 "nbformat": 4,
 "nbformat_minor": 2
}
