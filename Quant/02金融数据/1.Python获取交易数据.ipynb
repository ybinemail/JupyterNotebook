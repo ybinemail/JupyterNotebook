{
 "cells": [
  {
   "cell_type": "markdown",
   "metadata": {},
   "source": [
    "# 数据接口\n",
    "\n",
    "目前有不少支持Python接口的金融数据库，比如Tushare、AKshare、Baostock、wind等，都可以获得国内股票、基金、期货、利率等数据。\n",
    "\n",
    "\n",
    "## 1.Tushare社区\n",
    "公众号上不少文章使用了tushare库获取财经和股票交易数据，当时用的是旧版本（tushare）。Tushare社区目前主要维护新版本：tushare pro，数据更稳定质量更高，可获取沪深股票行情、财务、市场参考等数据，以及指数（含国外股指）、基金、期货、期权、宏观经济、行业经济等财经数据，为金融量化爱好者节省了大量宝贵时间。\n",
    "\n",
    "此外，近期还增加了新闻联播的文本数据，为文本分析和数据挖掘提供了很好的素材。不过，新版本需要注册获取token才能免费使用，\n",
    "\n",
    "注册网址： https://tushare.pro/register?reg=218422 。\n",
    "\n",
    "安装（进入cmd模式）：pip install tushare，或升级：pip install tushare --upgrade。\n",
    "\n",
    "下面以股票行情数据为例，展示下tushare如何获取数据。股票行情数据以股票行情数据为例，简要介绍如何获取数据。"
   ]
  },
  {
   "cell_type": "code",
   "execution_count": null,
   "metadata": {},
   "outputs": [],
   "source": [
    "#先引入后面分析、可视化等可能用到的库\n",
    "import tushare as ts\n",
    "\n",
    "import pandas as pd  \n",
    "import matplotlib.pyplot as plt\n",
    "#正常显示画图时出现的中文和负号\n",
    "from pylab import mpl\n",
    "mpl.rcParams['font.sans-serif']=['SimHei']\n",
    "mpl.rcParams['axes.unicode_minus']=False\n",
    "\n",
    "#设置token\n",
    "token='你的token'\n",
    "#ts.set_token(token)\n",
    "pro = ts.pro_api(token)"
   ]
  },
  {
   "cell_type": "markdown",
   "metadata": {},
   "source": [
    "个股行情数据：`pro.stock_basic()`\n",
    "参数：\n",
    "* is_hs：是否沪深港通标的，N否、H沪股通、S深股通；\n",
    "* list_status：上市状态，L上市、D退市、P暂停上市；\n",
    "* exchange：交易所 SSE上交所，SZSE深交所，HKEX港交所。 \n",
    "\n",
    "`pro.daily(ts_code= 或 trade_date=)`\n",
    "* 日行情：daily;\n",
    "* 周行情：weekly;\n",
    "* 月行情：monthly"
   ]
  },
  {
   "cell_type": "code",
   "execution_count": null,
   "metadata": {},
   "outputs": [],
   "source": [
    "#获取当前上市的股票代码、简称、注册地、行业、上市时间等数据\n",
    "basic=pro.stock_basic(list_status='L')\n",
    "#查看前五行数据\n",
    "#basic.head(5)\n",
    "\n",
    "#获取平安银行日行情数据\n",
    "pa=pro.daily(ts_code='000001.SZ', start_date='20180101',\n",
    "               end_date='20190106')\n",
    "#pa.head()\n",
    "\n",
    "#K线图可视化\n",
    "from pyecharts import Kline\n",
    "pa.index=pd.to_datetime(pa.trade_date)\n",
    "pa=pa.sort_index()\n",
    "v1=list(pa.loc[:,['open','close','low','high']].values)\n",
    "t=pa.index\n",
    "v0=list(t.strftime('%Y%m%d'))\n",
    "kline = Kline(\"平安银行K线图\",title_text_size=15)\n",
    "kline.add(\"\", v0, v1,is_datazoom_show=True,\n",
    "         mark_line=[\"average\"],\n",
    "         mark_point=[\"max\", \"min\"],\n",
    "         mark_point_symbolsize=60,\n",
    "         mark_line_valuedim=['highest', 'lowest'] )\n",
    "#kline.render(\"上证指数图.html\")\n",
    "\n",
    "kline"
   ]
  },
  {
   "cell_type": "code",
   "execution_count": null,
   "metadata": {},
   "outputs": [],
   "source": [
    "#定义获取多只股票函数：\n",
    "def get_stocks_data(stocklist,start,end):\n",
    "    all_data={}\n",
    "    for code in stocklist:\n",
    "        all_data[code]=pro.daily(ts_code=code,\n",
    "                 start_date=start, end_date=end)\n",
    "    return all_data\n",
    "\n",
    "#保存本地\n",
    "def save_data(all_data):\n",
    "    for code,data in all_data.items():\n",
    "        data.to_csv('c:/zjy/stock_data/'+code+'.csv',\n",
    "                     header=True, index=False)\n",
    "\n",
    "stocklist=list(basic.ts_code)[:15]\n",
    "start=''\n",
    "end=''\n",
    "all_data=get_stocks_data(stocklist,start,end)\n",
    "\n",
    "all_data['000002.SZ'].tail()\n",
    "\n",
    "#将数据保存到本地\n",
    "save_data(all_data)\n",
    "\n",
    "#读取本地文件夹里所有文件\n",
    "import os\n",
    "#文件存储路径\n",
    "file='c:/zjy/stock_data/'\n",
    "g=os.walk(file)\n",
    "filenames=[]\n",
    "for path,d,filelist in g:\n",
    "    for filename in filelist:\n",
    "        filenames.append(os.path.join(filename))\n",
    "print(filenames)\n",
    "\n",
    "#将读取的数据文件放入一个字典中\n",
    "df={}\n",
    "#从文件名中分离出股票代码\n",
    "code=[name.split('.')[0] for name in filenames]\n",
    "for i in range(len(filenames)):\n",
    "    filename=file+filenames[i]\n",
    "    df[code[i]]=pd.read_csv(filename)\n",
    "\n",
    "#查看第一只股票前五行数据\n",
    "#df[code[0]].head()"
   ]
  },
  {
   "cell_type": "markdown",
   "metadata": {},
   "source": [
    "指数数据：`pro.index_daily(ts_code=)`"
   ]
  },
  {
   "cell_type": "code",
   "execution_count": null,
   "metadata": {},
   "outputs": [],
   "source": [
    "def get_index_data(indexs):\n",
    "    '''indexs是字典格式'''\n",
    "    index_data={}\n",
    "    for name,code in indexs.items():\n",
    "        df=pro.index_daily(ts_code=code)\n",
    "        df.index=pd.to_datetime(df.trade_date)   \n",
    "        index_data[name]=df.sort_index()\n",
    "    return index_data\n",
    "\n",
    "#获取常见股票指数行情\n",
    "indexs={'上证综指': '000001.SH','深证成指': '399001.SZ',\n",
    "         '沪深300': '000300.SH','创业板指': '399006.SZ',\n",
    "          '上证50': '000016.SH', '中证500': '000905.SH',\n",
    "         '中小板指': '399005.SZ','上证180': '000010.SH'}\n",
    "index_data=get_index_data(indexs)\n",
    "#index_data['上证综指'].head()\n",
    "\n",
    "#对股价走势进行可视化分析\n",
    "subjects =list(index_data.keys())\n",
    "#每个子图的title\n",
    "plot_pos = [421,422,423,424,425,426,427,428] \n",
    "# 每个子图的位置\n",
    "new_colors = ['#1f77b4','#ff7f0e', '#2ca02c', \n",
    "'#d62728','#9467bd','#8c564b', '#e377c2', \n",
    "'#7f7f7f','#bcbd22','#17becf']\n",
    "\n",
    "fig = plt.figure(figsize=(16,18))\n",
    "fig.suptitle('A股股指走势',fontsize=18)\n",
    "for pos in np.arange(len(plot_pos)):       \n",
    "    ax = fig.add_subplot(plot_pos[pos]) \n",
    "    y_data =index_data[subjects[pos]]['close']    \n",
    "    b = ax.plot(y_data,color=new_colors[pos])   \n",
    "    ax.set_title(subjects[pos])    \n",
    "    # 将右上边的两条边颜色设置为空，相当于抹掉这两条边\n",
    "    ax = plt.gca()  \n",
    "    ax.spines['right'].set_color('none') \n",
    "    ax.spines['top'].set_color('none')    \n",
    "plt.show()  "
   ]
  },
  {
   "cell_type": "markdown",
   "metadata": {},
   "source": [
    "## 2.Baostock 证券宝\n",
    "baostock也是免费、开源的证券数据平台。提供了大量准确、完整的证券历史行情数据、上市公司财务数据等。通过python API获取证券数据信息，可以满足量化交易投资者、数量金融爱好者、计量经济从业者数据需求。返回的数据格式：pandas DataFrame类型，以便于用pandas/NumPy/Matplotlib进行数据分析和可视化。\n",
    "\n",
    "证券宝链接地址:\n",
    "\n",
    "http://baostock.com/baostock/index.php/Python_API文档。\n",
    "\n",
    "安装：进入cmd模式，pip install baostock"
   ]
  },
  {
   "cell_type": "code",
   "execution_count": null,
   "metadata": {},
   "outputs": [],
   "source": [
    "import baostock as bs\n",
    "#### 登陆系统 ####\n",
    "lg = bs.login()\n",
    "\n",
    "#### 获取历史K线数据 ####\n",
    "# query_history_k_data()\n",
    "fields= \"date,code,open,high,low,close\"\n",
    "rs = bs.query_history_k_data(\"sh.000001\", fields,\n",
    "    start_date='2000-01-01', end_date='2018-09-07', \n",
    "    frequency=\"d\", adjustflag=\"2\") \n",
    "#frequency=\"d\"取日k线，adjustflag=\"3\"默认不复权，\n",
    "#1：后复权；2：前复权\n",
    "\n",
    "data_list = []\n",
    "while (rs.error_code == '0') & rs.next():\n",
    "    # 获取一条记录，将记录合并在一起\n",
    "    data_list.append(rs.get_row_data())\n",
    "result = pd.DataFrame(data_list, columns=rs.fields)\n",
    "result.index=pd.to_datetime(result.date)\n",
    "#### 结果集输出到csv文件 ####\n",
    "#result.to_csv(\"c:/zjy/history_k_data.csv\", \n",
    "#        encoding=\"gbk\", index=False)\n",
    "result.head()\n",
    "#### 登出系统 ####\n",
    "#bs.logout()\n",
    "\n",
    "result.info()\n",
    "\n",
    "#将某些object转化numeric\n",
    "result=result.apply(pd.to_numeric, errors='ignore')\n",
    "result.info()\n",
    "\n",
    "result.close.plot(figsize=(16,8))\n",
    "ax = plt.gca()  \n",
    "ax.spines['right'].set_color('none') \n",
    "ax.spines['top'].set_color('none')    \n",
    "plt.show() "
   ]
  },
  {
   "cell_type": "markdown",
   "metadata": {},
   "source": [
    "## 3.AKshare\n",
    "\n",
    "### 什么是AKshare？\n",
    "先简单介绍下AKShare，内容转自官网。\n",
    "\n",
    "AKShare 是基于 Python 的开源金融数据接口库，目的是实现对股票、期货、期权、基金、债券、外汇等金融产品和另类数据从数据采集，数据清洗到数据下载的工具，满足金融数据科学家、数据科学爱好者在数据获取方面的需求。\n",
    "\n",
    "它的特点是利用 AKShare 获取的是基于可信任数据源发布的原始数据，广大数据科学家可以利用原始数据进行再加工，从而得出科学的结论。\n",
    "\n",
    "代码语法符合 PEP8 规范, 数据接口的命名统一;\n",
    "最佳支持 Python 3.7.5 及其以上版本;\n",
    "提供最佳的文档支持, 每个数据接口提供详细的说明和示例, 只需要复制粘贴就可以下载数据;\n",
    "持续维护由于目标网页变化而导致的部分数据接口运行异常问题;\n",
    "持续更新财经数据接口, 同时优化源代码;\n",
    "如何安装AKShare？\n",
    "\n",
    "> pip install akshare\n",
    "\n",
    "AKShare作为python库可以直接通过pip安装，十分快捷。\n",
    "\n",
    "### 如何使用AKShare？\n",
    "首先要导入AKShare库，然后通过接口函数，获取相应的数据。\n",
    "\n",
    "最好是在jupyter notebook或者lab环境中来操作，可以很方便地查看和分析数据。\n",
    "\n",
    "以获取A股公司列表数据为例："
   ]
  },
  {
   "cell_type": "code",
   "execution_count": null,
   "metadata": {},
   "outputs": [],
   "source": [
    "import akshare as ak\n",
    "stock_info_a_code_name_df = ak.stock_info_a_code_name()\n",
    "stock_info_a_code_name_df"
   ]
  },
  {
   "cell_type": "markdown",
   "metadata": {},
   "source": [
    "目前AKshare数据来源比较多元，接口相对杂乱，大家在使用用过程中需注意检查数据的准确性。\n",
    "\n",
    "接下来，罗列一些常用的数据接口，供参考使用。\n",
    "\n",
    "获取A 股上市公司实时行情数据\n",
    "该数据来源新浪，使用时候注意频率，不然会被封IP"
   ]
  },
  {
   "cell_type": "code",
   "execution_count": null,
   "metadata": {},
   "outputs": [],
   "source": [
    "import akshare as ak\n",
    "stock_zh_a_spot_df = ak.stock_zh_a_spot()\n",
    "stock_zh_a_spot_df"
   ]
  },
  {
   "cell_type": "markdown",
   "metadata": {},
   "source": [
    "获取某股票历史行情数据\n",
    "以浦发银行（sh600000）为例："
   ]
  },
  {
   "cell_type": "code",
   "execution_count": null,
   "metadata": {},
   "outputs": [],
   "source": [
    "import akshare as ak\n",
    "stock_zh_a_daily_qfq_df = ak.stock_zh_a_daily(symbol=\"sh600000\", adjust=\"hfq\")\n",
    "stock_zh_a_daily_qfq_df"
   ]
  },
  {
   "cell_type": "markdown",
   "metadata": {},
   "source": [
    "获取公募开放式基金数据"
   ]
  },
  {
   "cell_type": "code",
   "execution_count": null,
   "metadata": {},
   "outputs": [],
   "source": [
    "import akshare as ak\n",
    "fund_em_open_fund_daily_df = ak.fund_em_open_fund_daily()\n",
    "fund_em_open_fund_daily_df"
   ]
  },
  {
   "cell_type": "markdown",
   "metadata": {},
   "source": [
    "上面简单列举了几个数据接口，AKshare还提供了大量的股票、基金、期货等数据，大家可以去探索下。"
   ]
  }
 ],
 "metadata": {
  "kernelspec": {
   "display_name": "Python 3.9.13 ('JupyterNotebook-5PCSqSH0')",
   "language": "python",
   "name": "python3"
  },
  "language_info": {
   "name": "python",
   "version": "3.9.13"
  },
  "orig_nbformat": 4,
  "vscode": {
   "interpreter": {
    "hash": "c57bdfac97ca45c05f862af0e07e2a609dfb06d83bc5ec7dd8d02f8ae1750a09"
   }
  }
 },
 "nbformat": 4,
 "nbformat_minor": 2
}
