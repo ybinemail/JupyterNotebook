{
 "cells": [
  {
   "cell_type": "markdown",
   "metadata": {},
   "source": [
    "# Pandas简述\n",
    "\n",
    "## 一、Pandas介绍\n",
    "终于写到了作者最想介绍，同时也是Python在数据处理方面功能最为强大的扩展模块了。在处理实际的金融数据时，一个条数据通常包含了多种类型的数据，例如，股票的代码是字符串，收盘价是浮点型，而成交量是整型等。在C++中可以实现为一个给定结构体作为单元的容器，如向量（vector，C++中的特定数据结构）。在Python中，pandas包含了高级的数据结构Series和DataFrame，使得在Python中处理数据变得非常方便、快速和简单。\n",
    "\n",
    "pandas主要的两个数据结构是`Series`和DataFrame`，随后两节将介绍如何由其他类型的数据结构得到这两种数据结构，或者自行创建这两种数据结构，我们先导入它们以及相关模块："
   ]
  },
  {
   "cell_type": "code",
   "execution_count": 119,
   "metadata": {},
   "outputs": [],
   "source": [
    "import numpy as np\n",
    "from pandas import Series, DataFrame\n",
    "import pandas as pd"
   ]
  },
  {
   "cell_type": "markdown",
   "metadata": {},
   "source": [
    "## 二、Pandas数据结构：Series\n",
    "从一般意义上来讲，`Series`可以简单地被认为是一维的数组。`Series`和一维数组最主要的区别在于Series类型具有索引（`index`），可以和另一个编程中常见的数据结构哈希（Hash）联系起来。\n",
    "\n",
    "### 2.1 创建Series\n",
    "创建一个Series的基本格式是`s = Series(data, index=index, name=name)`，以下给出几个创建Series的例子。首先我们从数组创建Series："
   ]
  },
  {
   "cell_type": "code",
   "execution_count": 120,
   "metadata": {},
   "outputs": [
    {
     "name": "stdout",
     "output_type": "stream",
     "text": [
      "A is an array:\n",
      " [ 1.62434536 -0.61175641 -0.52817175 -1.07296862  0.86540763]\n",
      "S is a Series:\n",
      " 0    1.624345\n",
      "1   -0.611756\n",
      "2   -0.528172\n",
      "3   -1.072969\n",
      "4    0.865408\n",
      "dtype: float64\n",
      "index:  RangeIndex(start=0, stop=5, step=1)\n",
      "values:  [ 1.62434536 -0.61175641 -0.52817175 -1.07296862  0.86540763]\n"
     ]
    }
   ],
   "source": [
    "np.random.seed(1)     #使用随机种子，这样每次运行random结果一致，\n",
    "A=np.random.randn(5)  \n",
    "print(\"A is an array:\\n\",A)\n",
    "S = pd.Series(A)\n",
    "print(\"S is a Series:\\n\",S)\n",
    "print(\"index: \", S.index)  #默认创建索引，注意是从0开始\n",
    "print(\"values: \", S.values)"
   ]
  },
  {
   "cell_type": "markdown",
   "metadata": {},
   "source": [
    "可以在创建`Series`时添加`index`，并可使用`Series.index`查看具体的`index`。需要注意的一点是，当从数组创建`Series`时，若指定`index`，那么`index`长度要和`data`的长度一致："
   ]
  },
  {
   "cell_type": "code",
   "execution_count": 121,
   "metadata": {},
   "outputs": [
    {
     "name": "stdout",
     "output_type": "stream",
     "text": [
      "a   -0.416758\n",
      "b   -0.056267\n",
      "c   -2.136196\n",
      "d    1.640271\n",
      "e   -1.793436\n",
      "dtype: float64\n"
     ]
    },
    {
     "data": {
      "text/plain": [
       "Index(['a', 'b', 'c', 'd', 'e'], dtype='object')"
      ]
     },
     "execution_count": 121,
     "metadata": {},
     "output_type": "execute_result"
    }
   ],
   "source": [
    "np.random.seed(2)\n",
    "s=Series(np.random.randn(5),index=['a','b','c','d','e'])\n",
    "print (s)\n",
    "s.index"
   ]
  },
  {
   "cell_type": "markdown",
   "metadata": {},
   "source": [
    "`Series`还可以从`字典（dict）`创建："
   ]
  },
  {
   "cell_type": "code",
   "execution_count": 122,
   "metadata": {},
   "outputs": [
    {
     "name": "stdout",
     "output_type": "stream",
     "text": [
      "中国平安    601318\n",
      "格力电器    000651\n",
      "招商银行    600036\n",
      "中信证券    600030\n",
      "贵州茅台    600519\n",
      "dtype: object\n"
     ]
    }
   ],
   "source": [
    "stocks={'中国平安':'601318','格力电器':'000651','招商银行':'600036',\n",
    "        '中信证券':'600030','贵州茅台':'600519'}\n",
    "Series_stocks = Series(stocks)\n",
    "print (Series_stocks)"
   ]
  },
  {
   "cell_type": "markdown",
   "metadata": {},
   "source": [
    "让我们来看看使用字典创建`Series`时指定`index`的情形（`index长度不必和字典相同`）："
   ]
  },
  {
   "cell_type": "code",
   "execution_count": 123,
   "metadata": {},
   "outputs": [
    {
     "data": {
      "text/plain": [
       "中国平安    601318\n",
       "格力电器    000651\n",
       "招商银行    600036\n",
       "中信证券    600030\n",
       "工业富联       NaN\n",
       "dtype: object"
      ]
     },
     "execution_count": 123,
     "metadata": {},
     "output_type": "execute_result"
    }
   ],
   "source": [
    "Series(stocks, index=['中国平安', '格力电器', '招商银行', '中信证券','工业富联'])\n",
    "#注意，在原来的stocks（dict）里没有‘工业富联’，因此值为‘NaN’"
   ]
  },
  {
   "cell_type": "markdown",
   "metadata": {},
   "source": [
    "给数据序列和index命名："
   ]
  },
  {
   "cell_type": "code",
   "execution_count": 124,
   "metadata": {},
   "outputs": [
    {
     "name": "stdout",
     "output_type": "stream",
     "text": [
      "股票名称\n",
      "中国平安    601318\n",
      "格力电器    000651\n",
      "招商银行    600036\n",
      "中信证券    600030\n",
      "贵州茅台    600519\n",
      "Name: 股票代码, dtype: object\n"
     ]
    }
   ],
   "source": [
    "Series_stocks.name='股票代码'        #注意python是使用.号来连接和调用\n",
    "Series_stocks.index.name='股票名称'\n",
    "print(Series_stocks)"
   ]
  },
  {
   "cell_type": "markdown",
   "metadata": {},
   "source": [
    "我们可以观察到两点：\n",
    "* 一是字典创建的Series，数据将按index的顺序重新排列；\n",
    "* 二是index长度可以和字典长度不一致，如果多了的话，pandas将自动为多余的index分配NaN（not a number，pandas中数据缺失的标准记号)，当然index少的话就截取部分的字典内容。\n",
    "\n",
    "如果数据就是一个单一的变量，如数字4，那么Series将重复这个变量："
   ]
  },
  {
   "cell_type": "code",
   "execution_count": 125,
   "metadata": {},
   "outputs": [
    {
     "data": {
      "text/plain": [
       "a    4.0\n",
       "b    4.0\n",
       "c    4.0\n",
       "d    4.0\n",
       "e    4.0\n",
       "dtype: float64"
      ]
     },
     "execution_count": 125,
     "metadata": {},
     "output_type": "execute_result"
    }
   ],
   "source": [
    "Series(4., index=['a', 'b', 'c', 'd', 'e'])"
   ]
  },
  {
   "cell_type": "markdown",
   "metadata": {},
   "source": [
    "### 2.2 Series数据的访问\n",
    "Series对象的下标运算同时支持位置和标签两种方式，还可以使用一些条件过滤："
   ]
  },
  {
   "cell_type": "code",
   "execution_count": 126,
   "metadata": {},
   "outputs": [
    {
     "data": {
      "text/plain": [
       "e   -0.277388\n",
       "a    1.788628\n",
       "dtype: float64"
      ]
     },
     "execution_count": 126,
     "metadata": {},
     "output_type": "execute_result"
    }
   ],
   "source": [
    "np.random.seed(3)\n",
    "data=np.random.randn(5)\n",
    "s = Series(data,index=['a', 'b', 'c', 'd', 'e'])\n",
    "s\n",
    "s[:2]   #取出第0、1行数据\n",
    "s[[2,0,4]]  #取出第2、0、4行数据\n",
    "s[['e', 'a']] #取出‘e’、‘a’对应数据"
   ]
  },
  {
   "cell_type": "markdown",
   "metadata": {},
   "source": [
    "### 1.3 Series排序函数\n",
    "\n",
    "根据索引返回已排序的新对象：\n",
    "Series.sort_index(ascending=True)\n",
    "\n",
    "根据值返回已排序的对象，NaN值在末尾：\n",
    "Series.sort_values(ascending=True)\n",
    "\n",
    "为各组分配一个平均排名：\n",
    "Series.rank(method='average',ascending=True,axis=0)  \n",
    "rank的method选项：  \n",
    "'average'：在相等分组中，为各个值分配平均排名  \n",
    "'max','min'：使用整个分组中的最小排名\n",
    "'first'：按值在原始数据中出现的顺序排名\n",
    "\n",
    "返回含有最大值的索引位置：\n",
    "Series.idxmax()\n",
    "\n",
    "返回含有最小值的索引位置：\n",
    "Series.idxmin()\n",
    "\n"
   ]
  },
  {
   "cell_type": "code",
   "execution_count": 127,
   "metadata": {},
   "outputs": [
    {
     "name": "stdout",
     "output_type": "stream",
     "text": [
      "j\n",
      "b\n"
     ]
    }
   ],
   "source": [
    "np.random.seed(3)\n",
    "data=np.random.randn(10)\n",
    "s = Series(data,index=['j','a', 'c','b', 'd', 'e','h','f','g','i'])\n",
    "s\n",
    "\n",
    "#排序\n",
    "s.sort_index(ascending=True) #按index从小到大，False从大到小\n",
    "s.sort_values(ascending=True) # 安装数值进行排序\n",
    "s.rank(method='average',ascending=True,axis=0) #每个数的平均排名\n",
    "\n",
    "#返回含有最大值的索引位置： \n",
    "print(s.idxmax())\n",
    "#返回含有最小值的索引位置： \n",
    "print(s.idxmin())"
   ]
  },
  {
   "cell_type": "markdown",
   "metadata": {},
   "source": [
    "## 三、Pandas数据结构：DataFrame\n",
    "在使用`DataFrame`之前，我们说明一下`DataFrame`的特性。`DataFrame`是将数个`Series`按列合并而成的二维数据结构，每一列单独取出来是一个`Series`，这和SQL数据库中取出的数据是很类似的。所以，按列对一个`DataFrame`进行处理更为方便，用户在编程时注意培养按列构建数据的思维。`DataFrame`的优势在于可以方便地处理不同类型的列，因此，就不要考虑如何对一个全是浮点数的`DataFrame`求逆之类的问题了，处理这种问题还是把数据存成`NumPy`的`matrix`类型比较便利一些。\n",
    "\n",
    "### 3.1 创建`DataFrame`\n",
    "首先来看如何从字典创建`DataFrame`。`DataFrame`是一个二维的数据结构，是多个`Series`的集合体。我们先创建一个值是`Series`的字典，并转换为`DataFrame`："
   ]
  },
  {
   "cell_type": "code",
   "execution_count": 128,
   "metadata": {},
   "outputs": [
    {
     "name": "stdout",
     "output_type": "stream",
     "text": [
      "   one  two  three  four five\n",
      "a  1.0  1.0      0   1.0    f\n",
      "b  2.0  2.0      1   1.0    f\n",
      "c  3.0  3.0      2   1.0    f\n",
      "d  NaN  4.0      3   1.0    f\n",
      "DataFrame index:\n",
      " Index(['a', 'b', 'c', 'd'], dtype='object')\n",
      "DataFrame columns:\n",
      " Index(['one', 'two', 'three', 'four', 'five'], dtype='object')\n",
      "DataFrame values:\n",
      " [[1.0 1.0 0 1.0 'f']\n",
      " [2.0 2.0 1 1.0 'f']\n",
      " [3.0 3.0 2 1.0 'f']\n",
      " [nan 4.0 3 1.0 'f']]\n"
     ]
    }
   ],
   "source": [
    "#通过字典创建DataFrame\n",
    "d={'one':pd.Series([1.,2.,3.],index=['a','b','c']),\n",
    "   'two':pd.Series([1.,2.,3.,4.,],index=['a','b','c','d']),\n",
    "   'three':range(4),\n",
    "   'four':1.,\n",
    "   'five':'f'}\n",
    "df=pd.DataFrame(d)\n",
    "print (df)\n",
    "\n",
    "\n",
    "\n",
    "#可以使用dataframe.index和dataframe.columns来查看DataFrame的行和列，\n",
    "#dataframe.values则以数组的形式返回DataFrame的元素\n",
    "print (\"DataFrame index:\\n\",df.index)\n",
    "print (\"DataFrame columns:\\n\",df.columns)\n",
    "print (\"DataFrame values:\\n\",df.values)"
   ]
  },
  {
   "cell_type": "markdown",
   "metadata": {},
   "source": [
    "可以指定所需的行和列，若字典中不含有对应的元素，则置为`NaN`："
   ]
  },
  {
   "cell_type": "code",
   "execution_count": 129,
   "metadata": {},
   "outputs": [
    {
     "name": "stdout",
     "output_type": "stream",
     "text": [
      "   one  two\n",
      "a  1.0  4.0\n",
      "b  2.0  3.0\n",
      "c  3.0  2.0\n",
      "d  4.0  1.0\n"
     ]
    }
   ],
   "source": [
    "#DataFrame也可以从值是数组的字典创建，但是各个数组的长度需要相同：\n",
    "d = {'one': [1., 2., 3., 4.], 'two': [4., 3., 2., 1.]}\n",
    "df = DataFrame(d, index=['a', 'b', 'c', 'd'])\n",
    "print(df)"
   ]
  },
  {
   "cell_type": "markdown",
   "metadata": {},
   "source": [
    "可以使用`dataframe.index`和`dataframe.columns`来查看`DataFrame`的行和列，`dataframe.values`则以数组的形式返回`DataFrame`的元素："
   ]
  },
  {
   "cell_type": "code",
   "execution_count": 130,
   "metadata": {},
   "outputs": [
    {
     "name": "stdout",
     "output_type": "stream",
     "text": [
      "Index(['a', 'b', 'c', 'd'], dtype='object')\n",
      "Index(['one', 'two'], dtype='object')\n",
      "[[1. 4.]\n",
      " [2. 3.]\n",
      " [3. 2.]\n",
      " [4. 1.]]\n"
     ]
    }
   ],
   "source": [
    "print(df.index)\n",
    "print(df.columns)\n",
    "print(df.values)"
   ]
  },
  {
   "cell_type": "markdown",
   "metadata": {},
   "source": [
    "`DataFrame`也可以从值是数组的字典创建，但是各个数组的长度需要相同："
   ]
  },
  {
   "cell_type": "code",
   "execution_count": 131,
   "metadata": {},
   "outputs": [
    {
     "name": "stdout",
     "output_type": "stream",
     "text": [
      "   one  two\n",
      "a  1.0  4.0\n",
      "b  2.0  3.0\n",
      "c  3.0  2.0\n",
      "d  4.0  1.0\n"
     ]
    }
   ],
   "source": [
    "d = {'one': [1., 2., 3., 4.], 'two': [4., 3., 2., 1.]}\n",
    "df = DataFrame(d,index=['a','b','c','d'])\n",
    "print(df)"
   ]
  },
  {
   "cell_type": "markdown",
   "metadata": {},
   "source": [
    "值非数组时，没有这一限制，并且缺失值补成`NaN`："
   ]
  },
  {
   "cell_type": "code",
   "execution_count": 132,
   "metadata": {},
   "outputs": [
    {
     "name": "stdout",
     "output_type": "stream",
     "text": [
      "     a  b    c\n",
      "0  1.6  2  NaN\n",
      "1  3.0  6  9.0\n"
     ]
    }
   ],
   "source": [
    "d= [{'a': 1.6, 'b': 2}, {'a': 3, 'b': 6, 'c': 9}]\n",
    "df = DataFrame(d)\n",
    "print(df)"
   ]
  },
  {
   "cell_type": "markdown",
   "metadata": {},
   "source": [
    "在实际处理数据时，有时需要创建一个空的`DataFrame`，可以这么做："
   ]
  },
  {
   "cell_type": "code",
   "execution_count": 133,
   "metadata": {},
   "outputs": [
    {
     "name": "stdout",
     "output_type": "stream",
     "text": [
      "Empty DataFrame\n",
      "Columns: []\n",
      "Index: []\n"
     ]
    }
   ],
   "source": [
    "df = DataFrame()\n",
    "print(df)"
   ]
  },
  {
   "cell_type": "markdown",
   "metadata": {},
   "source": [
    "另一种创建`DataFrame`的方法十分有用，那就是使用`concat`函数基于`Series`或者`DataFrame`创建一个`DataFrame`"
   ]
  },
  {
   "cell_type": "code",
   "execution_count": 134,
   "metadata": {},
   "outputs": [
    {
     "name": "stdout",
     "output_type": "stream",
     "text": [
      "   0     1\n",
      "0  0   4.0\n",
      "1  1   8.0\n",
      "2  2  12.0\n",
      "3  3  16.0\n",
      "4  4  20.0\n"
     ]
    }
   ],
   "source": [
    "a = Series(range(5))\n",
    "b = Series(np.linspace(4, 20, 5))\n",
    "df = pd.concat([a, b], axis=1)\n",
    "print(df)"
   ]
  },
  {
   "cell_type": "markdown",
   "metadata": {},
   "source": [
    "其中的`axis=1`表示按列进行合并，`axis=0`表示按行合并，并且，`Series`都处理成一列，所以这里如果选`axis=0`的话，将得到一个10×1的`DataFrame`。下面这个例子展示了如何按行合并`DataFrame`成一个大的`DataFrame`："
   ]
  },
  {
   "cell_type": "code",
   "execution_count": 135,
   "metadata": {},
   "outputs": [
    {
     "name": "stdout",
     "output_type": "stream",
     "text": [
      "         0    1     2     3     4\n",
      "alpha  0.0  0.0   0.0   0.0   0.0\n",
      "beta   1.0  2.0   3.0   4.0   5.0\n",
      "gamma  2.0  4.0   6.0   8.0  10.0\n",
      "delta  3.0  6.0   9.0  12.0  15.0\n",
      "eta    4.0  8.0  12.0  16.0  20.0\n"
     ]
    }
   ],
   "source": [
    "df = DataFrame()\n",
    "index = ['alpha', 'beta', 'gamma', 'delta', 'eta']\n",
    "for i in range(5):\n",
    "    a = DataFrame([np.linspace(i, 5*i, 5)], index=[index[i]])\n",
    "    df = pd.concat([df, a], axis=0)\n",
    "print(df)"
   ]
  },
  {
   "cell_type": "markdown",
   "metadata": {},
   "source": [
    "### 3.2 DataFrame数据的访问\n",
    "首先，再次强调一下`DataFrame`是以列作为操作的基础的，全部操作都想象成先从`DataFrame`里取一列，再从这个`Series`取元素即可。可以用`datafrae.column_name`选取列，也可以使用`dataframe[]`操作选取列，我们可以马上发现前一种方法只能选取一列，而后一种方法可以选择多列。若`DataFrame`没有列名，`[]`可以使用非负整数，也就是`“下标”`选取列；若有列名，则必须使用列名选取，另外`datafrae.column_name`在没有列名的时候是无效的："
   ]
  },
  {
   "cell_type": "code",
   "execution_count": 136,
   "metadata": {},
   "outputs": [
    {
     "name": "stdout",
     "output_type": "stream",
     "text": [
      "df: \n",
      "          0    1     2     3     4\n",
      "alpha  0.0  0.0   0.0   0.0   0.0\n",
      "beta   1.0  2.0   3.0   4.0   5.0\n",
      "gamma  2.0  4.0   6.0   8.0  10.0\n",
      "delta  3.0  6.0   9.0  12.0  15.0\n",
      "eta    4.0  8.0  12.0  16.0  20.0\n",
      "df[1]:\n",
      " alpha    0.0\n",
      "beta     2.0\n",
      "gamma    4.0\n",
      "delta    6.0\n",
      "eta      8.0\n",
      "Name: 1, dtype: float64\n",
      "df: \n",
      "          a    b     c     d     e\n",
      "alpha  0.0  0.0   0.0   0.0   0.0\n",
      "beta   1.0  2.0   3.0   4.0   5.0\n",
      "gamma  2.0  4.0   6.0   8.0  10.0\n",
      "delta  3.0  6.0   9.0  12.0  15.0\n",
      "eta    4.0  8.0  12.0  16.0  20.0\n",
      "df[b]:\n",
      " alpha    0.0\n",
      "beta     2.0\n",
      "gamma    4.0\n",
      "delta    6.0\n",
      "eta      8.0\n",
      "Name: b, dtype: float64\n",
      "df.b:\n",
      " alpha    0.0\n",
      "beta     2.0\n",
      "gamma    4.0\n",
      "delta    6.0\n",
      "eta      8.0\n",
      "Name: b, dtype: float64\n",
      "df[['a','b']]:\n",
      "          a     d\n",
      "alpha  0.0   0.0\n",
      "beta   1.0   4.0\n",
      "gamma  2.0   8.0\n",
      "delta  3.0  12.0\n",
      "eta    4.0  16.0\n"
     ]
    }
   ],
   "source": [
    "df = DataFrame()\n",
    "index = ['alpha', 'beta', 'gamma', 'delta', 'eta']\n",
    "for i in range(5):\n",
    "    a = DataFrame([np.linspace(i, 5*i, 5)], index=[index[i]])\n",
    "    df = pd.concat([df, a], axis=0)\n",
    "print('df: \\n',df)\n",
    "print (\"df[1]:\\n\",df[1])\n",
    "df.columns = ['a', 'b', 'c', 'd', 'e']\n",
    "print('df: \\n',df)\n",
    "print (\"df[b]:\\n\",df['b'])\n",
    "print (\"df.b:\\n\",df.b)\n",
    "print (\"df[['a','b']]:\\n\",df[['a', 'd']])"
   ]
  },
  {
   "cell_type": "markdown",
   "metadata": {},
   "source": [
    "以上代码使用了`dataframe.columns`为`DataFrame`赋列名，并且我们看到单独取一列出来，其数据结构显示的是`Series`，取两列及两列以上的结果仍然是`DataFrame`。访问特定的元素可以如`Series`一样使用下标或者是索引:"
   ]
  },
  {
   "cell_type": "code",
   "execution_count": 137,
   "metadata": {},
   "outputs": [
    {
     "name": "stdout",
     "output_type": "stream",
     "text": [
      "4.0\n",
      "4.0\n"
     ]
    }
   ],
   "source": [
    "print(df['b'][2])\n",
    "print(df['b']['gamma'])"
   ]
  },
  {
   "cell_type": "markdown",
   "metadata": {},
   "source": [
    "若需要选取行，可以使用`dataframe.iloc`按下标选取，或者使用`dataframe.loc`按索引选取：\n",
    "\n",
    "`df.loc['列或行名']，df.iloc[n]第n行，df.iloc[:,n]第n列`"
   ]
  },
  {
   "cell_type": "code",
   "execution_count": 138,
   "metadata": {},
   "outputs": [
    {
     "name": "stdout",
     "output_type": "stream",
     "text": [
      "a    1.0\n",
      "b    2.0\n",
      "c    3.0\n",
      "d    4.0\n",
      "e    5.0\n",
      "Name: beta, dtype: float64\n",
      "a    1.0\n",
      "b    2.0\n",
      "c    3.0\n",
      "d    4.0\n",
      "e    5.0\n",
      "Name: beta, dtype: float64\n"
     ]
    }
   ],
   "source": [
    "print(df.iloc[1])\n",
    "print(df.loc['beta'])"
   ]
  },
  {
   "cell_type": "markdown",
   "metadata": {},
   "source": [
    "选取行还可以使用切片的方式或者是布尔类型的向量："
   ]
  },
  {
   "cell_type": "code",
   "execution_count": 139,
   "metadata": {},
   "outputs": [
    {
     "name": "stdout",
     "output_type": "stream",
     "text": [
      "         a    b    c    d     e\n",
      "beta   1.0  2.0  3.0  4.0   5.0\n",
      "gamma  2.0  4.0  6.0  8.0  10.0\n",
      "         a    b    c     d     e\n",
      "alpha  0.0  0.0  0.0   0.0   0.0\n",
      "gamma  2.0  4.0  6.0   8.0  10.0\n",
      "delta  3.0  6.0  9.0  12.0  15.0\n"
     ]
    }
   ],
   "source": [
    "print(df[1:3])\n",
    "bool_vec = [True, False, True, True, False]\n",
    "print(df[bool_vec])"
   ]
  },
  {
   "cell_type": "markdown",
   "metadata": {},
   "source": [
    "行列组合起来选取数据："
   ]
  },
  {
   "cell_type": "code",
   "execution_count": 140,
   "metadata": {},
   "outputs": [
    {
     "name": "stdout",
     "output_type": "stream",
     "text": [
      "         b     d\n",
      "beta   2.0   4.0\n",
      "delta  6.0  12.0\n",
      "         b     d\n",
      "beta   2.0   4.0\n",
      "delta  6.0  12.0\n",
      "         b     d\n",
      "beta   2.0   4.0\n",
      "delta  6.0  12.0\n"
     ]
    }
   ],
   "source": [
    "print(df[['b', 'd']].iloc[[1, 3]])\n",
    "print(df.iloc[[1, 3]][['b', 'd']])\n",
    "print(df[['b', 'd']].loc[['beta', 'delta']])"
   ]
  },
  {
   "cell_type": "markdown",
   "metadata": {},
   "source": [
    "如果不是需要访问特定行列，而只是某个特殊位置的元素的话，`dataframe.at`和`dataframe.iat`是最快的方式，它们分别用于使用索引和下标进行访问："
   ]
  },
  {
   "cell_type": "code",
   "execution_count": 141,
   "metadata": {},
   "outputs": [
    {
     "name": "stdout",
     "output_type": "stream",
     "text": [
      "8.0\n",
      "8.0\n"
     ]
    }
   ],
   "source": [
    "print(df.iat[2, 3])\n",
    "print(df.at['gamma', 'd'])"
   ]
  },
  {
   "cell_type": "markdown",
   "metadata": {},
   "source": [
    "### 3.3创建时间序列\n",
    "pandas.date_range(start=None, end=None, periods=None, freq='D',\n",
    "   tz=None, normalize=False, name=None, closed=None, **kwargs)"
   ]
  },
  {
   "cell_type": "code",
   "execution_count": 142,
   "metadata": {},
   "outputs": [
    {
     "name": "stdout",
     "output_type": "stream",
     "text": [
      "DatetimeIndex(['2018-01-31', '2018-02-28', '2018-03-31', '2018-04-30',\n",
      "               '2018-05-31', '2018-06-30', '2018-07-31', '2018-08-31',\n",
      "               '2018-09-30', '2018-10-31', '2018-11-30', '2018-12-31'],\n",
      "              dtype='datetime64[ns]', freq='M')\n"
     ]
    },
    {
     "data": {
      "text/html": [
       "<div>\n",
       "<style scoped>\n",
       "    .dataframe tbody tr th:only-of-type {\n",
       "        vertical-align: middle;\n",
       "    }\n",
       "\n",
       "    .dataframe tbody tr th {\n",
       "        vertical-align: top;\n",
       "    }\n",
       "\n",
       "    .dataframe thead th {\n",
       "        text-align: right;\n",
       "    }\n",
       "</style>\n",
       "<table border=\"1\" class=\"dataframe\">\n",
       "  <thead>\n",
       "    <tr style=\"text-align: right;\">\n",
       "      <th></th>\n",
       "      <th>A</th>\n",
       "      <th>B</th>\n",
       "      <th>C</th>\n",
       "      <th>D</th>\n",
       "    </tr>\n",
       "  </thead>\n",
       "  <tbody>\n",
       "    <tr>\n",
       "      <th>2018-01-31</th>\n",
       "      <td>0.441227</td>\n",
       "      <td>-0.330870</td>\n",
       "      <td>2.430771</td>\n",
       "      <td>-0.252092</td>\n",
       "    </tr>\n",
       "    <tr>\n",
       "      <th>2018-02-28</th>\n",
       "      <td>0.109610</td>\n",
       "      <td>1.582481</td>\n",
       "      <td>-0.909232</td>\n",
       "      <td>-0.591637</td>\n",
       "    </tr>\n",
       "    <tr>\n",
       "      <th>2018-03-31</th>\n",
       "      <td>0.187603</td>\n",
       "      <td>-0.329870</td>\n",
       "      <td>-1.192765</td>\n",
       "      <td>-0.204877</td>\n",
       "    </tr>\n",
       "    <tr>\n",
       "      <th>2018-04-30</th>\n",
       "      <td>-0.358829</td>\n",
       "      <td>0.603472</td>\n",
       "      <td>-1.664789</td>\n",
       "      <td>-0.700179</td>\n",
       "    </tr>\n",
       "    <tr>\n",
       "      <th>2018-05-31</th>\n",
       "      <td>1.151391</td>\n",
       "      <td>1.857331</td>\n",
       "      <td>-1.511180</td>\n",
       "      <td>0.644848</td>\n",
       "    </tr>\n",
       "    <tr>\n",
       "      <th>2018-06-30</th>\n",
       "      <td>-0.980608</td>\n",
       "      <td>-0.856853</td>\n",
       "      <td>-0.871879</td>\n",
       "      <td>-0.422508</td>\n",
       "    </tr>\n",
       "    <tr>\n",
       "      <th>2018-07-31</th>\n",
       "      <td>0.996440</td>\n",
       "      <td>0.712421</td>\n",
       "      <td>0.059144</td>\n",
       "      <td>-0.363311</td>\n",
       "    </tr>\n",
       "    <tr>\n",
       "      <th>2018-08-31</th>\n",
       "      <td>0.003289</td>\n",
       "      <td>-0.105930</td>\n",
       "      <td>0.793053</td>\n",
       "      <td>-0.631572</td>\n",
       "    </tr>\n",
       "    <tr>\n",
       "      <th>2018-09-30</th>\n",
       "      <td>-0.006195</td>\n",
       "      <td>-0.101068</td>\n",
       "      <td>-0.052308</td>\n",
       "      <td>0.249218</td>\n",
       "    </tr>\n",
       "    <tr>\n",
       "      <th>2018-10-31</th>\n",
       "      <td>0.197660</td>\n",
       "      <td>1.334849</td>\n",
       "      <td>-0.086876</td>\n",
       "      <td>1.561532</td>\n",
       "    </tr>\n",
       "    <tr>\n",
       "      <th>2018-11-30</th>\n",
       "      <td>-0.305853</td>\n",
       "      <td>-0.477731</td>\n",
       "      <td>0.100738</td>\n",
       "      <td>0.355438</td>\n",
       "    </tr>\n",
       "    <tr>\n",
       "      <th>2018-12-31</th>\n",
       "      <td>0.269612</td>\n",
       "      <td>1.291963</td>\n",
       "      <td>1.139343</td>\n",
       "      <td>0.494440</td>\n",
       "    </tr>\n",
       "  </tbody>\n",
       "</table>\n",
       "</div>"
      ],
      "text/plain": [
       "                   A         B         C         D\n",
       "2018-01-31  0.441227 -0.330870  2.430771 -0.252092\n",
       "2018-02-28  0.109610  1.582481 -0.909232 -0.591637\n",
       "2018-03-31  0.187603 -0.329870 -1.192765 -0.204877\n",
       "2018-04-30 -0.358829  0.603472 -1.664789 -0.700179\n",
       "2018-05-31  1.151391  1.857331 -1.511180  0.644848\n",
       "2018-06-30 -0.980608 -0.856853 -0.871879 -0.422508\n",
       "2018-07-31  0.996440  0.712421  0.059144 -0.363311\n",
       "2018-08-31  0.003289 -0.105930  0.793053 -0.631572\n",
       "2018-09-30 -0.006195 -0.101068 -0.052308  0.249218\n",
       "2018-10-31  0.197660  1.334849 -0.086876  1.561532\n",
       "2018-11-30 -0.305853 -0.477731  0.100738  0.355438\n",
       "2018-12-31  0.269612  1.291963  1.139343  0.494440"
      ]
     },
     "execution_count": 142,
     "metadata": {},
     "output_type": "execute_result"
    }
   ],
   "source": [
    "dates=pd.date_range('20180101',periods=12,freq='m')\n",
    "print (dates)\n",
    "np.random.seed(5)\n",
    "df=pd.DataFrame(np.random.randn(12,4),index=dates,\n",
    "                 columns=list('ABCD'))\n",
    "df"
   ]
  },
  {
   "cell_type": "code",
   "execution_count": 143,
   "metadata": {},
   "outputs": [
    {
     "name": "stdout",
     "output_type": "stream",
     "text": [
      "DatetimeIndex(['2018-01-31', '2018-02-28', '2018-03-31', '2018-04-30',\n",
      "               '2018-05-31', '2018-06-30', '2018-07-31', '2018-08-31',\n",
      "               '2018-09-30', '2018-10-31', '2018-11-30', '2018-12-31'],\n",
      "              dtype='datetime64[ns]', freq='M')\n",
      "Index(['A', 'B', 'C', 'D'], dtype='object')\n",
      "[[ 0.44122749 -0.33087015  2.43077119 -0.25209213]\n",
      " [ 0.10960984  1.58248112 -0.9092324  -0.59163666]\n",
      " [ 0.18760323 -0.32986996 -1.19276461 -0.20487651]\n",
      " [-0.35882895  0.6034716  -1.66478853 -0.70017904]\n",
      " [ 1.15139101  1.85733101 -1.51117956  0.64484751]\n",
      " [-0.98060789 -0.85685315 -0.87187918 -0.42250793]\n",
      " [ 0.99643983  0.71242127  0.05914424 -0.36331088]\n",
      " [ 0.00328884 -0.10593044  0.79305332 -0.63157163]\n",
      " [-0.00619491 -0.10106761 -0.05230815  0.24921766]\n",
      " [ 0.19766009  1.33484857 -0.08687561  1.56153229]\n",
      " [-0.30585302 -0.47773142  0.10073819  0.35543847]\n",
      " [ 0.26961241  1.29196338  1.13934298  0.4944404 ]]\n"
     ]
    }
   ],
   "source": [
    "#查看数据头n行 ,默认n=5\n",
    "df.head()\n",
    "\n",
    "#查看数据最后3行\n",
    "df.tail(3)\n",
    "\n",
    "#查看数据的index(索引）,columns （列名）和数据\n",
    "print(df.index)\n",
    "\n",
    "print(df.columns)\n",
    "\n",
    "print(df.values)"
   ]
  },
  {
   "cell_type": "markdown",
   "metadata": {},
   "source": [
    "根据索引排序数据排序：（按行axis=0或列axis=1）"
   ]
  },
  {
   "cell_type": "code",
   "execution_count": 144,
   "metadata": {},
   "outputs": [
    {
     "data": {
      "text/html": [
       "<div>\n",
       "<style scoped>\n",
       "    .dataframe tbody tr th:only-of-type {\n",
       "        vertical-align: middle;\n",
       "    }\n",
       "\n",
       "    .dataframe tbody tr th {\n",
       "        vertical-align: top;\n",
       "    }\n",
       "\n",
       "    .dataframe thead th {\n",
       "        text-align: right;\n",
       "    }\n",
       "</style>\n",
       "<table border=\"1\" class=\"dataframe\">\n",
       "  <thead>\n",
       "    <tr style=\"text-align: right;\">\n",
       "      <th></th>\n",
       "      <th>A</th>\n",
       "      <th>B</th>\n",
       "      <th>C</th>\n",
       "      <th>D</th>\n",
       "    </tr>\n",
       "  </thead>\n",
       "  <tbody>\n",
       "    <tr>\n",
       "      <th>2018-01-31</th>\n",
       "      <td>0.441227</td>\n",
       "      <td>NaN</td>\n",
       "      <td>2.430771</td>\n",
       "      <td>NaN</td>\n",
       "    </tr>\n",
       "    <tr>\n",
       "      <th>2018-02-28</th>\n",
       "      <td>0.109610</td>\n",
       "      <td>1.582481</td>\n",
       "      <td>NaN</td>\n",
       "      <td>NaN</td>\n",
       "    </tr>\n",
       "    <tr>\n",
       "      <th>2018-03-31</th>\n",
       "      <td>0.187603</td>\n",
       "      <td>NaN</td>\n",
       "      <td>NaN</td>\n",
       "      <td>NaN</td>\n",
       "    </tr>\n",
       "    <tr>\n",
       "      <th>2018-04-30</th>\n",
       "      <td>NaN</td>\n",
       "      <td>0.603472</td>\n",
       "      <td>NaN</td>\n",
       "      <td>NaN</td>\n",
       "    </tr>\n",
       "    <tr>\n",
       "      <th>2018-05-31</th>\n",
       "      <td>1.151391</td>\n",
       "      <td>1.857331</td>\n",
       "      <td>NaN</td>\n",
       "      <td>0.644848</td>\n",
       "    </tr>\n",
       "    <tr>\n",
       "      <th>2018-06-30</th>\n",
       "      <td>NaN</td>\n",
       "      <td>NaN</td>\n",
       "      <td>NaN</td>\n",
       "      <td>NaN</td>\n",
       "    </tr>\n",
       "    <tr>\n",
       "      <th>2018-07-31</th>\n",
       "      <td>0.996440</td>\n",
       "      <td>0.712421</td>\n",
       "      <td>0.059144</td>\n",
       "      <td>NaN</td>\n",
       "    </tr>\n",
       "    <tr>\n",
       "      <th>2018-08-31</th>\n",
       "      <td>0.003289</td>\n",
       "      <td>NaN</td>\n",
       "      <td>0.793053</td>\n",
       "      <td>NaN</td>\n",
       "    </tr>\n",
       "    <tr>\n",
       "      <th>2018-09-30</th>\n",
       "      <td>NaN</td>\n",
       "      <td>NaN</td>\n",
       "      <td>NaN</td>\n",
       "      <td>0.249218</td>\n",
       "    </tr>\n",
       "    <tr>\n",
       "      <th>2018-10-31</th>\n",
       "      <td>0.197660</td>\n",
       "      <td>1.334849</td>\n",
       "      <td>NaN</td>\n",
       "      <td>1.561532</td>\n",
       "    </tr>\n",
       "    <tr>\n",
       "      <th>2018-11-30</th>\n",
       "      <td>NaN</td>\n",
       "      <td>NaN</td>\n",
       "      <td>0.100738</td>\n",
       "      <td>0.355438</td>\n",
       "    </tr>\n",
       "    <tr>\n",
       "      <th>2018-12-31</th>\n",
       "      <td>0.269612</td>\n",
       "      <td>1.291963</td>\n",
       "      <td>1.139343</td>\n",
       "      <td>0.494440</td>\n",
       "    </tr>\n",
       "  </tbody>\n",
       "</table>\n",
       "</div>"
      ],
      "text/plain": [
       "                   A         B         C         D\n",
       "2018-01-31  0.441227       NaN  2.430771       NaN\n",
       "2018-02-28  0.109610  1.582481       NaN       NaN\n",
       "2018-03-31  0.187603       NaN       NaN       NaN\n",
       "2018-04-30       NaN  0.603472       NaN       NaN\n",
       "2018-05-31  1.151391  1.857331       NaN  0.644848\n",
       "2018-06-30       NaN       NaN       NaN       NaN\n",
       "2018-07-31  0.996440  0.712421  0.059144       NaN\n",
       "2018-08-31  0.003289       NaN  0.793053       NaN\n",
       "2018-09-30       NaN       NaN       NaN  0.249218\n",
       "2018-10-31  0.197660  1.334849       NaN  1.561532\n",
       "2018-11-30       NaN       NaN  0.100738  0.355438\n",
       "2018-12-31  0.269612  1.291963  1.139343  0.494440"
      ]
     },
     "execution_count": 144,
     "metadata": {},
     "output_type": "execute_result"
    }
   ],
   "source": [
    "df.sort_index(axis=1,ascending=False)\n",
    "\n",
    "#按某列的值排序\n",
    "df.sort_values('A')  #按A列的值从小到大排序\n",
    "\n",
    "#数据选取loc和iloc\n",
    "df.loc[dates[0]]\n",
    "\n",
    "df.loc['20180131':'20180430',['A','C']]  #根据标签取数\n",
    "\n",
    "df.iloc[1:3,1:4]  #根据所在位置取数，注意从0开始数\n",
    "\n",
    "\n",
    "df.iloc[[1,3,5],[0,3]]  #根据特定行和列取数\n",
    "\n",
    "df[df.A>0] #相当于取出A列大于0时的数据列表\n",
    "\n",
    "\n",
    "df[df>0]  #显示值大于0的数，其余使用NaN代替\n"
   ]
  },
  {
   "cell_type": "markdown",
   "metadata": {},
   "source": [
    "数据筛选isin()"
   ]
  },
  {
   "cell_type": "code",
   "execution_count": 145,
   "metadata": {},
   "outputs": [
    {
     "data": {
      "text/html": [
       "<div>\n",
       "<style scoped>\n",
       "    .dataframe tbody tr th:only-of-type {\n",
       "        vertical-align: middle;\n",
       "    }\n",
       "\n",
       "    .dataframe tbody tr th {\n",
       "        vertical-align: top;\n",
       "    }\n",
       "\n",
       "    .dataframe thead th {\n",
       "        text-align: right;\n",
       "    }\n",
       "</style>\n",
       "<table border=\"1\" class=\"dataframe\">\n",
       "  <thead>\n",
       "    <tr style=\"text-align: right;\">\n",
       "      <th></th>\n",
       "      <th>A</th>\n",
       "      <th>B</th>\n",
       "      <th>C</th>\n",
       "      <th>D</th>\n",
       "      <th>E</th>\n",
       "    </tr>\n",
       "  </thead>\n",
       "  <tbody>\n",
       "    <tr>\n",
       "      <th>2018-01-31</th>\n",
       "      <td>0.441227</td>\n",
       "      <td>-0.330870</td>\n",
       "      <td>2.430771</td>\n",
       "      <td>-0.252092</td>\n",
       "      <td>0</td>\n",
       "    </tr>\n",
       "    <tr>\n",
       "      <th>2018-03-31</th>\n",
       "      <td>0.187603</td>\n",
       "      <td>-0.329870</td>\n",
       "      <td>-1.192765</td>\n",
       "      <td>-0.204877</td>\n",
       "      <td>2</td>\n",
       "    </tr>\n",
       "    <tr>\n",
       "      <th>2018-05-31</th>\n",
       "      <td>1.151391</td>\n",
       "      <td>1.857331</td>\n",
       "      <td>-1.511180</td>\n",
       "      <td>0.644848</td>\n",
       "      <td>4</td>\n",
       "    </tr>\n",
       "  </tbody>\n",
       "</table>\n",
       "</div>"
      ],
      "text/plain": [
       "                   A         B         C         D  E\n",
       "2018-01-31  0.441227 -0.330870  2.430771 -0.252092  0\n",
       "2018-03-31  0.187603 -0.329870 -1.192765 -0.204877  2\n",
       "2018-05-31  1.151391  1.857331 -1.511180  0.644848  4"
      ]
     },
     "execution_count": 145,
     "metadata": {},
     "output_type": "execute_result"
    }
   ],
   "source": [
    "df2=df.copy() #复制df数据\n",
    "df2['E']=np.arange(12)\n",
    "df2\n",
    "df2[df2['E'].isin([0,2,4])]"
   ]
  },
  {
   "cell_type": "markdown",
   "metadata": {},
   "source": [
    "## 四、缺失值处理\n",
    "\n",
    "缺失值用NaN显示"
   ]
  },
  {
   "cell_type": "code",
   "execution_count": 146,
   "metadata": {},
   "outputs": [
    {
     "data": {
      "text/html": [
       "<div>\n",
       "<style scoped>\n",
       "    .dataframe tbody tr th:only-of-type {\n",
       "        vertical-align: middle;\n",
       "    }\n",
       "\n",
       "    .dataframe tbody tr th {\n",
       "        vertical-align: top;\n",
       "    }\n",
       "\n",
       "    .dataframe thead th {\n",
       "        text-align: right;\n",
       "    }\n",
       "</style>\n",
       "<table border=\"1\" class=\"dataframe\">\n",
       "  <thead>\n",
       "    <tr style=\"text-align: right;\">\n",
       "      <th></th>\n",
       "      <th>A</th>\n",
       "      <th>B</th>\n",
       "      <th>C</th>\n",
       "      <th>D</th>\n",
       "    </tr>\n",
       "  </thead>\n",
       "  <tbody>\n",
       "    <tr>\n",
       "      <th>2018-10-01</th>\n",
       "      <td>-0.311784</td>\n",
       "      <td>0.729004</td>\n",
       "      <td>0.217821</td>\n",
       "      <td>-0.899092</td>\n",
       "    </tr>\n",
       "    <tr>\n",
       "      <th>2018-10-05</th>\n",
       "      <td>0.076128</td>\n",
       "      <td>-0.155128</td>\n",
       "      <td>0.634225</td>\n",
       "      <td>0.810655</td>\n",
       "    </tr>\n",
       "  </tbody>\n",
       "</table>\n",
       "</div>"
      ],
      "text/plain": [
       "                   A         B         C         D\n",
       "2018-10-01 -0.311784  0.729004  0.217821 -0.899092\n",
       "2018-10-05  0.076128 -0.155128  0.634225  0.810655"
      ]
     },
     "execution_count": 146,
     "metadata": {},
     "output_type": "execute_result"
    }
   ],
   "source": [
    "date3=pd.date_range('20181001',periods=5)\n",
    "np.random.seed(6)\n",
    "data=np.random.randn(5,4)\n",
    "df3=pd.DataFrame(data,index=date3,columns=list('ABCD'))\n",
    "df3\n",
    "\n",
    "\n",
    "df3.iat[3,3]=np.NaN  #令第3行第3列的数为缺失值（0.129151）\n",
    "df3.iat[1,2]=np.NaN  #令第1行第2列的数为缺失值（1.127064）\n",
    "df3\n",
    "\n",
    "\n",
    "#丢弃存在缺失值的行\n",
    "#设定how=all只会删除那些全是NaN的行：\n",
    "df3.dropna(how='any')\n",
    "\n",
    "#删除列也一样，设置axis=1\n",
    "df3.dropna(how='any',axis=1)\n",
    "\n",
    "#thresh参数,如thresh=4,一行中至少有4个非NaN值，否则删除\n",
    "df3.iloc[2,2]=np.NaN\n",
    "df3.dropna(thresh=4)"
   ]
  },
  {
   "cell_type": "markdown",
   "metadata": {},
   "source": [
    "### 填充缺失值  \n",
    "fillna 还可以使用 method 参数  \n",
    "method 可以使用下面的方法  \n",
    "1 . pad/ffill：用前一个非缺失值去填充该缺失值  \n",
    "2 . backfill/bfill：用下一个非缺失值填充该缺失值"
   ]
  },
  {
   "cell_type": "code",
   "execution_count": 147,
   "metadata": {},
   "outputs": [
    {
     "data": {
      "text/html": [
       "<div>\n",
       "<style scoped>\n",
       "    .dataframe tbody tr th:only-of-type {\n",
       "        vertical-align: middle;\n",
       "    }\n",
       "\n",
       "    .dataframe tbody tr th {\n",
       "        vertical-align: top;\n",
       "    }\n",
       "\n",
       "    .dataframe thead th {\n",
       "        text-align: right;\n",
       "    }\n",
       "</style>\n",
       "<table border=\"1\" class=\"dataframe\">\n",
       "  <thead>\n",
       "    <tr style=\"text-align: right;\">\n",
       "      <th></th>\n",
       "      <th>A</th>\n",
       "      <th>B</th>\n",
       "      <th>C</th>\n",
       "      <th>D</th>\n",
       "    </tr>\n",
       "  </thead>\n",
       "  <tbody>\n",
       "    <tr>\n",
       "      <th>2018-10-01</th>\n",
       "      <td>-0.311784</td>\n",
       "      <td>0.729004</td>\n",
       "      <td>0.217821</td>\n",
       "      <td>-0.899092</td>\n",
       "    </tr>\n",
       "    <tr>\n",
       "      <th>2018-10-02</th>\n",
       "      <td>-2.486781</td>\n",
       "      <td>0.913252</td>\n",
       "      <td>0.217821</td>\n",
       "      <td>-1.514093</td>\n",
       "    </tr>\n",
       "    <tr>\n",
       "      <th>2018-10-03</th>\n",
       "      <td>1.639291</td>\n",
       "      <td>-0.429894</td>\n",
       "      <td>0.217821</td>\n",
       "      <td>0.601822</td>\n",
       "    </tr>\n",
       "    <tr>\n",
       "      <th>2018-10-04</th>\n",
       "      <td>-0.335882</td>\n",
       "      <td>1.237738</td>\n",
       "      <td>0.111128</td>\n",
       "      <td>0.601822</td>\n",
       "    </tr>\n",
       "    <tr>\n",
       "      <th>2018-10-05</th>\n",
       "      <td>0.076128</td>\n",
       "      <td>-0.155128</td>\n",
       "      <td>0.634225</td>\n",
       "      <td>0.810655</td>\n",
       "    </tr>\n",
       "  </tbody>\n",
       "</table>\n",
       "</div>"
      ],
      "text/plain": [
       "                   A         B         C         D\n",
       "2018-10-01 -0.311784  0.729004  0.217821 -0.899092\n",
       "2018-10-02 -2.486781  0.913252  0.217821 -1.514093\n",
       "2018-10-03  1.639291 -0.429894  0.217821  0.601822\n",
       "2018-10-04 -0.335882  1.237738  0.111128  0.601822\n",
       "2018-10-05  0.076128 -0.155128  0.634225  0.810655"
      ]
     },
     "execution_count": 147,
     "metadata": {},
     "output_type": "execute_result"
    }
   ],
   "source": [
    "df3.fillna(method='ffill')"
   ]
  },
  {
   "cell_type": "code",
   "execution_count": 148,
   "metadata": {},
   "outputs": [
    {
     "data": {
      "text/html": [
       "<div>\n",
       "<style scoped>\n",
       "    .dataframe tbody tr th:only-of-type {\n",
       "        vertical-align: middle;\n",
       "    }\n",
       "\n",
       "    .dataframe tbody tr th {\n",
       "        vertical-align: top;\n",
       "    }\n",
       "\n",
       "    .dataframe thead th {\n",
       "        text-align: right;\n",
       "    }\n",
       "</style>\n",
       "<table border=\"1\" class=\"dataframe\">\n",
       "  <thead>\n",
       "    <tr style=\"text-align: right;\">\n",
       "      <th></th>\n",
       "      <th>A</th>\n",
       "      <th>B</th>\n",
       "      <th>C</th>\n",
       "      <th>D</th>\n",
       "    </tr>\n",
       "  </thead>\n",
       "  <tbody>\n",
       "    <tr>\n",
       "      <th>2018-10-01</th>\n",
       "      <td>-0.311784</td>\n",
       "      <td>0.729004</td>\n",
       "      <td>0.217821</td>\n",
       "      <td>-0.899092</td>\n",
       "    </tr>\n",
       "    <tr>\n",
       "      <th>2018-10-02</th>\n",
       "      <td>-2.486781</td>\n",
       "      <td>0.913252</td>\n",
       "      <td>0.111128</td>\n",
       "      <td>-1.514093</td>\n",
       "    </tr>\n",
       "    <tr>\n",
       "      <th>2018-10-03</th>\n",
       "      <td>1.639291</td>\n",
       "      <td>-0.429894</td>\n",
       "      <td>0.111128</td>\n",
       "      <td>0.601822</td>\n",
       "    </tr>\n",
       "    <tr>\n",
       "      <th>2018-10-04</th>\n",
       "      <td>-0.335882</td>\n",
       "      <td>1.237738</td>\n",
       "      <td>0.111128</td>\n",
       "      <td>0.810655</td>\n",
       "    </tr>\n",
       "    <tr>\n",
       "      <th>2018-10-05</th>\n",
       "      <td>0.076128</td>\n",
       "      <td>-0.155128</td>\n",
       "      <td>0.634225</td>\n",
       "      <td>0.810655</td>\n",
       "    </tr>\n",
       "  </tbody>\n",
       "</table>\n",
       "</div>"
      ],
      "text/plain": [
       "                   A         B         C         D\n",
       "2018-10-01 -0.311784  0.729004  0.217821 -0.899092\n",
       "2018-10-02 -2.486781  0.913252  0.111128 -1.514093\n",
       "2018-10-03  1.639291 -0.429894  0.111128  0.601822\n",
       "2018-10-04 -0.335882  1.237738  0.111128  0.810655\n",
       "2018-10-05  0.076128 -0.155128  0.634225  0.810655"
      ]
     },
     "execution_count": 148,
     "metadata": {},
     "output_type": "execute_result"
    }
   ],
   "source": [
    "df3.fillna(method='bfill')"
   ]
  },
  {
   "cell_type": "code",
   "execution_count": 149,
   "metadata": {},
   "outputs": [
    {
     "data": {
      "text/html": [
       "<div>\n",
       "<style scoped>\n",
       "    .dataframe tbody tr th:only-of-type {\n",
       "        vertical-align: middle;\n",
       "    }\n",
       "\n",
       "    .dataframe tbody tr th {\n",
       "        vertical-align: top;\n",
       "    }\n",
       "\n",
       "    .dataframe thead th {\n",
       "        text-align: right;\n",
       "    }\n",
       "</style>\n",
       "<table border=\"1\" class=\"dataframe\">\n",
       "  <thead>\n",
       "    <tr style=\"text-align: right;\">\n",
       "      <th></th>\n",
       "      <th>A</th>\n",
       "      <th>B</th>\n",
       "      <th>C</th>\n",
       "      <th>D</th>\n",
       "    </tr>\n",
       "  </thead>\n",
       "  <tbody>\n",
       "    <tr>\n",
       "      <th>2018-10-01</th>\n",
       "      <td>-0.311784</td>\n",
       "      <td>0.729004</td>\n",
       "      <td>0.217821</td>\n",
       "      <td>-0.899092</td>\n",
       "    </tr>\n",
       "    <tr>\n",
       "      <th>2018-10-02</th>\n",
       "      <td>-2.486781</td>\n",
       "      <td>0.913252</td>\n",
       "      <td>0.321058</td>\n",
       "      <td>-1.514093</td>\n",
       "    </tr>\n",
       "    <tr>\n",
       "      <th>2018-10-03</th>\n",
       "      <td>1.639291</td>\n",
       "      <td>-0.429894</td>\n",
       "      <td>0.321058</td>\n",
       "      <td>0.601822</td>\n",
       "    </tr>\n",
       "    <tr>\n",
       "      <th>2018-10-04</th>\n",
       "      <td>-0.335882</td>\n",
       "      <td>1.237738</td>\n",
       "      <td>0.111128</td>\n",
       "      <td>NaN</td>\n",
       "    </tr>\n",
       "    <tr>\n",
       "      <th>2018-10-05</th>\n",
       "      <td>0.076128</td>\n",
       "      <td>-0.155128</td>\n",
       "      <td>0.634225</td>\n",
       "      <td>0.810655</td>\n",
       "    </tr>\n",
       "  </tbody>\n",
       "</table>\n",
       "</div>"
      ],
      "text/plain": [
       "                   A         B         C         D\n",
       "2018-10-01 -0.311784  0.729004  0.217821 -0.899092\n",
       "2018-10-02 -2.486781  0.913252  0.321058 -1.514093\n",
       "2018-10-03  1.639291 -0.429894  0.321058  0.601822\n",
       "2018-10-04 -0.335882  1.237738  0.111128       NaN\n",
       "2018-10-05  0.076128 -0.155128  0.634225  0.810655"
      ]
     },
     "execution_count": 149,
     "metadata": {},
     "output_type": "execute_result"
    }
   ],
   "source": [
    "#使在改变DataFrame 和 Series 的操作时，会返回一个新的对象，\n",
    "#原对象不变，如果要改变原对象，可以添加参数 inplace = True用列均值填充\n",
    "#使用该列的均值填充\n",
    "df3['C'].fillna(df3['C'].mean(),inplace=True)\n",
    "df3"
   ]
  },
  {
   "cell_type": "markdown",
   "metadata": {},
   "source": [
    "## 五、统计"
   ]
  },
  {
   "cell_type": "code",
   "execution_count": 150,
   "metadata": {},
   "outputs": [
    {
     "data": {
      "text/html": [
       "<div>\n",
       "<style scoped>\n",
       "    .dataframe tbody tr th:only-of-type {\n",
       "        vertical-align: middle;\n",
       "    }\n",
       "\n",
       "    .dataframe tbody tr th {\n",
       "        vertical-align: top;\n",
       "    }\n",
       "\n",
       "    .dataframe thead th {\n",
       "        text-align: right;\n",
       "    }\n",
       "</style>\n",
       "<table border=\"1\" class=\"dataframe\">\n",
       "  <thead>\n",
       "    <tr style=\"text-align: right;\">\n",
       "      <th></th>\n",
       "      <th>A</th>\n",
       "      <th>B</th>\n",
       "      <th>C</th>\n",
       "      <th>D</th>\n",
       "    </tr>\n",
       "  </thead>\n",
       "  <tbody>\n",
       "    <tr>\n",
       "      <th>2018-10-01</th>\n",
       "      <td>1.690526</td>\n",
       "      <td>-0.465937</td>\n",
       "      <td>0.032820</td>\n",
       "      <td>0.407516</td>\n",
       "    </tr>\n",
       "    <tr>\n",
       "      <th>2018-10-02</th>\n",
       "      <td>-0.788923</td>\n",
       "      <td>0.002066</td>\n",
       "      <td>-0.000890</td>\n",
       "      <td>-1.754724</td>\n",
       "    </tr>\n",
       "    <tr>\n",
       "      <th>2018-10-03</th>\n",
       "      <td>1.017658</td>\n",
       "      <td>0.600499</td>\n",
       "      <td>-0.625429</td>\n",
       "      <td>-0.171548</td>\n",
       "    </tr>\n",
       "    <tr>\n",
       "      <th>2018-10-04</th>\n",
       "      <td>0.505299</td>\n",
       "      <td>-0.261356</td>\n",
       "      <td>-0.242749</td>\n",
       "      <td>-1.453241</td>\n",
       "    </tr>\n",
       "    <tr>\n",
       "      <th>2018-10-05</th>\n",
       "      <td>0.554580</td>\n",
       "      <td>0.123881</td>\n",
       "      <td>0.274460</td>\n",
       "      <td>-1.526525</td>\n",
       "    </tr>\n",
       "  </tbody>\n",
       "</table>\n",
       "</div>"
      ],
      "text/plain": [
       "                   A         B         C         D\n",
       "2018-10-01  1.690526 -0.465937  0.032820  0.407516\n",
       "2018-10-02 -0.788923  0.002066 -0.000890 -1.754724\n",
       "2018-10-03  1.017658  0.600499 -0.625429 -0.171548\n",
       "2018-10-04  0.505299 -0.261356 -0.242749 -1.453241\n",
       "2018-10-05  0.554580  0.123881  0.274460 -1.526525"
      ]
     },
     "execution_count": 150,
     "metadata": {},
     "output_type": "execute_result"
    }
   ],
   "source": [
    "date4=pd.date_range('20181001',periods=5)\n",
    "np.random.seed(7)\n",
    "data4=np.random.randn(5,4)\n",
    "df4=pd.DataFrame(data4,index=date3,columns=list('ABCD'))\n",
    "df4"
   ]
  },
  {
   "cell_type": "markdown",
   "metadata": {},
   "source": [
    "描述性统计 df.describe()"
   ]
  },
  {
   "cell_type": "code",
   "execution_count": 151,
   "metadata": {},
   "outputs": [
    {
     "data": {
      "text/html": [
       "<div>\n",
       "<style scoped>\n",
       "    .dataframe tbody tr th:only-of-type {\n",
       "        vertical-align: middle;\n",
       "    }\n",
       "\n",
       "    .dataframe tbody tr th {\n",
       "        vertical-align: top;\n",
       "    }\n",
       "\n",
       "    .dataframe thead th {\n",
       "        text-align: right;\n",
       "    }\n",
       "</style>\n",
       "<table border=\"1\" class=\"dataframe\">\n",
       "  <thead>\n",
       "    <tr style=\"text-align: right;\">\n",
       "      <th></th>\n",
       "      <th>A</th>\n",
       "      <th>B</th>\n",
       "      <th>C</th>\n",
       "      <th>D</th>\n",
       "    </tr>\n",
       "  </thead>\n",
       "  <tbody>\n",
       "    <tr>\n",
       "      <th>count</th>\n",
       "      <td>12.000000</td>\n",
       "      <td>12.000000</td>\n",
       "      <td>12.000000</td>\n",
       "      <td>12.000000</td>\n",
       "    </tr>\n",
       "    <tr>\n",
       "      <th>mean</th>\n",
       "      <td>0.142112</td>\n",
       "      <td>0.431683</td>\n",
       "      <td>-0.147165</td>\n",
       "      <td>0.011608</td>\n",
       "    </tr>\n",
       "    <tr>\n",
       "      <th>std</th>\n",
       "      <td>0.573176</td>\n",
       "      <td>0.916643</td>\n",
       "      <td>1.193333</td>\n",
       "      <td>0.670191</td>\n",
       "    </tr>\n",
       "    <tr>\n",
       "      <th>min</th>\n",
       "      <td>-0.980608</td>\n",
       "      <td>-0.856853</td>\n",
       "      <td>-1.664789</td>\n",
       "      <td>-0.700179</td>\n",
       "    </tr>\n",
       "    <tr>\n",
       "      <th>25%</th>\n",
       "      <td>-0.081109</td>\n",
       "      <td>-0.330120</td>\n",
       "      <td>-0.980115</td>\n",
       "      <td>-0.464790</td>\n",
       "    </tr>\n",
       "    <tr>\n",
       "      <th>50%</th>\n",
       "      <td>0.148607</td>\n",
       "      <td>0.251202</td>\n",
       "      <td>-0.069592</td>\n",
       "      <td>-0.228484</td>\n",
       "    </tr>\n",
       "    <tr>\n",
       "      <th>75%</th>\n",
       "      <td>0.312516</td>\n",
       "      <td>1.302685</td>\n",
       "      <td>0.273817</td>\n",
       "      <td>0.390189</td>\n",
       "    </tr>\n",
       "    <tr>\n",
       "      <th>max</th>\n",
       "      <td>1.151391</td>\n",
       "      <td>1.857331</td>\n",
       "      <td>2.430771</td>\n",
       "      <td>1.561532</td>\n",
       "    </tr>\n",
       "  </tbody>\n",
       "</table>\n",
       "</div>"
      ],
      "text/plain": [
       "               A          B          C          D\n",
       "count  12.000000  12.000000  12.000000  12.000000\n",
       "mean    0.142112   0.431683  -0.147165   0.011608\n",
       "std     0.573176   0.916643   1.193333   0.670191\n",
       "min    -0.980608  -0.856853  -1.664789  -0.700179\n",
       "25%    -0.081109  -0.330120  -0.980115  -0.464790\n",
       "50%     0.148607   0.251202  -0.069592  -0.228484\n",
       "75%     0.312516   1.302685   0.273817   0.390189\n",
       "max     1.151391   1.857331   2.430771   1.561532"
      ]
     },
     "execution_count": 151,
     "metadata": {},
     "output_type": "execute_result"
    }
   ],
   "source": [
    "df.describe()"
   ]
  },
  {
   "cell_type": "code",
   "execution_count": 152,
   "metadata": {},
   "outputs": [
    {
     "data": {
      "text/plain": [
       "A    0.595828\n",
       "B   -0.000170\n",
       "C   -0.112358\n",
       "D   -0.899704\n",
       "dtype: float64"
      ]
     },
     "execution_count": 152,
     "metadata": {},
     "output_type": "execute_result"
    }
   ],
   "source": [
    "df4.mean() #均值，默认按列axis=0"
   ]
  },
  {
   "cell_type": "markdown",
   "metadata": {},
   "source": [
    "对数据使用函数df.apply()"
   ]
  },
  {
   "cell_type": "code",
   "execution_count": 153,
   "metadata": {},
   "outputs": [
    {
     "data": {
      "text/html": [
       "<div>\n",
       "<style scoped>\n",
       "    .dataframe tbody tr th:only-of-type {\n",
       "        vertical-align: middle;\n",
       "    }\n",
       "\n",
       "    .dataframe tbody tr th {\n",
       "        vertical-align: top;\n",
       "    }\n",
       "\n",
       "    .dataframe thead th {\n",
       "        text-align: right;\n",
       "    }\n",
       "</style>\n",
       "<table border=\"1\" class=\"dataframe\">\n",
       "  <thead>\n",
       "    <tr style=\"text-align: right;\">\n",
       "      <th></th>\n",
       "      <th>A</th>\n",
       "      <th>B</th>\n",
       "      <th>C</th>\n",
       "      <th>D</th>\n",
       "    </tr>\n",
       "  </thead>\n",
       "  <tbody>\n",
       "    <tr>\n",
       "      <th>2018-10-01</th>\n",
       "      <td>1.690526</td>\n",
       "      <td>-0.465937</td>\n",
       "      <td>0.032820</td>\n",
       "      <td>0.407516</td>\n",
       "    </tr>\n",
       "    <tr>\n",
       "      <th>2018-10-02</th>\n",
       "      <td>0.901603</td>\n",
       "      <td>-0.463872</td>\n",
       "      <td>0.031930</td>\n",
       "      <td>-1.347208</td>\n",
       "    </tr>\n",
       "    <tr>\n",
       "      <th>2018-10-03</th>\n",
       "      <td>1.919261</td>\n",
       "      <td>0.136627</td>\n",
       "      <td>-0.593499</td>\n",
       "      <td>-1.518756</td>\n",
       "    </tr>\n",
       "    <tr>\n",
       "      <th>2018-10-04</th>\n",
       "      <td>2.424560</td>\n",
       "      <td>-0.124730</td>\n",
       "      <td>-0.836248</td>\n",
       "      <td>-2.971998</td>\n",
       "    </tr>\n",
       "    <tr>\n",
       "      <th>2018-10-05</th>\n",
       "      <td>2.979140</td>\n",
       "      <td>-0.000849</td>\n",
       "      <td>-0.561788</td>\n",
       "      <td>-4.498522</td>\n",
       "    </tr>\n",
       "  </tbody>\n",
       "</table>\n",
       "</div>"
      ],
      "text/plain": [
       "                   A         B         C         D\n",
       "2018-10-01  1.690526 -0.465937  0.032820  0.407516\n",
       "2018-10-02  0.901603 -0.463872  0.031930 -1.347208\n",
       "2018-10-03  1.919261  0.136627 -0.593499 -1.518756\n",
       "2018-10-04  2.424560 -0.124730 -0.836248 -2.971998\n",
       "2018-10-05  2.979140 -0.000849 -0.561788 -4.498522"
      ]
     },
     "execution_count": 153,
     "metadata": {},
     "output_type": "execute_result"
    }
   ],
   "source": [
    "df4.apply(np.cumsum) #np.cumsum()累加函数"
   ]
  },
  {
   "cell_type": "code",
   "execution_count": 154,
   "metadata": {},
   "outputs": [
    {
     "data": {
      "text/plain": [
       "A    2.479449\n",
       "B    1.066436\n",
       "C    0.899889\n",
       "D    2.162241\n",
       "dtype: float64"
      ]
     },
     "execution_count": 154,
     "metadata": {},
     "output_type": "execute_result"
    }
   ],
   "source": [
    "df4.apply(lambda x:x.max()-x.min()) #lambda自定义函数\n",
    "#相当于计算每列里最大值-最小值"
   ]
  },
  {
   "cell_type": "code",
   "execution_count": 155,
   "metadata": {},
   "outputs": [
    {
     "data": {
      "text/plain": [
       "a    3\n",
       "b    2\n",
       "Name: E, dtype: int64"
      ]
     },
     "execution_count": 155,
     "metadata": {},
     "output_type": "execute_result"
    }
   ],
   "source": [
    "df4['E']=['a','a','a','b','b']\n",
    "df4\n",
    "\n",
    "#计算某个值出现评率\n",
    "df4['E'].value_counts()"
   ]
  },
  {
   "cell_type": "markdown",
   "metadata": {},
   "source": [
    "## 六、数据合并"
   ]
  },
  {
   "cell_type": "code",
   "execution_count": 156,
   "metadata": {},
   "outputs": [
    {
     "name": "stdout",
     "output_type": "stream",
     "text": [
      "0    0\n",
      "1    1\n",
      "2    2\n",
      "3    3\n",
      "4    4\n",
      "dtype: int64\n",
      "0    5\n",
      "1    6\n",
      "2    7\n",
      "3    8\n",
      "4    9\n",
      "dtype: int64\n"
     ]
    }
   ],
   "source": [
    "#Concat（）\n",
    "d1=pd.Series(range(5))\n",
    "print(d1)\n",
    "d2=pd.Series(range(5,10))\n",
    "print(d2)"
   ]
  },
  {
   "cell_type": "code",
   "execution_count": 157,
   "metadata": {},
   "outputs": [
    {
     "data": {
      "text/html": [
       "<div>\n",
       "<style scoped>\n",
       "    .dataframe tbody tr th:only-of-type {\n",
       "        vertical-align: middle;\n",
       "    }\n",
       "\n",
       "    .dataframe tbody tr th {\n",
       "        vertical-align: top;\n",
       "    }\n",
       "\n",
       "    .dataframe thead th {\n",
       "        text-align: right;\n",
       "    }\n",
       "</style>\n",
       "<table border=\"1\" class=\"dataframe\">\n",
       "  <thead>\n",
       "    <tr style=\"text-align: right;\">\n",
       "      <th></th>\n",
       "      <th>0</th>\n",
       "      <th>1</th>\n",
       "    </tr>\n",
       "  </thead>\n",
       "  <tbody>\n",
       "    <tr>\n",
       "      <th>0</th>\n",
       "      <td>0</td>\n",
       "      <td>5</td>\n",
       "    </tr>\n",
       "    <tr>\n",
       "      <th>1</th>\n",
       "      <td>1</td>\n",
       "      <td>6</td>\n",
       "    </tr>\n",
       "    <tr>\n",
       "      <th>2</th>\n",
       "      <td>2</td>\n",
       "      <td>7</td>\n",
       "    </tr>\n",
       "    <tr>\n",
       "      <th>3</th>\n",
       "      <td>3</td>\n",
       "      <td>8</td>\n",
       "    </tr>\n",
       "    <tr>\n",
       "      <th>4</th>\n",
       "      <td>4</td>\n",
       "      <td>9</td>\n",
       "    </tr>\n",
       "  </tbody>\n",
       "</table>\n",
       "</div>"
      ],
      "text/plain": [
       "   0  1\n",
       "0  0  5\n",
       "1  1  6\n",
       "2  2  7\n",
       "3  3  8\n",
       "4  4  9"
      ]
     },
     "execution_count": 157,
     "metadata": {},
     "output_type": "execute_result"
    }
   ],
   "source": [
    "pd.concat([d1,d2],axis=1) #默认是纵向合并即axis=0"
   ]
  },
  {
   "cell_type": "code",
   "execution_count": 158,
   "metadata": {},
   "outputs": [
    {
     "name": "stdout",
     "output_type": "stream",
     "text": [
      "          A         B         C\n",
      "0  1.650700  0.154336 -0.387140\n",
      "1  2.029072 -0.045386 -1.450679\n",
      "2 -0.405228 -2.288315  1.049397\n",
      "          D         E         F\n",
      "0 -0.416474 -0.742554  1.072470\n",
      "1 -1.651076  0.535429 -2.064415\n",
      "2 -0.662159 -1.204220  1.461976\n"
     ]
    },
    {
     "data": {
      "text/html": [
       "<div>\n",
       "<style scoped>\n",
       "    .dataframe tbody tr th:only-of-type {\n",
       "        vertical-align: middle;\n",
       "    }\n",
       "\n",
       "    .dataframe tbody tr th {\n",
       "        vertical-align: top;\n",
       "    }\n",
       "\n",
       "    .dataframe thead th {\n",
       "        text-align: right;\n",
       "    }\n",
       "</style>\n",
       "<table border=\"1\" class=\"dataframe\">\n",
       "  <thead>\n",
       "    <tr style=\"text-align: right;\">\n",
       "      <th></th>\n",
       "      <th>A</th>\n",
       "      <th>B</th>\n",
       "      <th>C</th>\n",
       "      <th>D</th>\n",
       "      <th>E</th>\n",
       "      <th>F</th>\n",
       "    </tr>\n",
       "  </thead>\n",
       "  <tbody>\n",
       "    <tr>\n",
       "      <th>0</th>\n",
       "      <td>1.650700</td>\n",
       "      <td>0.154336</td>\n",
       "      <td>-0.387140</td>\n",
       "      <td>-0.416474</td>\n",
       "      <td>-0.742554</td>\n",
       "      <td>1.072470</td>\n",
       "    </tr>\n",
       "    <tr>\n",
       "      <th>1</th>\n",
       "      <td>2.029072</td>\n",
       "      <td>-0.045386</td>\n",
       "      <td>-1.450679</td>\n",
       "      <td>-1.651076</td>\n",
       "      <td>0.535429</td>\n",
       "      <td>-2.064415</td>\n",
       "    </tr>\n",
       "    <tr>\n",
       "      <th>2</th>\n",
       "      <td>-0.405228</td>\n",
       "      <td>-2.288315</td>\n",
       "      <td>1.049397</td>\n",
       "      <td>-0.662159</td>\n",
       "      <td>-1.204220</td>\n",
       "      <td>1.461976</td>\n",
       "    </tr>\n",
       "  </tbody>\n",
       "</table>\n",
       "</div>"
      ],
      "text/plain": [
       "          A         B         C         D         E         F\n",
       "0  1.650700  0.154336 -0.387140 -0.416474 -0.742554  1.072470\n",
       "1  2.029072 -0.045386 -1.450679 -1.651076  0.535429 -2.064415\n",
       "2 -0.405228 -2.288315  1.049397 -0.662159 -1.204220  1.461976"
      ]
     },
     "execution_count": 158,
     "metadata": {},
     "output_type": "execute_result"
    }
   ],
   "source": [
    "#pd.merge(left_on=None, right_on=None, left_index=False, \n",
    "#right_index=False)\n",
    "d1=pd.DataFrame(np.random.randn(3,3),columns=list('ABC'))\n",
    "print(d1)\n",
    "d2=pd.DataFrame(np.random.randn(3,3),columns=list('DEF'))\n",
    "print(d2)\n",
    "pd.merge(d1,d2,left_index=True, right_index=True)"
   ]
  },
  {
   "cell_type": "code",
   "execution_count": 159,
   "metadata": {},
   "outputs": [
    {
     "data": {
      "text/html": [
       "<div>\n",
       "<style scoped>\n",
       "    .dataframe tbody tr th:only-of-type {\n",
       "        vertical-align: middle;\n",
       "    }\n",
       "\n",
       "    .dataframe tbody tr th {\n",
       "        vertical-align: top;\n",
       "    }\n",
       "\n",
       "    .dataframe thead th {\n",
       "        text-align: right;\n",
       "    }\n",
       "</style>\n",
       "<table border=\"1\" class=\"dataframe\">\n",
       "  <thead>\n",
       "    <tr style=\"text-align: right;\">\n",
       "      <th></th>\n",
       "      <th>A</th>\n",
       "      <th>B</th>\n",
       "      <th>C</th>\n",
       "    </tr>\n",
       "  </thead>\n",
       "  <tbody>\n",
       "    <tr>\n",
       "      <th>0</th>\n",
       "      <td>1.766161</td>\n",
       "      <td>-0.329414</td>\n",
       "      <td>0.840733</td>\n",
       "    </tr>\n",
       "    <tr>\n",
       "      <th>1</th>\n",
       "      <td>-0.179986</td>\n",
       "      <td>0.568062</td>\n",
       "      <td>-0.752837</td>\n",
       "    </tr>\n",
       "    <tr>\n",
       "      <th>2</th>\n",
       "      <td>-1.708339</td>\n",
       "      <td>-1.803099</td>\n",
       "      <td>0.383122</td>\n",
       "    </tr>\n",
       "  </tbody>\n",
       "</table>\n",
       "</div>"
      ],
      "text/plain": [
       "          A         B         C\n",
       "0  1.766161 -0.329414  0.840733\n",
       "1 -0.179986  0.568062 -0.752837\n",
       "2 -1.708339 -1.803099  0.383122"
      ]
     },
     "execution_count": 159,
     "metadata": {},
     "output_type": "execute_result"
    }
   ],
   "source": [
    "#增加1行数据：Append()\n",
    "df = pd.DataFrame(np.random.randn(3, 3), columns=['A','B','C'])\n",
    "df"
   ]
  },
  {
   "cell_type": "code",
   "execution_count": 160,
   "metadata": {},
   "outputs": [
    {
     "name": "stderr",
     "output_type": "stream",
     "text": [
      "/var/folders/qp/w7t0hyg957d_xlc3kv2q49sw0000gn/T/ipykernel_9477/354566055.py:2: FutureWarning: The frame.append method is deprecated and will be removed from pandas in a future version. Use pandas.concat instead.\n",
      "  df.append(s,ignore_index=True)\n"
     ]
    },
    {
     "data": {
      "text/html": [
       "<div>\n",
       "<style scoped>\n",
       "    .dataframe tbody tr th:only-of-type {\n",
       "        vertical-align: middle;\n",
       "    }\n",
       "\n",
       "    .dataframe tbody tr th {\n",
       "        vertical-align: top;\n",
       "    }\n",
       "\n",
       "    .dataframe thead th {\n",
       "        text-align: right;\n",
       "    }\n",
       "</style>\n",
       "<table border=\"1\" class=\"dataframe\">\n",
       "  <thead>\n",
       "    <tr style=\"text-align: right;\">\n",
       "      <th></th>\n",
       "      <th>A</th>\n",
       "      <th>B</th>\n",
       "      <th>C</th>\n",
       "    </tr>\n",
       "  </thead>\n",
       "  <tbody>\n",
       "    <tr>\n",
       "      <th>0</th>\n",
       "      <td>1.766161</td>\n",
       "      <td>-0.329414</td>\n",
       "      <td>0.840733</td>\n",
       "    </tr>\n",
       "    <tr>\n",
       "      <th>1</th>\n",
       "      <td>-0.179986</td>\n",
       "      <td>0.568062</td>\n",
       "      <td>-0.752837</td>\n",
       "    </tr>\n",
       "    <tr>\n",
       "      <th>2</th>\n",
       "      <td>-1.708339</td>\n",
       "      <td>-1.803099</td>\n",
       "      <td>0.383122</td>\n",
       "    </tr>\n",
       "    <tr>\n",
       "      <th>3</th>\n",
       "      <td>1.000000</td>\n",
       "      <td>1.000000</td>\n",
       "      <td>1.000000</td>\n",
       "    </tr>\n",
       "  </tbody>\n",
       "</table>\n",
       "</div>"
      ],
      "text/plain": [
       "          A         B         C\n",
       "0  1.766161 -0.329414  0.840733\n",
       "1 -0.179986  0.568062 -0.752837\n",
       "2 -1.708339 -1.803099  0.383122\n",
       "3  1.000000  1.000000  1.000000"
      ]
     },
     "execution_count": 160,
     "metadata": {},
     "output_type": "execute_result"
    }
   ],
   "source": [
    "s=pd.Series([1.,1,1],index=list('ABC'))\n",
    "df.append(s,ignore_index=True)"
   ]
  },
  {
   "cell_type": "markdown",
   "metadata": {},
   "source": [
    "### 聚类分析 groupby"
   ]
  },
  {
   "cell_type": "code",
   "execution_count": 161,
   "metadata": {},
   "outputs": [
    {
     "data": {
      "text/html": [
       "<div>\n",
       "<style scoped>\n",
       "    .dataframe tbody tr th:only-of-type {\n",
       "        vertical-align: middle;\n",
       "    }\n",
       "\n",
       "    .dataframe tbody tr th {\n",
       "        vertical-align: top;\n",
       "    }\n",
       "\n",
       "    .dataframe thead th {\n",
       "        text-align: right;\n",
       "    }\n",
       "</style>\n",
       "<table border=\"1\" class=\"dataframe\">\n",
       "  <thead>\n",
       "    <tr style=\"text-align: right;\">\n",
       "      <th></th>\n",
       "      <th>A</th>\n",
       "      <th>B</th>\n",
       "      <th>C</th>\n",
       "      <th>D</th>\n",
       "    </tr>\n",
       "  </thead>\n",
       "  <tbody>\n",
       "    <tr>\n",
       "      <th>0</th>\n",
       "      <td>true</td>\n",
       "      <td>one</td>\n",
       "      <td>2.247595</td>\n",
       "      <td>-0.309476</td>\n",
       "    </tr>\n",
       "    <tr>\n",
       "      <th>1</th>\n",
       "      <td>false</td>\n",
       "      <td>one</td>\n",
       "      <td>0.269412</td>\n",
       "      <td>-1.434963</td>\n",
       "    </tr>\n",
       "    <tr>\n",
       "      <th>2</th>\n",
       "      <td>true</td>\n",
       "      <td>two</td>\n",
       "      <td>-0.524605</td>\n",
       "      <td>0.501624</td>\n",
       "    </tr>\n",
       "    <tr>\n",
       "      <th>3</th>\n",
       "      <td>false</td>\n",
       "      <td>three</td>\n",
       "      <td>1.912019</td>\n",
       "      <td>-0.094775</td>\n",
       "    </tr>\n",
       "    <tr>\n",
       "      <th>4</th>\n",
       "      <td>true</td>\n",
       "      <td>two</td>\n",
       "      <td>0.237302</td>\n",
       "      <td>1.193086</td>\n",
       "    </tr>\n",
       "    <tr>\n",
       "      <th>5</th>\n",
       "      <td>false</td>\n",
       "      <td>two</td>\n",
       "      <td>0.101434</td>\n",
       "      <td>-0.368818</td>\n",
       "    </tr>\n",
       "    <tr>\n",
       "      <th>6</th>\n",
       "      <td>true</td>\n",
       "      <td>one</td>\n",
       "      <td>0.252578</td>\n",
       "      <td>-1.906370</td>\n",
       "    </tr>\n",
       "    <tr>\n",
       "      <th>7</th>\n",
       "      <td>false</td>\n",
       "      <td>three</td>\n",
       "      <td>-0.132377</td>\n",
       "      <td>-0.099611</td>\n",
       "    </tr>\n",
       "  </tbody>\n",
       "</table>\n",
       "</div>"
      ],
      "text/plain": [
       "       A      B         C         D\n",
       "0   true    one  2.247595 -0.309476\n",
       "1  false    one  0.269412 -1.434963\n",
       "2   true    two -0.524605  0.501624\n",
       "3  false  three  1.912019 -0.094775\n",
       "4   true    two  0.237302  1.193086\n",
       "5  false    two  0.101434 -0.368818\n",
       "6   true    one  0.252578 -1.906370\n",
       "7  false  three -0.132377 -0.099611"
      ]
     },
     "execution_count": 161,
     "metadata": {},
     "output_type": "execute_result"
    }
   ],
   "source": [
    "df = pd.DataFrame({'A' : ['true', 'false', 'true', 'false',\n",
    "                           'true', 'false', 'true', 'false'],\n",
    "                    'B' : ['one', 'one', 'two', 'three',\n",
    "                          'two', 'two', 'one', 'three'],\n",
    "                    'C' : np.random.randn(8),\n",
    "                    'D' : np.random.randn(8)})\n",
    "df"
   ]
  },
  {
   "cell_type": "code",
   "execution_count": 162,
   "metadata": {},
   "outputs": [
    {
     "data": {
      "text/html": [
       "<div>\n",
       "<style scoped>\n",
       "    .dataframe tbody tr th:only-of-type {\n",
       "        vertical-align: middle;\n",
       "    }\n",
       "\n",
       "    .dataframe tbody tr th {\n",
       "        vertical-align: top;\n",
       "    }\n",
       "\n",
       "    .dataframe thead th {\n",
       "        text-align: right;\n",
       "    }\n",
       "</style>\n",
       "<table border=\"1\" class=\"dataframe\">\n",
       "  <thead>\n",
       "    <tr style=\"text-align: right;\">\n",
       "      <th></th>\n",
       "      <th>C</th>\n",
       "      <th>D</th>\n",
       "    </tr>\n",
       "    <tr>\n",
       "      <th>A</th>\n",
       "      <th></th>\n",
       "      <th></th>\n",
       "    </tr>\n",
       "  </thead>\n",
       "  <tbody>\n",
       "    <tr>\n",
       "      <th>false</th>\n",
       "      <td>2.150487</td>\n",
       "      <td>-1.998168</td>\n",
       "    </tr>\n",
       "    <tr>\n",
       "      <th>true</th>\n",
       "      <td>2.212870</td>\n",
       "      <td>-0.521136</td>\n",
       "    </tr>\n",
       "  </tbody>\n",
       "</table>\n",
       "</div>"
      ],
      "text/plain": [
       "              C         D\n",
       "A                        \n",
       "false  2.150487 -1.998168\n",
       "true   2.212870 -0.521136"
      ]
     },
     "execution_count": 162,
     "metadata": {},
     "output_type": "execute_result"
    }
   ],
   "source": [
    "df.groupby(['A']).sum()  #以A列特征分类并加总"
   ]
  },
  {
   "cell_type": "code",
   "execution_count": 163,
   "metadata": {},
   "outputs": [
    {
     "data": {
      "text/html": [
       "<div>\n",
       "<style scoped>\n",
       "    .dataframe tbody tr th:only-of-type {\n",
       "        vertical-align: middle;\n",
       "    }\n",
       "\n",
       "    .dataframe tbody tr th {\n",
       "        vertical-align: top;\n",
       "    }\n",
       "\n",
       "    .dataframe thead th {\n",
       "        text-align: right;\n",
       "    }\n",
       "</style>\n",
       "<table border=\"1\" class=\"dataframe\">\n",
       "  <thead>\n",
       "    <tr style=\"text-align: right;\">\n",
       "      <th></th>\n",
       "      <th></th>\n",
       "      <th>C</th>\n",
       "      <th>D</th>\n",
       "    </tr>\n",
       "    <tr>\n",
       "      <th>A</th>\n",
       "      <th>B</th>\n",
       "      <th></th>\n",
       "      <th></th>\n",
       "    </tr>\n",
       "  </thead>\n",
       "  <tbody>\n",
       "    <tr>\n",
       "      <th rowspan=\"3\" valign=\"top\">false</th>\n",
       "      <th>one</th>\n",
       "      <td>0.269412</td>\n",
       "      <td>-1.434963</td>\n",
       "    </tr>\n",
       "    <tr>\n",
       "      <th>three</th>\n",
       "      <td>1.779642</td>\n",
       "      <td>-0.194386</td>\n",
       "    </tr>\n",
       "    <tr>\n",
       "      <th>two</th>\n",
       "      <td>0.101434</td>\n",
       "      <td>-0.368818</td>\n",
       "    </tr>\n",
       "    <tr>\n",
       "      <th rowspan=\"2\" valign=\"top\">true</th>\n",
       "      <th>one</th>\n",
       "      <td>2.500173</td>\n",
       "      <td>-2.215846</td>\n",
       "    </tr>\n",
       "    <tr>\n",
       "      <th>two</th>\n",
       "      <td>-0.287303</td>\n",
       "      <td>1.694710</td>\n",
       "    </tr>\n",
       "  </tbody>\n",
       "</table>\n",
       "</div>"
      ],
      "text/plain": [
       "                    C         D\n",
       "A     B                        \n",
       "false one    0.269412 -1.434963\n",
       "      three  1.779642 -0.194386\n",
       "      two    0.101434 -0.368818\n",
       "true  one    2.500173 -2.215846\n",
       "      two   -0.287303  1.694710"
      ]
     },
     "execution_count": 163,
     "metadata": {},
     "output_type": "execute_result"
    }
   ],
   "source": [
    "df.groupby(['A','B']).sum()"
   ]
  },
  {
   "cell_type": "markdown",
   "metadata": {},
   "source": [
    "### 数据透视表"
   ]
  },
  {
   "cell_type": "code",
   "execution_count": 164,
   "metadata": {},
   "outputs": [
    {
     "data": {
      "text/html": [
       "<div>\n",
       "<style scoped>\n",
       "    .dataframe tbody tr th:only-of-type {\n",
       "        vertical-align: middle;\n",
       "    }\n",
       "\n",
       "    .dataframe tbody tr th {\n",
       "        vertical-align: top;\n",
       "    }\n",
       "\n",
       "    .dataframe thead th {\n",
       "        text-align: right;\n",
       "    }\n",
       "</style>\n",
       "<table border=\"1\" class=\"dataframe\">\n",
       "  <thead>\n",
       "    <tr style=\"text-align: right;\">\n",
       "      <th></th>\n",
       "      <th>A</th>\n",
       "      <th>B</th>\n",
       "      <th>C</th>\n",
       "      <th>D</th>\n",
       "      <th>E</th>\n",
       "    </tr>\n",
       "  </thead>\n",
       "  <tbody>\n",
       "    <tr>\n",
       "      <th>0</th>\n",
       "      <td>one</td>\n",
       "      <td>A</td>\n",
       "      <td>foo</td>\n",
       "      <td>1.699537</td>\n",
       "      <td>-0.212733</td>\n",
       "    </tr>\n",
       "    <tr>\n",
       "      <th>1</th>\n",
       "      <td>one</td>\n",
       "      <td>B</td>\n",
       "      <td>foo</td>\n",
       "      <td>-0.383423</td>\n",
       "      <td>0.331974</td>\n",
       "    </tr>\n",
       "    <tr>\n",
       "      <th>2</th>\n",
       "      <td>two</td>\n",
       "      <td>C</td>\n",
       "      <td>foo</td>\n",
       "      <td>-0.889857</td>\n",
       "      <td>0.735027</td>\n",
       "    </tr>\n",
       "    <tr>\n",
       "      <th>3</th>\n",
       "      <td>three</td>\n",
       "      <td>A</td>\n",
       "      <td>bar</td>\n",
       "      <td>-1.193592</td>\n",
       "      <td>-0.192855</td>\n",
       "    </tr>\n",
       "    <tr>\n",
       "      <th>4</th>\n",
       "      <td>one</td>\n",
       "      <td>B</td>\n",
       "      <td>bar</td>\n",
       "      <td>-1.050017</td>\n",
       "      <td>-1.778013</td>\n",
       "    </tr>\n",
       "    <tr>\n",
       "      <th>5</th>\n",
       "      <td>one</td>\n",
       "      <td>C</td>\n",
       "      <td>bar</td>\n",
       "      <td>-0.300194</td>\n",
       "      <td>0.654706</td>\n",
       "    </tr>\n",
       "    <tr>\n",
       "      <th>6</th>\n",
       "      <td>two</td>\n",
       "      <td>A</td>\n",
       "      <td>foo</td>\n",
       "      <td>-1.179982</td>\n",
       "      <td>0.894352</td>\n",
       "    </tr>\n",
       "    <tr>\n",
       "      <th>7</th>\n",
       "      <td>three</td>\n",
       "      <td>B</td>\n",
       "      <td>foo</td>\n",
       "      <td>1.497639</td>\n",
       "      <td>0.415503</td>\n",
       "    </tr>\n",
       "    <tr>\n",
       "      <th>8</th>\n",
       "      <td>one</td>\n",
       "      <td>C</td>\n",
       "      <td>foo</td>\n",
       "      <td>-0.282635</td>\n",
       "      <td>-0.923545</td>\n",
       "    </tr>\n",
       "    <tr>\n",
       "      <th>9</th>\n",
       "      <td>one</td>\n",
       "      <td>A</td>\n",
       "      <td>bar</td>\n",
       "      <td>0.108648</td>\n",
       "      <td>-0.196027</td>\n",
       "    </tr>\n",
       "    <tr>\n",
       "      <th>10</th>\n",
       "      <td>two</td>\n",
       "      <td>B</td>\n",
       "      <td>bar</td>\n",
       "      <td>1.438240</td>\n",
       "      <td>-0.590770</td>\n",
       "    </tr>\n",
       "    <tr>\n",
       "      <th>11</th>\n",
       "      <td>three</td>\n",
       "      <td>C</td>\n",
       "      <td>bar</td>\n",
       "      <td>1.503319</td>\n",
       "      <td>-0.299711</td>\n",
       "    </tr>\n",
       "  </tbody>\n",
       "</table>\n",
       "</div>"
      ],
      "text/plain": [
       "        A  B    C         D         E\n",
       "0     one  A  foo  1.699537 -0.212733\n",
       "1     one  B  foo -0.383423  0.331974\n",
       "2     two  C  foo -0.889857  0.735027\n",
       "3   three  A  bar -1.193592 -0.192855\n",
       "4     one  B  bar -1.050017 -1.778013\n",
       "5     one  C  bar -0.300194  0.654706\n",
       "6     two  A  foo -1.179982  0.894352\n",
       "7   three  B  foo  1.497639  0.415503\n",
       "8     one  C  foo -0.282635 -0.923545\n",
       "9     one  A  bar  0.108648 -0.196027\n",
       "10    two  B  bar  1.438240 -0.590770\n",
       "11  three  C  bar  1.503319 -0.299711"
      ]
     },
     "execution_count": 164,
     "metadata": {},
     "output_type": "execute_result"
    }
   ],
   "source": [
    "df = pd.DataFrame({'A' : ['one', 'one', 'two', 'three'] * 3,\n",
    "                   'B' : ['A', 'B', 'C'] * 4,\n",
    "                   'C' : ['foo', 'foo', 'foo', 'bar', 'bar', \n",
    "                          'bar'] * 2,\n",
    "                   'D' : np.random.randn(12),\n",
    "                   'E' : np.random.randn(12)})\n",
    "df"
   ]
  },
  {
   "cell_type": "code",
   "execution_count": 165,
   "metadata": {},
   "outputs": [
    {
     "data": {
      "text/html": [
       "<div>\n",
       "<style scoped>\n",
       "    .dataframe tbody tr th:only-of-type {\n",
       "        vertical-align: middle;\n",
       "    }\n",
       "\n",
       "    .dataframe tbody tr th {\n",
       "        vertical-align: top;\n",
       "    }\n",
       "\n",
       "    .dataframe thead th {\n",
       "        text-align: right;\n",
       "    }\n",
       "</style>\n",
       "<table border=\"1\" class=\"dataframe\">\n",
       "  <thead>\n",
       "    <tr style=\"text-align: right;\">\n",
       "      <th></th>\n",
       "      <th>C</th>\n",
       "      <th>bar</th>\n",
       "      <th>foo</th>\n",
       "    </tr>\n",
       "    <tr>\n",
       "      <th>A</th>\n",
       "      <th>B</th>\n",
       "      <th></th>\n",
       "      <th></th>\n",
       "    </tr>\n",
       "  </thead>\n",
       "  <tbody>\n",
       "    <tr>\n",
       "      <th rowspan=\"3\" valign=\"top\">one</th>\n",
       "      <th>A</th>\n",
       "      <td>0.108648</td>\n",
       "      <td>1.699537</td>\n",
       "    </tr>\n",
       "    <tr>\n",
       "      <th>B</th>\n",
       "      <td>-1.050017</td>\n",
       "      <td>-0.383423</td>\n",
       "    </tr>\n",
       "    <tr>\n",
       "      <th>C</th>\n",
       "      <td>-0.300194</td>\n",
       "      <td>-0.282635</td>\n",
       "    </tr>\n",
       "    <tr>\n",
       "      <th rowspan=\"3\" valign=\"top\">three</th>\n",
       "      <th>A</th>\n",
       "      <td>-1.193592</td>\n",
       "      <td>NaN</td>\n",
       "    </tr>\n",
       "    <tr>\n",
       "      <th>B</th>\n",
       "      <td>NaN</td>\n",
       "      <td>1.497639</td>\n",
       "    </tr>\n",
       "    <tr>\n",
       "      <th>C</th>\n",
       "      <td>1.503319</td>\n",
       "      <td>NaN</td>\n",
       "    </tr>\n",
       "    <tr>\n",
       "      <th rowspan=\"3\" valign=\"top\">two</th>\n",
       "      <th>A</th>\n",
       "      <td>NaN</td>\n",
       "      <td>-1.179982</td>\n",
       "    </tr>\n",
       "    <tr>\n",
       "      <th>B</th>\n",
       "      <td>1.438240</td>\n",
       "      <td>NaN</td>\n",
       "    </tr>\n",
       "    <tr>\n",
       "      <th>C</th>\n",
       "      <td>NaN</td>\n",
       "      <td>-0.889857</td>\n",
       "    </tr>\n",
       "  </tbody>\n",
       "</table>\n",
       "</div>"
      ],
      "text/plain": [
       "C             bar       foo\n",
       "A     B                    \n",
       "one   A  0.108648  1.699537\n",
       "      B -1.050017 -0.383423\n",
       "      C -0.300194 -0.282635\n",
       "three A -1.193592       NaN\n",
       "      B       NaN  1.497639\n",
       "      C  1.503319       NaN\n",
       "two   A       NaN -1.179982\n",
       "      B  1.438240       NaN\n",
       "      C       NaN -0.889857"
      ]
     },
     "execution_count": 165,
     "metadata": {},
     "output_type": "execute_result"
    }
   ],
   "source": [
    "pd.pivot_table(df, values='D', index=['A', 'B'], columns=['C'])"
   ]
  },
  {
   "cell_type": "markdown",
   "metadata": {},
   "source": [
    "## 七、数据可视化"
   ]
  },
  {
   "cell_type": "code",
   "execution_count": 166,
   "metadata": {},
   "outputs": [
    {
     "ename": "ModuleNotFoundError",
     "evalue": "No module named 'tushare'",
     "output_type": "error",
     "traceback": [
      "\u001b[0;31m---------------------------------------------------------------------------\u001b[0m",
      "\u001b[0;31mModuleNotFoundError\u001b[0m                       Traceback (most recent call last)",
      "\u001b[1;32m/Users/robinyu/Workspace/JupyterNotebook/Quant/01 基础相关/3.Pandas简述.ipynb Cell 83\u001b[0m in \u001b[0;36m<cell line: 12>\u001b[0;34m()\u001b[0m\n\u001b[1;32m      <a href='vscode-notebook-cell:/Users/robinyu/Workspace/JupyterNotebook/Quant/01%20%E5%9F%BA%E7%A1%80%E7%9B%B8%E5%85%B3/3.Pandas%E7%AE%80%E8%BF%B0.ipynb#Y145sZmlsZQ%3D%3D?line=8'>9</a>\u001b[0m ts\u001b[39m.\u001b[39mplot(figsize\u001b[39m=\u001b[39m(\u001b[39m12\u001b[39m,\u001b[39m8\u001b[39m))\n\u001b[1;32m     <a href='vscode-notebook-cell:/Users/robinyu/Workspace/JupyterNotebook/Quant/01%20%E5%9F%BA%E7%A1%80%E7%9B%B8%E5%85%B3/3.Pandas%E7%AE%80%E8%BF%B0.ipynb#Y145sZmlsZQ%3D%3D?line=9'>10</a>\u001b[0m \u001b[39m#利用tushare包抓取股票数据并画图\u001b[39;00m\n\u001b[1;32m     <a href='vscode-notebook-cell:/Users/robinyu/Workspace/JupyterNotebook/Quant/01%20%E5%9F%BA%E7%A1%80%E7%9B%B8%E5%85%B3/3.Pandas%E7%AE%80%E8%BF%B0.ipynb#Y145sZmlsZQ%3D%3D?line=10'>11</a>\u001b[0m \u001b[39m#得到的是DataFrame的数据结构\u001b[39;00m\n\u001b[0;32m---> <a href='vscode-notebook-cell:/Users/robinyu/Workspace/JupyterNotebook/Quant/01%20%E5%9F%BA%E7%A1%80%E7%9B%B8%E5%85%B3/3.Pandas%E7%AE%80%E8%BF%B0.ipynb#Y145sZmlsZQ%3D%3D?line=11'>12</a>\u001b[0m \u001b[39mimport\u001b[39;00m \u001b[39mtushare\u001b[39;00m \u001b[39mas\u001b[39;00m \u001b[39mts\u001b[39;00m\n\u001b[1;32m     <a href='vscode-notebook-cell:/Users/robinyu/Workspace/JupyterNotebook/Quant/01%20%E5%9F%BA%E7%A1%80%E7%9B%B8%E5%85%B3/3.Pandas%E7%AE%80%E8%BF%B0.ipynb#Y145sZmlsZQ%3D%3D?line=12'>13</a>\u001b[0m df\u001b[39m=\u001b[39mts\u001b[39m.\u001b[39mget_k_data(\u001b[39m'\u001b[39m\u001b[39msh\u001b[39m\u001b[39m'\u001b[39m,start\u001b[39m=\u001b[39m\u001b[39m'\u001b[39m\u001b[39m1990-01-01\u001b[39m\u001b[39m'\u001b[39m)\n\u001b[1;32m     <a href='vscode-notebook-cell:/Users/robinyu/Workspace/JupyterNotebook/Quant/01%20%E5%9F%BA%E7%A1%80%E7%9B%B8%E5%85%B3/3.Pandas%E7%AE%80%E8%BF%B0.ipynb#Y145sZmlsZQ%3D%3D?line=13'>14</a>\u001b[0m \u001b[39mimport\u001b[39;00m \u001b[39mpandas\u001b[39;00m \u001b[39mas\u001b[39;00m \u001b[39mpd\u001b[39;00m\n",
      "\u001b[0;31mModuleNotFoundError\u001b[0m: No module named 'tushare'"
     ]
    },
    {
     "data": {
      "image/png": "[encoded data removed]",
      "text/plain": [
       "<Figure size 1200x800 with 1 Axes>"
      ]
     },
     "metadata": {},
     "output_type": "display_data"
    }
   ],
   "source": [
    "import matplotlib.pyplot as plt\n",
    "from pylab import mpl  \n",
    "mpl.rcParams['font.sans-serif'] = ['SimHei'] # 用来正常显示中文标签 \n",
    "mpl.rcParams['axes.unicode_minus']=False  # 用来正常显示负号\n",
    "%matplotlib inline\n",
    "ts = pd.Series(np.random.randn(1000), index=pd.date_range('1/1/2000',\n",
    "                periods=1000))\n",
    "ts = ts.cumsum()\n",
    "ts.plot(figsize=(12,8))\n",
    "#利用tushare包抓取股票数据并画图\n",
    "#得到的是DataFrame的数据结构\n",
    "import tushare as ts\n",
    "df=ts.get_k_data('sh',start='1990-01-01')\n",
    "import pandas as pd\n",
    "df.index=pd.to_datetime(df['date'])\n",
    "df['close'].plot(figsize=(12,8))\n",
    "plt.title(\"上证指数走势\")"
   ]
  }
 ],
 "metadata": {
  "kernelspec": {
   "display_name": "Python 3.9.13 ('JupyterNotebook-5PCSqSH0')",
   "language": "python",
   "name": "python3"
  },
  "language_info": {
   "codemirror_mode": {
    "name": "ipython",
    "version": 3
   },
   "file_extension": ".py",
   "mimetype": "text/x-python",
   "name": "python",
   "nbconvert_exporter": "python",
   "pygments_lexer": "ipython3",
   "version": "3.9.13"
  },
  "orig_nbformat": 4,
  "vscode": {
   "interpreter": {
    "hash": "c57bdfac97ca45c05f862af0e07e2a609dfb06d83bc5ec7dd8d02f8ae1750a09"
   }
  }
 },
 "nbformat": 4,
 "nbformat_minor": 2
}
