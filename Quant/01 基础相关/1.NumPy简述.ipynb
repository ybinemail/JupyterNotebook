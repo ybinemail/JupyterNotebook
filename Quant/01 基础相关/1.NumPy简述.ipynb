{
 "cells": [
  {
   "cell_type": "markdown",
   "metadata": {},
   "source": [
    "# NumPy简述\n",
    "\n",
    "## 一、数组\n",
    "NumPy中的基本对象是`同类型`的`多维数组`（`homogeneous multidimensional array`），这和C++中的数组是一致的，例如字符型和数值型就不可共存于同一个数组中。先上例子："
   ]
  },
  {
   "cell_type": "code",
   "execution_count": 121,
   "metadata": {},
   "outputs": [
    {
     "name": "stdout",
     "output_type": "stream",
     "text": [
      "[ 0  1  2  3  4  5  6  7  8  9 10 11 12 13 14 15 16 17 18 19]\n"
     ]
    }
   ],
   "source": [
    "import numpy as np\n",
    "a = np.arange(20)\n",
    "print(a)"
   ]
  },
  {
   "cell_type": "markdown",
   "metadata": {},
   "source": [
    "这里我们生成了一个一维数组a，从0开始，步长为1，长度为20。Python中的计数是从0开始的，R和Matlab的使用者需要小心。\n",
    "\n",
    "通过函数`reshape`，我们可以重新构造一下这个数组，例如，我们可以构造一个`4*5`的二维数组，其中`reshape`的参数表示各维度的大小，且按`各维顺序排列`（两维时就是按行排列，这和R中按列是不同的）："
   ]
  },
  {
   "cell_type": "code",
   "execution_count": 122,
   "metadata": {},
   "outputs": [
    {
     "name": "stdout",
     "output_type": "stream",
     "text": [
      "[[ 0  1  2  3  4]\n",
      " [ 5  6  7  8  9]\n",
      " [10 11 12 13 14]\n",
      " [15 16 17 18 19]]\n"
     ]
    }
   ],
   "source": [
    "a = a.reshape(4,5)\n",
    "print(a)"
   ]
  },
  {
   "cell_type": "markdown",
   "metadata": {},
   "source": [
    "构造更高维的也没问题:"
   ]
  },
  {
   "cell_type": "code",
   "execution_count": 123,
   "metadata": {},
   "outputs": [
    {
     "name": "stdout",
     "output_type": "stream",
     "text": [
      "[[[ 0  1  2  3  4]\n",
      "  [ 5  6  7  8  9]]\n",
      "\n",
      " [[10 11 12 13 14]\n",
      "  [15 16 17 18 19]]]\n"
     ]
    }
   ],
   "source": [
    "a = a.reshape(2, 2, 5)\n",
    "print(a)"
   ]
  },
  {
   "cell_type": "markdown",
   "metadata": {},
   "source": [
    "既然`a`是`array`，我们还可以调用`array`的函数进一步查看`a`的相关属性：\n",
    "* `ndim`查看维度；\n",
    "* `shape`查看各维度的大小；\n",
    "* `size`查看全部的元素个数，等于各维度大小的乘积；\n",
    "* `dtype`可查看元素类型；"
   ]
  },
  {
   "cell_type": "code",
   "execution_count": 124,
   "metadata": {},
   "outputs": [
    {
     "name": "stdout",
     "output_type": "stream",
     "text": [
      "3\n",
      "(2, 2, 5)\n",
      "20\n",
      "int64\n"
     ]
    }
   ],
   "source": [
    "print(a.ndim)\n",
    "print(a.shape)\n",
    "print(a.size)\n",
    "print(a.dtype)"
   ]
  },
  {
   "cell_type": "markdown",
   "metadata": {},
   "source": [
    "## 二、创建数组\n",
    "数组的创建可通过转换列表实现，高维数组可通过转换嵌套列表实现："
   ]
  },
  {
   "cell_type": "code",
   "execution_count": 125,
   "metadata": {},
   "outputs": [
    {
     "name": "stdout",
     "output_type": "stream",
     "text": [
      "[0 1 2 3 4]\n",
      "[[0 1 2 3 4]\n",
      " [5 6 7 8 9]]\n"
     ]
    }
   ],
   "source": [
    "raw = [0, 1, 2, 3, 4]\n",
    "a = np.array(raw)\n",
    "print(a)\n",
    "\n",
    "raw = [[0, 1, 2, 3, 4], [5, 6, 7, 8, 9]]\n",
    "b = np.array(raw)\n",
    "\n",
    "print(b)"
   ]
  },
  {
   "cell_type": "markdown",
   "metadata": {},
   "source": [
    "一些特殊的数组有特别定制的命令生成，如`4*5`的全零矩阵："
   ]
  },
  {
   "cell_type": "code",
   "execution_count": 126,
   "metadata": {},
   "outputs": [
    {
     "name": "stdout",
     "output_type": "stream",
     "text": [
      "[[0. 0. 0. 0. 0.]\n",
      " [0. 0. 0. 0. 0.]\n",
      " [0. 0. 0. 0. 0.]\n",
      " [0. 0. 0. 0. 0.]]\n"
     ]
    }
   ],
   "source": [
    "d = (4, 5)\n",
    "c = np.zeros(d)\n",
    "print(c)"
   ]
  },
  {
   "cell_type": "markdown",
   "metadata": {},
   "source": [
    "默认生成的类型是浮点型，可以通过指定类型改为整型："
   ]
  },
  {
   "cell_type": "code",
   "execution_count": 127,
   "metadata": {},
   "outputs": [
    {
     "data": {
      "text/plain": [
       "array([[1, 1, 1, 1, 1],\n",
       "       [1, 1, 1, 1, 1],\n",
       "       [1, 1, 1, 1, 1],\n",
       "       [1, 1, 1, 1, 1]])"
      ]
     },
     "execution_count": 127,
     "metadata": {},
     "output_type": "execute_result"
    }
   ],
   "source": [
    "d = (4, 5)\n",
    "np.ones(d, dtype=int)"
   ]
  },
  {
   "cell_type": "markdown",
   "metadata": {},
   "source": [
    "`[0, 1)`区间的随机数数组："
   ]
  },
  {
   "cell_type": "code",
   "execution_count": 128,
   "metadata": {},
   "outputs": [
    {
     "data": {
      "text/plain": [
       "array([0.01830846, 0.53752361, 0.84015703, 0.74893688, 0.12269316])"
      ]
     },
     "execution_count": 128,
     "metadata": {},
     "output_type": "execute_result"
    }
   ],
   "source": [
    "np.random.rand(5)"
   ]
  },
  {
   "cell_type": "markdown",
   "metadata": {},
   "source": [
    "## 三、数组操作\n",
    "简单的四则运算已经重载过了，全部的`+，-，*，/`运算都是基于全部的数组元素的，以加法为例："
   ]
  },
  {
   "cell_type": "code",
   "execution_count": 129,
   "metadata": {},
   "outputs": [
    {
     "name": "stdout",
     "output_type": "stream",
     "text": [
      "[[4.2 3.5]\n",
      " [4.5 8. ]]\n",
      "[[ 3.2  3. ]\n",
      " [ 5.  16. ]]\n"
     ]
    }
   ],
   "source": [
    "a = np.array([[1.0, 2], [2, 4]])\n",
    "b = np.array([[3.2, 1.5], [2.5, 4]])\n",
    "print(a+b)\n",
    "print(a*b)"
   ]
  },
  {
   "cell_type": "markdown",
   "metadata": {},
   "source": [
    "这里可以发现，`a`中虽然仅有一个与元素是浮点数，其余均为整数，在处理中Python会自动将整数转换为浮点数（因为数组是同质的），并且，两个二维数组相加要求各维度大小相同。当然，`NumPy`里这些运算符也可以对标量和数组操作，结果是数组的全部元素对应这个标量进行运算，还是一个数组："
   ]
  },
  {
   "cell_type": "code",
   "execution_count": 130,
   "metadata": {},
   "outputs": [
    {
     "name": "stdout",
     "output_type": "stream",
     "text": [
      "[[ 3.  6.]\n",
      " [ 6. 12.]]\n",
      "[[2.8 3.8]\n",
      " [3.8 5.8]]\n"
     ]
    }
   ],
   "source": [
    "print(3*a)\n",
    "print(a + 1.8)"
   ]
  },
  {
   "cell_type": "markdown",
   "metadata": {},
   "source": [
    "类似C++，`+=、-=、*=、/=`操作符在NumPy中同样支持："
   ]
  },
  {
   "cell_type": "code",
   "execution_count": 131,
   "metadata": {},
   "outputs": [
    {
     "name": "stdout",
     "output_type": "stream",
     "text": [
      "[[3. 4.]\n",
      " [4. 6.]]\n"
     ]
    }
   ],
   "source": [
    "a += 2\n",
    "print(a)"
   ]
  },
  {
   "cell_type": "markdown",
   "metadata": {},
   "source": [
    "开根号求指数也很容易："
   ]
  },
  {
   "cell_type": "code",
   "execution_count": 132,
   "metadata": {},
   "outputs": [
    {
     "name": "stdout",
     "output_type": "stream",
     "text": [
      "[[ 20.08553692  54.59815003]\n",
      " [ 54.59815003 403.42879349]]\n",
      "[[1.73205081 2.        ]\n",
      " [2.         2.44948974]]\n",
      "[[ 9. 16.]\n",
      " [16. 36.]]\n",
      "[[ 27.  64.]\n",
      " [ 64. 216.]]\n"
     ]
    }
   ],
   "source": [
    "print(np.exp(a)) #e的指数\n",
    "print(np.sqrt(a)) #开根号\n",
    "print(np.square(a)) #平方数\n",
    "print(np.power(a, 3)) # 3次方"
   ]
  },
  {
   "cell_type": "markdown",
   "metadata": {},
   "source": [
    "需要知道二维数组的最大最小值怎么办？\n",
    "\n",
    "想计算全部元素的和、按行求和、按列求和怎么办？for循环吗？不，NumPy的`ndarray`类已经做好函数了："
   ]
  },
  {
   "cell_type": "code",
   "execution_count": 133,
   "metadata": {},
   "outputs": [
    {
     "name": "stdout",
     "output_type": "stream",
     "text": [
      "[[ 0  1  2  3  4]\n",
      " [ 5  6  7  8  9]\n",
      " [10 11 12 13 14]\n",
      " [15 16 17 18 19]]\n",
      "sum of all elements in a: 190\n",
      "maximum element in a: 19\n",
      "minimum element in a: 0\n",
      "maximum element in each row of a: [ 4  9 14 19]\n",
      "minimum element in each column of a: [0 1 2 3 4]\n"
     ]
    }
   ],
   "source": [
    "a = np.arange(20).reshape(4, 5)\n",
    "print(a)\n",
    "print(\"sum of all elements in a: \" + str(a.sum())) # 求和\n",
    "print(\"maximum element in a: \" + str(a.max()))\n",
    "print(\"minimum element in a: \" + str(a.min()))\n",
    "print(\"maximum element in each row of a: \" + str(a.max(axis=1)))\n",
    "print(\"minimum element in each column of a: \" + str(a.min(axis=0)))"
   ]
  },
  {
   "cell_type": "markdown",
   "metadata": {},
   "source": [
    "科学计算中大量使用到矩阵运算，除了数组，`NumPy`同时提供了`矩阵对象`（`matrix`）。`矩阵对象和数组`的主要有`两点差别`：\n",
    "* 一是矩阵是二维的，而数组的可以是任意正整数维；\n",
    "* 二是矩阵的 **操作符进行的是矩阵乘法，乘号左侧的矩阵列和乘号右侧的矩阵行要相等**，而在数组中操作符进行的是每一元素的`对应相乘`，乘号两侧的数组每一维大小需要一致。\n",
    "\n",
    "数组可以通过`asmatrix`或者`mat`转换为矩阵，或者直接生成也可以："
   ]
  },
  {
   "cell_type": "code",
   "execution_count": 134,
   "metadata": {},
   "outputs": [
    {
     "name": "stdout",
     "output_type": "stream",
     "text": [
      "[[ 0  1  2  3  4]\n",
      " [ 5  6  7  8  9]\n",
      " [10 11 12 13 14]\n",
      " [15 16 17 18 19]]\n",
      "<class 'numpy.matrix'>\n",
      "[[1. 2.]\n",
      " [3. 4.]]\n"
     ]
    }
   ],
   "source": [
    "a = np.arange(20).reshape(4, 5)\n",
    "a = np.asmatrix(a)\n",
    "print(a)\n",
    "print(type(a))\n",
    "\n",
    "b = np.matrix('1.0 2.0; 3.0 4.0')\n",
    "print(b)"
   ]
  },
  {
   "cell_type": "markdown",
   "metadata": {},
   "source": [
    "再来看一下矩阵的乘法，这使用arange生成另一个矩阵b，arange函数还可以通过arange(起始，终止，步长)的方式调用生成等差数列，注意含头不含尾。"
   ]
  },
  {
   "cell_type": "code",
   "execution_count": 135,
   "metadata": {},
   "outputs": [
    {
     "name": "stdout",
     "output_type": "stream",
     "text": [
      "[[ 2  5  8]\n",
      " [11 14 17]\n",
      " [20 23 26]\n",
      " [29 32 35]\n",
      " [38 41 44]]\n"
     ]
    }
   ],
   "source": [
    "b = np.arange(2, 45, 3).reshape(5, 3)\n",
    "b = np.mat(b)\n",
    "print(b)"
   ]
  },
  {
   "cell_type": "markdown",
   "metadata": {},
   "source": [
    "有人要问了，arange指定的是步长，如果想指定生成的一维数组的长度怎么办？好办，linspace就可以做到："
   ]
  },
  {
   "cell_type": "code",
   "execution_count": 136,
   "metadata": {},
   "outputs": [
    {
     "data": {
      "text/plain": [
       "array([0.  , 0.25, 0.5 , 0.75, 1.  , 1.25, 1.5 , 1.75, 2.  ])"
      ]
     },
     "execution_count": 136,
     "metadata": {},
     "output_type": "execute_result"
    }
   ],
   "source": [
    "np.linspace(0, 2, 9)"
   ]
  },
  {
   "cell_type": "markdown",
   "metadata": {},
   "source": [
    "矩阵a和b做矩阵乘法："
   ]
  },
  {
   "cell_type": "code",
   "execution_count": 137,
   "metadata": {},
   "outputs": [
    {
     "name": "stdout",
     "output_type": "stream",
     "text": [
      "[[ 0  1  2  3  4]\n",
      " [ 5  6  7  8  9]\n",
      " [10 11 12 13 14]\n",
      " [15 16 17 18 19]]\n",
      "[[ 2  5  8]\n",
      " [11 14 17]\n",
      " [20 23 26]\n",
      " [29 32 35]\n",
      " [38 41 44]]\n",
      "[[ 290  320  350]\n",
      " [ 790  895 1000]\n",
      " [1290 1470 1650]\n",
      " [1790 2045 2300]]\n"
     ]
    }
   ],
   "source": [
    "print(a)\n",
    "print(b)\n",
    "print(a*b)"
   ]
  },
  {
   "cell_type": "markdown",
   "metadata": {},
   "source": [
    "## 四、数组元素访问\n",
    "数组和矩阵元素的访问可通过下标进行，以下均以二维数组（或矩阵）为例："
   ]
  },
  {
   "cell_type": "code",
   "execution_count": 138,
   "metadata": {},
   "outputs": [
    {
     "name": "stdout",
     "output_type": "stream",
     "text": [
      "1.5\n",
      "1.5\n"
     ]
    }
   ],
   "source": [
    "a = np.array([[3.2, 1.5], [2.5, 4]])\n",
    "print(a[0][1])\n",
    "print(a[0,1])"
   ]
  },
  {
   "cell_type": "markdown",
   "metadata": {},
   "source": [
    "可以通过下标访问来修改数组元素的值："
   ]
  },
  {
   "cell_type": "code",
   "execution_count": 139,
   "metadata": {},
   "outputs": [
    {
     "name": "stdout",
     "output_type": "stream",
     "text": [
      "[[3.2 2. ]\n",
      " [2.5 4. ]]\n",
      "[[3.2 2. ]\n",
      " [2.5 4. ]]\n"
     ]
    }
   ],
   "source": [
    "b = a\n",
    "a[0][1] = 2.0\n",
    "print(b)\n",
    "print(a)"
   ]
  },
  {
   "cell_type": "markdown",
   "metadata": {},
   "source": [
    "现在问题来了，明明改的是a[0][1]，怎么连b[0][1]也跟着变了？这个陷阱在Python编程中很容易碰上，其原因在于Python不是真正将a复制一份给b，而是将b指到了a对应数据的内存地址上。想要真正的复制一份a给b，可以使用copy："
   ]
  },
  {
   "cell_type": "code",
   "execution_count": 140,
   "metadata": {},
   "outputs": [
    {
     "name": "stdout",
     "output_type": "stream",
     "text": [
      "[[3.2 1.5]\n",
      " [2.5 4. ]]\n",
      "[[3.2 2. ]\n",
      " [2.5 4. ]]\n"
     ]
    }
   ],
   "source": [
    "a = np.array([[3.2, 1.5], [2.5, 4]])\n",
    "b = a.copy()\n",
    "a[0][1] = 2.0\n",
    "print(b)\n",
    "print(a)"
   ]
  },
  {
   "cell_type": "markdown",
   "metadata": {},
   "source": [
    "若对a重新赋值，即将a指到其他地址上，b仍在原来的地址上："
   ]
  },
  {
   "cell_type": "code",
   "execution_count": 141,
   "metadata": {},
   "outputs": [],
   "source": [
    "a = np.array([[3.2, 1.5], [2.5, 4]])\n",
    "b = a\n",
    "a = np.array([[2, 1], [9, 3]])"
   ]
  },
  {
   "cell_type": "code",
   "execution_count": 142,
   "metadata": {},
   "outputs": [
    {
     "name": "stdout",
     "output_type": "stream",
     "text": [
      "[[2 1]\n",
      " [9 3]]\n",
      "[[3.2 1.5]\n",
      " [2.5 4. ]]\n"
     ]
    }
   ],
   "source": [
    "print(a)\n",
    "print(b)"
   ]
  },
  {
   "cell_type": "markdown",
   "metadata": {},
   "source": [
    "利用`:`可以访问到某一维的全部数据，例如取矩阵中的指定列："
   ]
  },
  {
   "cell_type": "code",
   "execution_count": 143,
   "metadata": {},
   "outputs": [
    {
     "name": "stdout",
     "output_type": "stream",
     "text": [
      "[[ 0  1  2  3  4]\n",
      " [ 5  6  7  8  9]\n",
      " [10 11 12 13 14]\n",
      " [15 16 17 18 19]]\n",
      "[[ 1  3]\n",
      " [ 6  8]\n",
      " [11 13]\n",
      " [16 18]]\n"
     ]
    }
   ],
   "source": [
    "a = np.arange(20).reshape(4, 5)\n",
    "\n",
    "print(a)\n",
    "print(a[:, [1, 3]])"
   ]
  },
  {
   "cell_type": "markdown",
   "metadata": {},
   "source": [
    "稍微复杂一些，我们尝试取出满足某些条件的元素，这在数据的处理中十分常见，通常用在单行单列上。\n",
    "\n",
    "下面这个例子是将第一列大于5的元素（10和15）对应的第三列元素（12和17）取出来："
   ]
  },
  {
   "cell_type": "code",
   "execution_count": 144,
   "metadata": {},
   "outputs": [
    {
     "name": "stdout",
     "output_type": "stream",
     "text": [
      "[12 17]\n"
     ]
    }
   ],
   "source": [
    "print(a[:, 2][a[:, 0] > 5])"
   ]
  },
  {
   "cell_type": "markdown",
   "metadata": {},
   "source": [
    "可使用where函数查找特定值在数组中的位置："
   ]
  },
  {
   "cell_type": "code",
   "execution_count": 145,
   "metadata": {},
   "outputs": [
    {
     "name": "stdout",
     "output_type": "stream",
     "text": [
      "(array([2]), array([1]))\n",
      "11\n"
     ]
    }
   ],
   "source": [
    "loc = np.where(a == 11)\n",
    "print(loc)\n",
    "print(a[loc[0][0], loc[1][0]])"
   ]
  },
  {
   "cell_type": "markdown",
   "metadata": {},
   "source": [
    "## 五、矩阵操作\n",
    "### 矩阵转置："
   ]
  },
  {
   "cell_type": "code",
   "execution_count": 146,
   "metadata": {},
   "outputs": [
    {
     "name": "stdout",
     "output_type": "stream",
     "text": [
      "[[0.53938463 0.09740076 0.14837233 0.97557417]\n",
      " [0.3519553  0.78887398 0.58568078 0.60447673]]\n",
      "[[0.53938463 0.3519553 ]\n",
      " [0.09740076 0.78887398]\n",
      " [0.14837233 0.58568078]\n",
      " [0.97557417 0.60447673]]\n",
      "[[0.91523966 0.45328236 0.25653551 0.319851  ]\n",
      " [0.53632806 0.57246777 0.16722138 0.49967316]]\n",
      "[[0.91523966 0.53632806]\n",
      " [0.45328236 0.57246777]\n",
      " [0.25653551 0.16722138]\n",
      " [0.319851   0.49967316]]\n"
     ]
    }
   ],
   "source": [
    "a = np.random.rand(2, 4)\n",
    "print(a)\n",
    "a = np.transpose(a)\n",
    "print(a)\n",
    "\n",
    "b = np.random.rand(2, 4)\n",
    "b = np.mat(b)\n",
    "print(b)\n",
    "print(b.T) ## 矩阵转置"
   ]
  },
  {
   "cell_type": "markdown",
   "metadata": {},
   "source": [
    "### 矩阵求逆"
   ]
  },
  {
   "cell_type": "code",
   "execution_count": 147,
   "metadata": {},
   "outputs": [
    {
     "name": "stdout",
     "output_type": "stream",
     "text": [
      "[[0.12254115 0.08813315]\n",
      " [0.36013897 0.36762138]]\n",
      "[[ 27.6229233   -6.62228986]\n",
      " [-27.06069809   9.20769259]]\n",
      "[[ 1.00000000e+00  5.92774933e-17]\n",
      " [-9.69098904e-17  1.00000000e+00]]\n"
     ]
    }
   ],
   "source": [
    "import numpy.linalg as nlg\n",
    "\n",
    "a = np.random.rand(2, 2)\n",
    "a = np.mat(a)\n",
    "print(a)\n",
    "ia = nlg.inv(a)\n",
    "print(ia)\n",
    "print(a * ia)"
   ]
  },
  {
   "cell_type": "markdown",
   "metadata": {},
   "source": [
    "### 求特征值和特征向量"
   ]
  },
  {
   "cell_type": "code",
   "execution_count": 148,
   "metadata": {},
   "outputs": [
    {
     "name": "stdout",
     "output_type": "stream",
     "text": [
      "[ 1.81987668  0.30196216 -0.51108981]\n",
      "[[-0.63429605 -0.70916595 -0.38762699]\n",
      " [-0.57348558  0.67384003 -0.5307123 ]\n",
      " [-0.51844267 -0.2074205   0.7537173 ]]\n"
     ]
    }
   ],
   "source": [
    "a = np.random.rand(3, 3)\n",
    "eig_value, eig_vector = nlg.eig(a)\n",
    "\n",
    "print(eig_value)\n",
    "print(eig_vector)"
   ]
  },
  {
   "cell_type": "markdown",
   "metadata": {},
   "source": [
    "按列拼接两个向量成一个矩阵："
   ]
  },
  {
   "cell_type": "code",
   "execution_count": 149,
   "metadata": {},
   "outputs": [
    {
     "name": "stdout",
     "output_type": "stream",
     "text": [
      "[[1 2]\n",
      " [2 3]\n",
      " [3 4]]\n"
     ]
    }
   ],
   "source": [
    "a = np.array((1, 2, 3))\n",
    "b = np.array((2, 3, 4))\n",
    "print(np.column_stack((a, b)))"
   ]
  },
  {
   "cell_type": "markdown",
   "metadata": {},
   "source": [
    "在循环处理某些数据得到结果后，将结果拼接成一个矩阵是十分有用的，可以通过vstack和hstack完成："
   ]
  },
  {
   "cell_type": "code",
   "execution_count": 150,
   "metadata": {},
   "outputs": [
    {
     "name": "stdout",
     "output_type": "stream",
     "text": [
      "[[0.46067357 0.17759175]\n",
      " [0.88857463 0.69537099]]\n",
      "[[0.92182254 0.96221743]\n",
      " [0.90807064 0.68502222]]\n",
      "[[0.46067357 0.17759175 0.92182254 0.96221743]\n",
      " [0.88857463 0.69537099 0.90807064 0.68502222]]\n",
      "[[0.46067357 0.17759175]\n",
      " [0.88857463 0.69537099]\n",
      " [0.92182254 0.96221743]\n",
      " [0.90807064 0.68502222]]\n"
     ]
    }
   ],
   "source": [
    "a = np.random.rand(2, 2)\n",
    "b = np.random.rand(2, 2)\n",
    "print(a)\n",
    "print(b)\n",
    "c = np.hstack([a, b])\n",
    "d = np.vstack([a, b])\n",
    "print(c)\n",
    "print(d)"
   ]
  },
  {
   "cell_type": "markdown",
   "metadata": {},
   "source": [
    "## 六、缺失值\n",
    "缺失值在分析中也是信息的一种，NumPy提供nan作为缺失值的记录，通过isnan判定。"
   ]
  },
  {
   "cell_type": "code",
   "execution_count": 151,
   "metadata": {},
   "outputs": [
    {
     "name": "stdout",
     "output_type": "stream",
     "text": [
      "[[0.2482904         nan]\n",
      " [0.74166509 0.8342416 ]]\n",
      "[[False  True]\n",
      " [False False]]\n"
     ]
    }
   ],
   "source": [
    "a = np.random.rand(2, 2)\n",
    "a[0, 1] = np.nan\n",
    "print(a)\n",
    "print(np.isnan(a))"
   ]
  },
  {
   "cell_type": "markdown",
   "metadata": {},
   "source": [
    "nan_to_num可用来将nan替换成0，在后面会介绍到的更高级的模块pandas时，我们将看到pandas提供能指定nan替换值的函数。"
   ]
  },
  {
   "cell_type": "code",
   "execution_count": 152,
   "metadata": {},
   "outputs": [
    {
     "name": "stdout",
     "output_type": "stream",
     "text": [
      "[[0.2482904  0.        ]\n",
      " [0.74166509 0.8342416 ]]\n"
     ]
    }
   ],
   "source": [
    "print(np.nan_to_num(a))\n"
   ]
  }
 ],
 "metadata": {
  "kernelspec": {
   "display_name": "Python 3.9.13 ('JupyterNotebook-5PCSqSH0')",
   "language": "python",
   "name": "python3"
  },
  "language_info": {
   "codemirror_mode": {
    "name": "ipython",
    "version": 3
   },
   "file_extension": ".py",
   "mimetype": "text/x-python",
   "name": "python",
   "nbconvert_exporter": "python",
   "pygments_lexer": "ipython3",
   "version": "3.9.13"
  },
  "orig_nbformat": 4,
  "vscode": {
   "interpreter": {
    "hash": "c57bdfac97ca45c05f862af0e07e2a609dfb06d83bc5ec7dd8d02f8ae1750a09"
   }
  }
 },
 "nbformat": 4,
 "nbformat_minor": 2
}
