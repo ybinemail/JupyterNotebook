{
 "cells": [
  {
   "cell_type": "markdown",
   "metadata": {},
   "source": [
    "# 第八章 解析Unix时间"
   ]
  },
  {
   "cell_type": "code",
   "execution_count": 1,
   "metadata": {},
   "outputs": [],
   "source": [
    "import pandas as pd"
   ]
  },
  {
   "cell_type": "markdown",
   "metadata": {},
   "source": [
    "## 8.1 解析 `Unix` 时间戳\n",
    "\n",
    "在 `pandas` 中处理 `Unix` 时间戳不是很容易 - 我花了相当长的时间来解决这个问题。 我们在这里使用的文件是一个软件包流行度文件，我在我的系统上的`/var/log/popularity-contest`找到的。\n",
    "\n",
    "这里解释了这个文件是什么。"
   ]
  },
  {
   "cell_type": "code",
   "execution_count": 2,
   "metadata": {},
   "outputs": [],
   "source": [
    "popcon = pd.read_csv('../data/popularity-contest',sep=' ',)[:-1]\n",
    "popcon.columns = ['atime','ctime','package-name','mru-program','tag']"
   ]
  },
  {
   "cell_type": "markdown",
   "metadata": {},
   "source": [
    "列是访问时间，创建时间，包名称最近使用的程序，以及标签。"
   ]
  },
  {
   "cell_type": "code",
   "execution_count": 3,
   "metadata": {},
   "outputs": [
    {
     "data": {
      "text/html": [
       "<div>\n",
       "<style scoped>\n",
       "    .dataframe tbody tr th:only-of-type {\n",
       "        vertical-align: middle;\n",
       "    }\n",
       "\n",
       "    .dataframe tbody tr th {\n",
       "        vertical-align: top;\n",
       "    }\n",
       "\n",
       "    .dataframe thead th {\n",
       "        text-align: right;\n",
       "    }\n",
       "</style>\n",
       "<table border=\"1\" class=\"dataframe\">\n",
       "  <thead>\n",
       "    <tr style=\"text-align: right;\">\n",
       "      <th></th>\n",
       "      <th>atime</th>\n",
       "      <th>ctime</th>\n",
       "      <th>package-name</th>\n",
       "      <th>mru-program</th>\n",
       "      <th>tag</th>\n",
       "    </tr>\n",
       "  </thead>\n",
       "  <tbody>\n",
       "    <tr>\n",
       "      <th>0</th>\n",
       "      <td>1387295797</td>\n",
       "      <td>1367633260</td>\n",
       "      <td>perl-base</td>\n",
       "      <td>/usr/bin/perl</td>\n",
       "      <td>NaN</td>\n",
       "    </tr>\n",
       "    <tr>\n",
       "      <th>1</th>\n",
       "      <td>1387295796</td>\n",
       "      <td>1354370480</td>\n",
       "      <td>login</td>\n",
       "      <td>/bin/su</td>\n",
       "      <td>NaN</td>\n",
       "    </tr>\n",
       "    <tr>\n",
       "      <th>2</th>\n",
       "      <td>1387295743</td>\n",
       "      <td>1354341275</td>\n",
       "      <td>libtalloc2</td>\n",
       "      <td>/usr/lib/x86_64-linux-gnu/libtalloc.so.2.0.7</td>\n",
       "      <td>NaN</td>\n",
       "    </tr>\n",
       "    <tr>\n",
       "      <th>3</th>\n",
       "      <td>1387295743</td>\n",
       "      <td>1387224204</td>\n",
       "      <td>libwbclient0</td>\n",
       "      <td>/usr/lib/x86_64-linux-gnu/libwbclient.so.0</td>\n",
       "      <td>&lt;RECENT-CTIME&gt;</td>\n",
       "    </tr>\n",
       "    <tr>\n",
       "      <th>4</th>\n",
       "      <td>1387295742</td>\n",
       "      <td>1354341253</td>\n",
       "      <td>libselinux1</td>\n",
       "      <td>/lib/x86_64-linux-gnu/libselinux.so.1</td>\n",
       "      <td>NaN</td>\n",
       "    </tr>\n",
       "  </tbody>\n",
       "</table>\n",
       "</div>"
      ],
      "text/plain": [
       "        atime       ctime  package-name  \\\n",
       "0  1387295797  1367633260     perl-base   \n",
       "1  1387295796  1354370480         login   \n",
       "2  1387295743  1354341275    libtalloc2   \n",
       "3  1387295743  1387224204  libwbclient0   \n",
       "4  1387295742  1354341253   libselinux1   \n",
       "\n",
       "                                    mru-program             tag  \n",
       "0                                 /usr/bin/perl             NaN  \n",
       "1                                       /bin/su             NaN  \n",
       "2  /usr/lib/x86_64-linux-gnu/libtalloc.so.2.0.7             NaN  \n",
       "3    /usr/lib/x86_64-linux-gnu/libwbclient.so.0  <RECENT-CTIME>  \n",
       "4         /lib/x86_64-linux-gnu/libselinux.so.1             NaN  "
      ]
     },
     "execution_count": 3,
     "metadata": {},
     "output_type": "execute_result"
    }
   ],
   "source": [
    "popcon[:5]"
   ]
  },
  {
   "cell_type": "markdown",
   "metadata": {},
   "source": [
    "pandas 中的时间戳解析的神奇部分是 `numpy datetime`已经存储为 Unix 时间戳。 所以我们需要做的是告诉 `pandas` 这些整数实际上是数据时间 - 它不需要做任何转换。\n",
    "\n",
    "我们需要首先将这些转换为整数："
   ]
  },
  {
   "cell_type": "code",
   "execution_count": 4,
   "metadata": {},
   "outputs": [],
   "source": [
    "popcon['atime'] = popcon['atime'].astype(int)\n",
    "popcon['ctime'] = popcon['ctime'].astype(int)"
   ]
  },
  {
   "cell_type": "markdown",
   "metadata": {},
   "source": [
    "每个 `numpy` 数组和 `pandas` 序列都有一个dtype` - 这通常是`int64，float64或object`。 一些可用的时间类型是`datetime64[s]，datetime64[ms]和datetime64[us]`。 与之相似，也有`timedelta`类型。\n",
    "\n",
    "我们可以使用`pd.to_datetime`函数将我们的整数时间戳转换为`datetimes`。 这是一个常量时间操作 - 我们实际上并不改变任何数据，只是改变了 Pandas 如何看待它。"
   ]
  },
  {
   "cell_type": "code",
   "execution_count": 5,
   "metadata": {},
   "outputs": [],
   "source": [
    "popcon['atime'] = pd.to_datetime(popcon['atime'],unit='s')\n",
    "popcon['ctime'] = pd.to_datetime(popcon['ctime'],unit='s')"
   ]
  },
  {
   "cell_type": "markdown",
   "metadata": {},
   "source": [
    "如果我们现在查看`dtype`，它是`<M8[ns]`，我们可以分辨出M8是`datetime64`的简写。"
   ]
  },
  {
   "cell_type": "code",
   "execution_count": 6,
   "metadata": {},
   "outputs": [
    {
     "data": {
      "text/plain": [
       "dtype('<M8[ns]')"
      ]
     },
     "execution_count": 6,
     "metadata": {},
     "output_type": "execute_result"
    }
   ],
   "source": [
    "popcon['atime'].dtype"
   ]
  },
  {
   "cell_type": "markdown",
   "metadata": {},
   "source": [
    "所以现在我们将`atime`和`ctime`看做时间了。"
   ]
  },
  {
   "cell_type": "code",
   "execution_count": null,
   "metadata": {},
   "outputs": [],
   "source": [
    "popcon[:5]"
   ]
  }
 ],
 "metadata": {
  "kernelspec": {
   "display_name": "Python 3.9.13 ('JupyterNotebook-5PCSqSH0')",
   "language": "python",
   "name": "python3"
  },
  "language_info": {
   "codemirror_mode": {
    "name": "ipython",
    "version": 3
   },
   "file_extension": ".py",
   "mimetype": "text/x-python",
   "name": "python",
   "nbconvert_exporter": "python",
   "pygments_lexer": "ipython3",
   "version": "3.9.13"
  },
  "orig_nbformat": 4,
  "vscode": {
   "interpreter": {
    "hash": "c57bdfac97ca45c05f862af0e07e2a609dfb06d83bc5ec7dd8d02f8ae1750a09"
   }
  }
 },
 "nbformat": 4,
 "nbformat_minor": 2
}
