{
 "cells": [
  {
   "cell_type": "markdown",
   "metadata": {},
   "source": [
    "# struct\n",
    "\n",
    "准确地讲，`Python` 没有专门处理字节的数据类型。但由于`str`既是字符串，又可以表示字节，所以，`字节数组＝str`。而在C语言中，我们可以很方便地用`struct、union`来处理字节，以及`字节和int，float`的转换。\n",
    "\n",
    "在Python中，比方说要把一个32位无符号整数变成字节，也就是4个长度的bytes，你得配合位运算符这么写：\n",
    "```py\n",
    ">>> n = 10240099\n",
    ">>> b1 = (n & 0xff000000) >> 24\n",
    ">>> b2 = (n & 0xff0000) >> 16\n",
    ">>> b3 = (n & 0xff00) >> 8\n",
    ">>> b4 = n & 0xff\n",
    ">>> bs = bytes([b1, b2, b3, b4])\n",
    ">>> bs\n",
    "b'\\x00\\x9c@c'\n",
    "```\n",
    "非常麻烦。如果换成浮点数就无能为力了。\n",
    "\n",
    "好在Python提供了一个`struct`模块来解决`bytes`和其他二进制数据类型的转换。\n",
    "\n",
    "`struct`的`pack`函数把任意数据类型变成bytes："
   ]
  },
  {
   "cell_type": "code",
   "execution_count": 3,
   "metadata": {},
   "outputs": [
    {
     "data": {
      "text/plain": [
       "b'\\x00\\x9c@c'"
      ]
     },
     "execution_count": 3,
     "metadata": {},
     "output_type": "execute_result"
    }
   ],
   "source": [
    "import struct\n",
    "struct.pack('>I', 10240099)"
   ]
  },
  {
   "cell_type": "markdown",
   "metadata": {},
   "source": [
    "`pack`的第一个参数是处理指令,`'>I'`的意思是：\n",
    "\n",
    "`>` 表示字节顺序是`big-endian`，也就是网络序，`I`表示4字节无符号整数。\n",
    "\n",
    "后面的参数个数要和处理指令一致。\n",
    "\n",
    "`unpack`把`bytes`变成相应的数据类型："
   ]
  },
  {
   "cell_type": "code",
   "execution_count": 2,
   "metadata": {},
   "outputs": [
    {
     "data": {
      "text/plain": [
       "(4042322160, 32896)"
      ]
     },
     "execution_count": 2,
     "metadata": {},
     "output_type": "execute_result"
    }
   ],
   "source": [
    "struct.unpack('>IH', b'\\xf0\\xf0\\xf0\\xf0\\x80\\x80')"
   ]
  },
  {
   "cell_type": "markdown",
   "metadata": {},
   "source": [
    "根据 `>IH` 的说明，后面的 `bytes` 依次变为 `I`：4字节无符号整数和 `H`：2字节无符号整数。\n",
    "\n",
    "所以，尽管`Python`不适合编写底层操作字节流的代码，但在对性能要求不高的地方，利用`struct`就方便多了。\n",
    "\n",
    "`struct`模块定义的数据类型可以参考Python官方文档：\n",
    "\n",
    "https://docs.python.org/3/library/struct.html#format-characters\n",
    "\n",
    "Windows的位图文件（.bmp）是一种非常简单的文件格式，我们来用`struct`分析一下。\n",
    "\n",
    "首先找一个bmp文件，没有的话用“画图”画一个。\n",
    "\n",
    "读入前30个字节来分析：\n",
    "```py\n",
    ">>> s = b'\\x42\\x4d\\x38\\x8c\\x0a\\x00\\x00\\x00\\x00\\x00\\x36\\x00\\x00\\x00\\x28\\x00\\x00\\x00\\x80\\x02\\x00\\x00\\x68\\x01\\x00\\x00\\x01\\x00\\x18\\x00'\n",
    "```\n",
    "BMP格式采用小端方式存储数据，文件头的结构按顺序如下：\n",
    "\n",
    "两个字节：'BM'表示Windows位图，'BA'表示OS/2位图； 一个4字节整数：表示位图大小； 一个4字节整数：保留位，始终为0； 一个4字节整数：实际图像的偏移量； 一个4字节整数：Header的字节数； 一个4字节整数：图像宽度； 一个4字节整数：图像高度； 一个2字节整数：始终为1； 一个2字节整数：颜色数。\n",
    "\n",
    "所以，组合起来用unpack读取："
   ]
  },
  {
   "cell_type": "code",
   "execution_count": null,
   "metadata": {},
   "outputs": [],
   "source": [
    "struct.unpack('<ccIIIIIIHH', s)"
   ]
  },
  {
   "cell_type": "markdown",
   "metadata": {},
   "source": [
    "结果显示，b'B'、b'M'说明是Windows位图，位图大小为640x360，颜色数为24。\n",
    "\n",
    "请编写一个bmpinfo.py，可以检查任意文件是否是位图文件，如果是，打印出图片大小和颜色数。"
   ]
  }
 ],
 "metadata": {
  "kernelspec": {
   "display_name": "Python 3.9.13 ('JupyterNotebook-5PCSqSH0')",
   "language": "python",
   "name": "python3"
  },
  "language_info": {
   "codemirror_mode": {
    "name": "ipython",
    "version": 3
   },
   "file_extension": ".py",
   "mimetype": "text/x-python",
   "name": "python",
   "nbconvert_exporter": "python",
   "pygments_lexer": "ipython3",
   "version": "3.9.13"
  },
  "orig_nbformat": 4,
  "vscode": {
   "interpreter": {
    "hash": "c57bdfac97ca45c05f862af0e07e2a609dfb06d83bc5ec7dd8d02f8ae1750a09"
   }
  }
 },
 "nbformat": 4,
 "nbformat_minor": 2
}
