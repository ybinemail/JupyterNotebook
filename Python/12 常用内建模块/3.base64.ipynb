{
 "cells": [
  {
   "cell_type": "markdown",
   "metadata": {},
   "source": [
    "# base64\n",
    "`Base64`是一种用64个字符来表示任意二进制数据的方法。\n",
    "\n",
    "用记事本打开`exe、jpg、pdf`这些文件时，我们都会看到一大堆乱码，因为二进制文件包含很多无法显示和打印的字符，所以，如果要让记事本这样的文本处理软件能处理二进制数据，就需要一个二进制到字符串的转换方法。`Base64`是一种最常见的二进制编码方法。\n",
    "\n",
    "`Base64`的原理很简单，首先，准备一个包含64个字符的数组：\n",
    "```py\n",
    "['A', 'B', 'C', ... 'a', 'b', 'c', ... '0', '1', ... '+', '/']\n",
    "```\n",
    "然后，对二进制数据进行处理，每3个字节一组，一共是3x8=24bit，划为4组，每组正好6个bit：\n",
    "\n",
    "![pic](./image/34f1640726427e99200d3590ee8c0987.png)\n",
    "\n",
    "这样我们得到4个数字作为索引，然后查表，获得相应的4个字符，就是编码后的字符串。\n",
    "\n",
    "所以，`Base64`编码会把3字节的二进制数据编码为4字节的文本数据，长度增加33%，好处是编码后的文本数据可以在邮件正文、网页等直接显示。\n",
    "\n",
    "如果要编码的二进制数据不是3的倍数，最后会剩下1个或2个字节怎么办？Base64用\\x00字节在末尾补足后，再在编码的末尾加上1个或2个=号，表示补了多少字节，解码的时候，会自动去掉。\n",
    "\n",
    "Python内置的base64可以直接进行base64的编解码："
   ]
  },
  {
   "cell_type": "code",
   "execution_count": 1,
   "metadata": {},
   "outputs": [
    {
     "data": {
      "text/plain": [
       "b'binary\\x00string'"
      ]
     },
     "execution_count": 1,
     "metadata": {},
     "output_type": "execute_result"
    }
   ],
   "source": [
    "import base64\n",
    "base64.b64encode(b'binary\\x00string')\n",
    "base64.b64decode(b'YmluYXJ5AHN0cmluZw==')"
   ]
  },
  {
   "cell_type": "markdown",
   "metadata": {},
   "source": [
    "由于标准的`Base64`编码后可能出现字符 `+` 和 `/` ，在`URL`中就不能直接作为参数，所以又有一种`\"url safe\"`的`base64`编码，其实就是把字符 `+` 和 `/` 分别变成 `-` 和 `_` ："
   ]
  },
  {
   "cell_type": "code",
   "execution_count": 2,
   "metadata": {},
   "outputs": [
    {
     "data": {
      "text/plain": [
       "b'i\\xb7\\x1d\\xfb\\xef\\xff'"
      ]
     },
     "execution_count": 2,
     "metadata": {},
     "output_type": "execute_result"
    }
   ],
   "source": [
    "base64.b64encode(b'i\\xb7\\x1d\\xfb\\xef\\xff')\n",
    "base64.urlsafe_b64encode(b'i\\xb7\\x1d\\xfb\\xef\\xff')\n",
    "base64.urlsafe_b64decode('abcd--__')"
   ]
  },
  {
   "cell_type": "markdown",
   "metadata": {},
   "source": [
    "还可以自己定义64个字符的排列顺序，这样就可以自定义`Base64`编码，不过，通常情况下完全没有必要。\n",
    "\n",
    "Base64是一种通过查表的编码方法，不能用于加密，即使使用自定义的编码表也不行。\n",
    "\n",
    "Base64适用于 **`小段内容的编码`** ，比如数字证书签名、Cookie的内容等。\n",
    "\n",
    "由于 `=` 字符也可能出现在`Base64`编码中，但 `=` 用在 `URL、Cookie` 里面会造成歧义，所以，很多`Base64`编码后会把=去掉：\n",
    "```py\n",
    "# 标准Base64:\n",
    "'abcd' -> 'YWJjZA=='\n",
    "# 自动去掉=:\n",
    "'abcd' -> 'YWJjZA'\n",
    "```\n",
    "\n",
    "去掉 `=` 后怎么解码呢？因为`Base64`是把3个字节变为4个字节，所以，Base64编码的长度永远是4的倍数，因此，需要加上 `=` 把Base64字符串的长度变为4的倍数，就可以正常解码了。\n",
    "\n"
   ]
  },
  {
   "cell_type": "markdown",
   "metadata": {},
   "source": [
    "## 小结\n",
    "Base64是一种任意二进制到文本字符串的编码方法，常用于在URL、Cookie、网页中传输少量二进制数据。"
   ]
  }
 ],
 "metadata": {
  "kernelspec": {
   "display_name": "Python 3.9.13 ('JupyterNotebook-5PCSqSH0')",
   "language": "python",
   "name": "python3"
  },
  "language_info": {
   "codemirror_mode": {
    "name": "ipython",
    "version": 3
   },
   "file_extension": ".py",
   "mimetype": "text/x-python",
   "name": "python",
   "nbconvert_exporter": "python",
   "pygments_lexer": "ipython3",
   "version": "3.9.13"
  },
  "orig_nbformat": 4,
  "vscode": {
   "interpreter": {
    "hash": "c57bdfac97ca45c05f862af0e07e2a609dfb06d83bc5ec7dd8d02f8ae1750a09"
   }
  }
 },
 "nbformat": 4,
 "nbformat_minor": 2
}
