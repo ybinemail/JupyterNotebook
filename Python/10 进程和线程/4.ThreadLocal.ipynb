{
 "cells": [
  {
   "cell_type": "markdown",
   "metadata": {},
   "source": [
    "# ThreadLocal\n",
    "在多线程环境下，每个线程都有自己的数据。一个线程使用自己的局部变量比使用全局变量好，因为局部变量只有线程自己能看见，不会影响其他线程，而全局变量的修改必须加锁。\n",
    "\n",
    "但是局部变量也有问题，就是在函数调用的时候，传递起来很麻烦：\n",
    "\n",
    "```py\n",
    "def process_student(name):\n",
    "    std = Student(name)\n",
    "    # std是局部变量，但是每个函数都要用它，因此必须传进去：\n",
    "    do_task_1(std)\n",
    "    do_task_2(std)\n",
    "def do_task_1(std):\n",
    "    do_subtask_1(std)\n",
    "    do_subtask_2(std)\n",
    "def do_task_2(std):\n",
    "    do_subtask_2(std)\n",
    "    do_subtask_2(std)\n",
    "```\n",
    "\n",
    "每个函数一层一层调用都这么传参数那还得了？用全局变量？也不行，因为每个线程处理不同的`Student`对象，不能共享。\n",
    "\n",
    "如果用一个全局`dict`存放所有的Student对象，然后以`thread`自身作为`key`获得线程对应的`Student`对象如何？\n",
    "\n",
    "```py\n",
    "import threading\n",
    "global_dict = {}\n",
    "def std_thread(name):\n",
    "    std = Student(name)\n",
    "    # 把std放到全局变量global_dict中：\n",
    "    global_dict[threading.current_thread()] = std\n",
    "    do_task_1()\n",
    "    do_task_2()\n",
    "def do_task_1():\n",
    "    # 不传入std，而是根据当前线程查找：\n",
    "    std = global_dict[threading.current_thread()]\n",
    "    ...\n",
    "def do_task_2():\n",
    "    # 任何函数都可以查找出当前线程的std变量：\n",
    "    std = global_dict[threading.current_thread()]\n",
    "```\n",
    "\n",
    "这种方式理论上是可行的，它最大的优点是消除了std对象在每层函数中的传递问题，但是，每个函数获取std的代码有点丑。\n",
    "\n",
    "有没有更简单的方式？\n",
    "\n",
    "`ThreadLocal`应运而生，不用查找`dict，ThreadLocal`帮你自动做这件事："
   ]
  },
  {
   "cell_type": "code",
   "execution_count": 1,
   "metadata": {},
   "outputs": [
    {
     "name": "stdout",
     "output_type": "stream",
     "text": [
      "Hello, Alice (in Thread-A)\n",
      "Hello, Bob (in Thread-B)\n"
     ]
    }
   ],
   "source": [
    "from concurrent.futures import thread\n",
    "import threading\n",
    "# 创建全局ThreadLocal对象:\n",
    "local_school = threading.local()\n",
    "\n",
    "def process_student():\n",
    "    # 获取当前线程关联的student:\n",
    "    std = local_school.student\n",
    "    print('Hello, %s (in %s)'% (std,threading.current_thread().name))\n",
    "\n",
    "def process_thread(name):\n",
    "    # 绑定ThreadLocal的student:\n",
    "    local_school.student = name\n",
    "    process_student()\n",
    "\n",
    "t1 = threading.Thread(target=process_thread,args=('Alice',),name='Thread-A')\n",
    "t2 = threading.Thread(target=process_thread,args=('Bob',),name='Thread-B')\n",
    "t1.start()\n",
    "t2.start()\n",
    "t1.join()\n",
    "t2.join()"
   ]
  },
  {
   "cell_type": "markdown",
   "metadata": {},
   "source": [
    "全局变量`local_school`就是一个`ThreadLocal`对象，每个`Thread`对它都可以读写`student`属性，但互不影响。你可以把`local_school`看成全局变量，但每个属性如`local_school`.`student`都是线程的局部变量，可以任意读写而互不干扰，也不用管理锁的问题，`ThreadLocal`内部会处理。\n",
    "\n",
    "可以理解为全局变量`local_school`是一个`dict`，不但可以用`local_school.student`，还可以绑定其他变量，如`local_school.teacher`等等。\n",
    "\n",
    "`ThreadLocal`最常用的地方就是为每个线程绑定一个数据库连接，HTTP请求，用户身份信息等，这样一个线程的所有调用到的处理函数都可以非常方便地访问这些资源。\n",
    "\n",
    "## 小结\n",
    "一个`ThreadLocal`变量虽然是全局变量，但每个线程都只能读写自己线程的独立副本，互不干扰。`ThreadLocal`解决了参数在一个线程中各个函数之间互相传递的问题。"
   ]
  }
 ],
 "metadata": {
  "kernelspec": {
   "display_name": "Python 3.9.13 ('JupyterNotebook-5PCSqSH0')",
   "language": "python",
   "name": "python3"
  },
  "language_info": {
   "codemirror_mode": {
    "name": "ipython",
    "version": 3
   },
   "file_extension": ".py",
   "mimetype": "text/x-python",
   "name": "python",
   "nbconvert_exporter": "python",
   "pygments_lexer": "ipython3",
   "version": "3.9.13"
  },
  "orig_nbformat": 4,
  "vscode": {
   "interpreter": {
    "hash": "c57bdfac97ca45c05f862af0e07e2a609dfb06d83bc5ec7dd8d02f8ae1750a09"
   }
  }
 },
 "nbformat": 4,
 "nbformat_minor": 2
}
