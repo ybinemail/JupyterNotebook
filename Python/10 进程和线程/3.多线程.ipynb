{
 "cells": [
  {
   "cell_type": "markdown",
   "metadata": {},
   "source": [
    "# 多线程\n",
    "\n",
    "多任务可以由多进程完成，也可以由一个进程内的多线程完成。\n",
    "\n",
    "我们前面提到了进程是由若干线程组成的，一个进程至少有一个线程。\n",
    "\n",
    "由于线程是操作系统直接支持的执行单元，因此，高级语言通常都内置多线程的支持，Python也不例外，并且，Python的线程是真正的`Posix Thread`，而不是模拟出来的线程。\n",
    "\n",
    "Python的标准库提供了两个模块：`_thread`和`threading`，`_thread`是低级模块，`threading`是高级模块，对`_thread`进行了封装。绝大多数情况下，我们只需要使用`threading`这个高级模块。\n",
    "\n",
    "启动一个线程就是把一个函数传入并创建Thread实例，然后调用start()开始执行："
   ]
  },
  {
   "cell_type": "code",
   "execution_count": 2,
   "metadata": {},
   "outputs": [
    {
     "name": "stdout",
     "output_type": "stream",
     "text": [
      "thread MainThread is running...\n",
      "thread LoopThread is running...\n",
      "thead LoopThread >>> 1 \n",
      "thead LoopThread >>> 2 \n",
      "thead LoopThread >>> 3 \n",
      "thead LoopThread >>> 4 \n",
      "thead LoopThread >>> 5 \n",
      "thread LoopThread ended.\n",
      "thread MainThread ended.\n"
     ]
    }
   ],
   "source": [
    "import time, threading\n",
    "\n",
    "def loop():\n",
    "    print('thread %s is running...' % threading.current_thread().name)\n",
    "\n",
    "    n = 0\n",
    "    while n < 5:\n",
    "        n = n + 1\n",
    "        print('thead %s >>> %s ' % (threading.current_thread().name,n))\n",
    "        time.sleep(1)\n",
    "    print('thread %s ended.' % threading.current_thread().name)\n",
    "\n",
    "print('thread %s is running...'% threading.current_thread().name)\n",
    "\n",
    "t = threading.Thread(target=loop,name='LoopThread')\n",
    "t.start()\n",
    "t.join()\n",
    "print('thread %s ended.'% threading.current_thread().name)\n"
   ]
  },
  {
   "cell_type": "markdown",
   "metadata": {},
   "source": [
    "由于任何进程默认就会启动一个线程，我们把该线程称为主线程，主线程又可以启动新的线程，Python的`threading`模块有个`current_thread()`函数，它永远返回当前线程的实例。主线程实例的名字叫`MainThread`，子线程的名字在`创建时指定`，我们用`LoopThread`命名子线程。名字仅仅在打印时用来显示，完全没有其他意义，如果不起名字Python就自动给线程命名为`Thread-1，Thread-2`……"
   ]
  },
  {
   "cell_type": "markdown",
   "metadata": {},
   "source": [
    "## Lock\n",
    "多线程和多进程最大的不同在于，多进程中，同一个变量，各自有一份拷贝存在于每个进程中，互不影响，而多线程中，所有变量都由所有`线程共享`，所以，任何一个变量都可以被任何一个线程修改，因此，线程之间共享数据最大的危险在于多个线程同时改一个变量，把内容给改乱了。\n",
    "\n",
    "来看看多个线程同时操作一个变量怎么把内容给改乱了："
   ]
  },
  {
   "cell_type": "code",
   "execution_count": 4,
   "metadata": {},
   "outputs": [
    {
     "name": "stdout",
     "output_type": "stream",
     "text": [
      "5\n"
     ]
    }
   ],
   "source": [
    "import time, threading\n",
    "# 假定这是你的银行存款:\n",
    "balance = 0\n",
    "def change_it(n):\n",
    "    # 先存后取，结果应该为0:\n",
    "    global balance\n",
    "    balance = balance + n\n",
    "    balance = balance - n\n",
    "def run_thread(n):\n",
    "    for i in range(100000):\n",
    "        change_it(n)\n",
    "t1 = threading.Thread(target=run_thread, args=(5,))\n",
    "t2 = threading.Thread(target=run_thread, args=(8,))\n",
    "t1.start()\n",
    "t2.start()\n",
    "t1.join()\n",
    "t2.join()\n",
    "print(balance)"
   ]
  },
  {
   "cell_type": "markdown",
   "metadata": {},
   "source": [
    "我们定义了一个共享变量`balanc`，初始值为0，并且启动两个线程，先存后取，理论上结果应该为`0`，但是，由于线程的调度是由操作系统决定的，当`t1、t2`交替执行时，只要循环次数足够多，`balance`的结果就不一定是0了。\n",
    "\n",
    "原因是因为高级语言的一条语句在CPU执行时是若干条语句，即使一个简单的计算：\n",
    "```py\n",
    "balance = balance + n\n",
    "```\n",
    "也分两步：\n",
    "\n",
    "* 计算balance + n，存入临时变量中；\n",
    "* 将临时变量的值赋给balance。\n",
    "也就是可以看成：\n",
    "```py\n",
    "x = balance + n\n",
    "balance = x\n",
    "```\n",
    "\n",
    "由于x是局部变量，两个线程各自都有自己的x，当代码正常执行时：\n",
    "```py\n",
    "初始值 balance = 0\n",
    "t1: x1 = balance + 5 # x1 = 0 + 5 = 5\n",
    "t1: balance = x1     # balance = 5\n",
    "t1: x1 = balance - 5 # x1 = 5 - 5 = 0\n",
    "t1: balance = x1     # balance = 0\n",
    "t2: x2 = balance + 8 # x2 = 0 + 8 = 8\n",
    "t2: balance = x2     # balance = 8\n",
    "t2: x2 = balance - 8 # x2 = 8 - 8 = 0\n",
    "t2: balance = x2     # balance = 0\n",
    "结果 balance = 0\n",
    "```\n",
    "但是t1和t2是交替运行的，如果操作系统以下面的顺序执行t1、t2：\n",
    "```py\n",
    "初始值 balance = 0\n",
    "t1: x1 = balance + 5  # x1 = 0 + 5 = 5\n",
    "t2: x2 = balance + 8  # x2 = 0 + 8 = 8\n",
    "t2: balance = x2      # balance = 8\n",
    "t1: balance = x1      # balance = 5\n",
    "t1: x1 = balance - 5  # x1 = 5 - 5 = 0\n",
    "t1: balance = x1      # balance = 0\n",
    "t2: x2 = balance - 8  # x2 = 0 - 8 = -8\n",
    "t2: balance = x2   # balance = -8\n",
    "结果 balance = -8\n",
    "```\n",
    "\n",
    "究其原因，是因为修改`balance`需要多条语句，而执行这几条语句时，线程可能中断，从而导致多个线程把同一个对象的内容改乱了。\n",
    "\n",
    "两个线程同时一存一取，就可能导致余额不对，你肯定不希望你的银行存款莫名其妙地变成了负数，所以，我们必须确保一个线程在修改`balance`的时候，别的线程一定不能改。\n",
    "\n",
    "如果我们要确保`balance`计算正确，就要给`change_it()`上一把锁，当某个线程开始执行`change_it()`时，我们说，该线程因为获得了锁，因此其他线程不能同时执行`change_it()`，只能等待，直到锁被释放后，获得该锁以后才能改。由于锁只有一个，无论多少线程，同一时刻最多只有一个线程持有该锁，所以，不会造成修改的冲突。创建一个锁就是通过`threading.Lock()`来实现：\n",
    "\n",
    "```py\n",
    "balance = 0\n",
    "lock = threading.Lock()\n",
    "def run_thread(n):\n",
    "    for i in range(100000):\n",
    "        # 先要获取锁:\n",
    "        lock.acquire()\n",
    "        try:\n",
    "            # 放心地改吧:\n",
    "            change_it(n)\n",
    "        finally:\n",
    "            # 改完了一定要释放锁:\n",
    "            lock.release()\n",
    "```\n",
    "\n",
    "当多个线程同时执行`lock.acquire()`时，只有一个线程能成功地获取锁，然后继续执行代码，其他线程就继续等待直到获得锁为止。\n",
    "\n",
    "获得锁的线程用完后一定要释放锁，否则那些苦苦等待锁的线程将永远等待下去，成为死线程。所以我们用`try…finally`来确保锁一定会被释放。\n",
    "\n",
    "锁的好处就是确保了某段关键代码只能由一个线程从头到尾完整地执行，坏处当然也很多，首先是阻止了多线程并发执行，包含锁的某段代码实际上只能以单线程模式执行，效率就大大地下降了。其次，由于可以存在多个锁，不同的线程持有不同的锁，并试图获取对方持有的锁时，可能会造成死锁，导致多个线程全部挂起，既不能执行，也无法结束，只能靠操作系统强制终止。"
   ]
  },
  {
   "cell_type": "markdown",
   "metadata": {},
   "source": [
    "## 多核CPU\n",
    "\n",
    "如果你不幸拥有一个多核CPU，你肯定在想，多核应该可以同时执行多个线程。\n",
    "\n",
    "如果写一个死循环的话，会出现什么情况呢？\n",
    "\n",
    "打开Mac OS X的Activity Monitor，或者Windows的Task Manager，都可以监控某个进程的CPU使用率。\n",
    "\n",
    "我们可以监控到一个死循环线程会100%占用一个CPU。\n",
    "\n",
    "如果有两个死循环线程，在多核CPU中，可以监控到会占用200%的CPU，也就是占用两个CPU核心。\n",
    "\n",
    "要想把N核CPU的核心全部跑满，就必须启动N个死循环线程。\n",
    "\n",
    "试试用Python写个死循环：\n",
    "\n",
    "```py\n",
    "import threading, multiprocessing\n",
    "def loop():\n",
    "    x = 0\n",
    "    while True:\n",
    "        x = x ^ 1\n",
    "for i in range(multiprocessing.cpu_count()):\n",
    "    t = threading.Thread(target=loop)\n",
    "    t.start()\n",
    "```\n",
    "\n",
    "启动与CPU核心数量相同的N个线程，在4核CPU上可以监控到CPU占用率仅有102%，也就是仅使用了一核。\n",
    "\n",
    "但是用C、C++或Java来改写相同的死循环，直接可以把全部核心跑满，4核就跑到400%，8核就跑到800%，为什么`Python`不行呢？\n",
    "\n",
    "因为`Python`的线程虽然是真正的线程，但解释器执行代码时，有一个`GIL锁`：`Global Interpreter Lock`，任何`Python`线程执行前，必须先获得`GIL`锁，然后，每执行100条字节码，解释器就自动释放`GIL`锁，让别的线程有机会执行。这个`GIL`全局锁实际上把所有线程的执行代码都给上了锁，所以，多线程在`Python`中只能交替执行，即使100个线程跑在100核CPU上，也只能用到1个核。\n",
    "\n",
    "`GIL`是`Python`解释器设计的历史遗留问题，通常我们用的解释器是官方实现的`CPython`，要真正利用多核，除非重写一个不带`GIL`的解释器。\n",
    "\n",
    "所以，在`Python`中，可以使用多线程，但不要指望能有效利用多核。如果一定要通过`多线程利用多核`，那只能通过C扩展来实现，不过这样就失去了Python简单易用的特点。\n",
    "\n",
    "不过，也不用过于担心，`Python`虽然不能利用多线程实现多核任务，但可以通过多进程实现多核任务。多个`Python`进程有各自独立的`GIL`锁，互不影响。\n",
    "\n"
   ]
  }
 ],
 "metadata": {
  "kernelspec": {
   "display_name": "Python 3.9.13 ('JupyterNotebook-5PCSqSH0')",
   "language": "python",
   "name": "python3"
  },
  "language_info": {
   "codemirror_mode": {
    "name": "ipython",
    "version": 3
   },
   "file_extension": ".py",
   "mimetype": "text/x-python",
   "name": "python",
   "nbconvert_exporter": "python",
   "pygments_lexer": "ipython3",
   "version": "3.9.13"
  },
  "orig_nbformat": 4,
  "vscode": {
   "interpreter": {
    "hash": "c57bdfac97ca45c05f862af0e07e2a609dfb06d83bc5ec7dd8d02f8ae1750a09"
   }
  }
 },
 "nbformat": 4,
 "nbformat_minor": 2
}
