{
 "cells": [
  {
   "cell_type": "markdown",
   "metadata": {},
   "source": [
    "# 1.数据类型和变量.ipynb"
   ]
  },
  {
   "cell_type": "markdown",
   "metadata": {},
   "source": [
    "## 数据类型\n",
    "\n",
    "计算机顾名思义就是可以做数学计算的机器，因此，计算机程序理所当然地可以处理各种数值。但是，计算机能处理的远不止数值，还可以处理文本、图形、音频、视频、网页等各种各样的数据，不同的数据，需要定义不同的数据类型。在Python中，能够直接处理的数据类型有以下几种：\n",
    "\n",
    "### 整数\n",
    "Python可以处理任意大小的整数，当然包括负整数，在程序中的表示方法和数学上的写法一模一样，例如：1，100，-8080，0，等等。\n",
    "\n",
    "计算机由于使用二进制，所以，有时候用十六进制表示整数比较方便，十六进制用0x前缀和0-9，a-f表示，例如：0xff00，0xa5b4c3d2，等等。\n",
    "\n",
    "### 浮点数\n",
    "浮点数也就是小数，之所以称为浮点数，是因为按照科学记数法表示时，一个浮点数的小数点位置是可变的，比如，1.23x10<sup>9</sup>和12.3x10<sup>8</sup>是完全相等的。浮点数可以用数学写法，如1.23，3.14，-9.01，等等。但是对于很大或很小的浮点数，就必须用科学计数法表示，把10用e替代，1.23x10<sup>9</sup>就是1.23e9，或者12.3e8，0.000012可以写成1.2e-5，等等。\n",
    "\n",
    "整数和浮点数在计算机内部存储的方式是不同的，整数运算永远是精确的（除法难道也是精确的？是的！），而浮点数运算则可能会有四舍五入的误差。\n",
    "\n",
    "### 字符串\n",
    "字符串是以单引号'或双引号\"括起来的任意文本，比如'abc'，\"xyz\"等等。请注意，''或\"\"本身只是一种表示方式，不是字符串的一部分，因此，字符串'abc'只有a，b，c这3个字符。如果'本身也是一个字符，那就可以用\"\"括起来，比如\"I'm OK\"包含的字符是I，'，m，空格，O，K这6个字符。\n",
    "\n",
    "如果字符串内部既包含'又包含\"怎么办？可以用转义字符\\来标识，比如：\n",
    "\n",
    "> 'I\\\\'m \\\\\"OK\\\\\"!'\n",
    "\n",
    "表示的字符串内容是：\n",
    "\n",
    "> I'm \"OK\"!\n",
    "\n",
    "转义字符\\可以转义很多字符，比如\\n表示换行，\\t表示制表符，字符\\本身也要转义，所以\\表示的字符就是\\，可以在Python的交互式命令行用print()打印字符串看看："
   ]
  },
  {
   "cell_type": "code",
   "execution_count": 4,
   "metadata": {},
   "outputs": [
    {
     "name": "stdout",
     "output_type": "stream",
     "text": [
      "I'm OK!\n",
      "I'm learning\n",
      "Python.\n",
      "\\\n",
      "\\\n"
     ]
    }
   ],
   "source": [
    "print('I\\'m OK!')\n",
    "print('I\\'m learning\\nPython.')\n",
    "print('\\\\\\n\\\\')"
   ]
  },
  {
   "cell_type": "markdown",
   "metadata": {},
   "source": [
    "如果字符串内部有很多换行，用`\\n`写在一行里不好阅读，为了简化，Python允许用`'''…'''`的格式表示多行内容，可以自己试试："
   ]
  },
  {
   "cell_type": "code",
   "execution_count": 5,
   "metadata": {},
   "outputs": [
    {
     "name": "stdout",
     "output_type": "stream",
     "text": [
      "line1\n",
      "line2\n",
      "line3\n"
     ]
    }
   ],
   "source": [
    " print('''line1\n",
    "... line2\n",
    "... line3''')"
   ]
  },
  {
   "cell_type": "markdown",
   "metadata": {},
   "source": [
    "上面是在交互式命令行内输入，注意在输入多行内容时，提示符由`&gt;&gt;&gt;`变为`…`，提示你可以接着上一行输入。如果写成程序，就是："
   ]
  },
  {
   "cell_type": "code",
   "execution_count": 6,
   "metadata": {},
   "outputs": [
    {
     "name": "stdout",
     "output_type": "stream",
     "text": [
      "line1\n",
      "line2\n",
      "line3\n"
     ]
    }
   ],
   "source": [
    "print('''line1\n",
    "line2\n",
    "line3''')"
   ]
  },
  {
   "cell_type": "markdown",
   "metadata": {},
   "source": [
    "多行字符串`'''…'''`还可以在前面加上`r`使用，请自行测试。"
   ]
  },
  {
   "cell_type": "markdown",
   "metadata": {},
   "source": [
    "### 布尔值\n",
    "布尔值和布尔代数的表示完全一致，一个布尔值只有`True、False`两种值，要么是True，要么是False\n",
    "\n",
    "在Python中，可以直接用`True、False`表示布尔值（请注意大小写），也可以通过布尔运算计算出来：\n",
    "\n",
    "布尔值可以用`and、or和not`运算。\n",
    "\n",
    "and运算是与运算，只有所有都为True，and运算结果才是True："
   ]
  },
  {
   "cell_type": "code",
   "execution_count": 8,
   "metadata": {},
   "outputs": [
    {
     "data": {
      "text/plain": [
       "False"
      ]
     },
     "execution_count": 8,
     "metadata": {},
     "output_type": "execute_result"
    }
   ],
   "source": [
    "True and True\n",
    "True or False\n",
    "False or False\n",
    "not True"
   ]
  },
  {
   "cell_type": "markdown",
   "metadata": {},
   "source": [
    "### 空值\n",
    "空值是Python里一个特殊的值，用None表示。None不能理解为0，因为0是有意义的，而None是一个特殊的空值。\n",
    "\n",
    "此外，Python还提供了列表、字典等多种数据类型，还允许创建自定义数据类型，我们后面会继续讲到。\n",
    "\n",
    "### 变量\n",
    "变量的概念基本上和初中代数的方程变量是一致的，只是在计算机程序中，变量不仅可以是数字，还可以是任意数据类型。\n",
    "\n",
    "变量在程序中就是用一个变量名表示了，变量名必须是大小写英文、数字和_的组合，且不能用数字开头，比如：\n",
    "\n",
    "在Python中，等号=是赋值语句，可以把任意数据类型赋值给变量，同一个变量可以反复赋值，而且可以是`不同类型`的变量，例如："
   ]
  },
  {
   "cell_type": "code",
   "execution_count": 9,
   "metadata": {},
   "outputs": [
    {
     "name": "stdout",
     "output_type": "stream",
     "text": [
      "123\n",
      "ABC\n"
     ]
    }
   ],
   "source": [
    "a = 123 # a是整数\n",
    "print(a)\n",
    "a = 'ABC' # a变为字符串\n",
    "print(a)"
   ]
  },
  {
   "cell_type": "markdown",
   "metadata": {},
   "source": [
    "这种变量本身类型不固定的语言称之为动态语言，与之对应的是静态语言。静态语言在定义变量时必须指定变量类型，如果赋值的时候类型不匹配，就会报错。\n",
    "\n",
    "最后，理解变量在计算机内存中的表示也非常重要。当我们写：\n",
    "\n",
    "a = 'ABC'\n",
    "\n",
    "时，Python解释器干了两件事情：\n",
    "\n",
    "* 在内存中创建了一个'ABC'的字符串；\n",
    "\n",
    "* 在内存中创建了一个名为a的变量，并把它指向'ABC'。\n",
    "\n",
    "也可以把一个变量a赋值给另一个变量b，这个操作实际上是把变量b指向变量a所指向的数据"
   ]
  },
  {
   "cell_type": "markdown",
   "metadata": {},
   "source": [
    "### 常量\n",
    "\n",
    "所谓常量就是不能变的变量，比如常用的数学常数π就是一个常量。在Python中，通常用全部大写的变量名表示常量：\n",
    "\n",
    "> PI = 3.14159265359\n",
    "\n",
    "但事实上PI仍然是一个变量，Python根本没有任何机制保证PI不会被改变，所以，用全部大写的变量名表示常量只是一个习惯上的用法，如果你一定要改变变量PI的值，也没人能拦住你。\n",
    "\n",
    "最后解释一下整数的除法为什么也是精确的。在Python中，有两种除法，一种除法是/：\n",
    "\n",
    "> 10 / 3\n",
    "\n",
    "> 3.3333333333333335 \n",
    "\n",
    "/除法计算结果是浮点数，即使是两个整数恰好整除，结果也是浮点数：\n",
    "\n",
    "> 9 / 3\n",
    "\n",
    "> 3.0\n",
    "还有一种除法是//，称为地板除，两个整数的除法仍然是整数：\n",
    "\n",
    "> 10 // 3\n",
    "\n",
    "> 3\n",
    "你没有看错，整数的地板除//永远是整数，即使除不尽。要做精确的除法，使用/就可以。\n",
    "\n",
    "因为//除法只取结果的整数部分，所以Python还提供一个余数运算，可以得到两个整数相除的余数：\n",
    "\n",
    "> 10 % 3\n",
    "\n",
    "> 1\n",
    "无论整数做//除法还是取余数，结果永远是整数，所以，整数运算结果永远是精确的。"
   ]
  }
 ],
 "metadata": {
  "kernelspec": {
   "display_name": "Python 3.9.13 ('JupyterNotebook-5PCSqSH0')",
   "language": "python",
   "name": "python3"
  },
  "language_info": {
   "codemirror_mode": {
    "name": "ipython",
    "version": 3
   },
   "file_extension": ".py",
   "mimetype": "text/x-python",
   "name": "python",
   "nbconvert_exporter": "python",
   "pygments_lexer": "ipython3",
   "version": "3.9.13"
  },
  "orig_nbformat": 4,
  "vscode": {
   "interpreter": {
    "hash": "c57bdfac97ca45c05f862af0e07e2a609dfb06d83bc5ec7dd8d02f8ae1750a09"
   }
  }
 },
 "nbformat": 4,
 "nbformat_minor": 2
}
