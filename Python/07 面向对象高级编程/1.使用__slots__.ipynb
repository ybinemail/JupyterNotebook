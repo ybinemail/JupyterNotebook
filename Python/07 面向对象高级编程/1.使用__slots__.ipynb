{
 "cells": [
  {
   "cell_type": "markdown",
   "metadata": {},
   "source": [
    "# 使用slots\n",
    "\n",
    "## 动态绑定属性、方法\n",
    "正常情况下，当我们定义了一个class，创建了一个class的实例后，我们可以给该实例绑定任何属性和方法，这就是动态语言的灵活性。先定义class："
   ]
  },
  {
   "cell_type": "code",
   "execution_count": 8,
   "metadata": {},
   "outputs": [],
   "source": [
    "class Student(object):\n",
    "    pass"
   ]
  },
  {
   "cell_type": "markdown",
   "metadata": {},
   "source": [
    "然后，尝试给实例绑定一个属性："
   ]
  },
  {
   "cell_type": "code",
   "execution_count": 9,
   "metadata": {},
   "outputs": [
    {
     "data": {
      "text/plain": [
       "'James'"
      ]
     },
     "execution_count": 9,
     "metadata": {},
     "output_type": "execute_result"
    }
   ],
   "source": [
    "s = Student()\n",
    "s.name = 'James'\n",
    "s.name"
   ]
  },
  {
   "cell_type": "markdown",
   "metadata": {},
   "source": [
    "还可以尝试给实例绑定一个方法："
   ]
  },
  {
   "cell_type": "code",
   "execution_count": 10,
   "metadata": {},
   "outputs": [
    {
     "data": {
      "text/plain": [
       "30"
      ]
     },
     "execution_count": 10,
     "metadata": {},
     "output_type": "execute_result"
    }
   ],
   "source": [
    "def set_age(self, age): # 定义一个函数作为实例方法\n",
    "    self.age = age\n",
    "\n",
    "from types import MethodType\n",
    "\n",
    "s.set_age = MethodType(set_age,s)\n",
    "s.set_age(30)\n",
    "\n",
    "s.age"
   ]
  },
  {
   "cell_type": "markdown",
   "metadata": {},
   "source": [
    "但是，给一个实例绑定的方法，对另一个实例是不起作用的："
   ]
  },
  {
   "cell_type": "code",
   "execution_count": 11,
   "metadata": {},
   "outputs": [
    {
     "ename": "AttributeError",
     "evalue": "'Student' object has no attribute 'set_age'",
     "output_type": "error",
     "traceback": [
      "\u001b[0;31m---------------------------------------------------------------------------\u001b[0m",
      "\u001b[0;31mAttributeError\u001b[0m                            Traceback (most recent call last)",
      "\u001b[1;32m/Users/robinyu/Workspace/JupyterNotebook/Python/07 面向对象高级编程/1.使用__slots__.ipynb Cell 8\u001b[0m in \u001b[0;36m<cell line: 2>\u001b[0;34m()\u001b[0m\n\u001b[1;32m      <a href='vscode-notebook-cell:/Users/robinyu/Workspace/JupyterNotebook/Python/07%20%E9%9D%A2%E5%90%91%E5%AF%B9%E8%B1%A1%E9%AB%98%E7%BA%A7%E7%BC%96%E7%A8%8B/1.%E4%BD%BF%E7%94%A8__slots__.ipynb#X11sZmlsZQ%3D%3D?line=0'>1</a>\u001b[0m s2 \u001b[39m=\u001b[39m Student() \u001b[39m# 创建新的实例\u001b[39;00m\n\u001b[0;32m----> <a href='vscode-notebook-cell:/Users/robinyu/Workspace/JupyterNotebook/Python/07%20%E9%9D%A2%E5%90%91%E5%AF%B9%E8%B1%A1%E9%AB%98%E7%BA%A7%E7%BC%96%E7%A8%8B/1.%E4%BD%BF%E7%94%A8__slots__.ipynb#X11sZmlsZQ%3D%3D?line=1'>2</a>\u001b[0m s2\u001b[39m.\u001b[39;49mset_age(\u001b[39m31\u001b[39m)\n",
      "\u001b[0;31mAttributeError\u001b[0m: 'Student' object has no attribute 'set_age'"
     ]
    }
   ],
   "source": [
    "s2 = Student() # 创建新的实例\n",
    "s2.set_age(31)"
   ]
  },
  {
   "cell_type": "markdown",
   "metadata": {},
   "source": [
    "为了给所有实例都绑定方法，可以给class绑定方法："
   ]
  },
  {
   "cell_type": "code",
   "execution_count": 13,
   "metadata": {},
   "outputs": [],
   "source": [
    "def set_score(self, score):\n",
    "    self.score = score\n",
    "\n",
    "Student.set_score = MethodType(set_score,Student)"
   ]
  },
  {
   "cell_type": "markdown",
   "metadata": {},
   "source": [
    "给class绑定方法后，所有实例均可调用："
   ]
  },
  {
   "cell_type": "code",
   "execution_count": 15,
   "metadata": {},
   "outputs": [
    {
     "name": "stdout",
     "output_type": "stream",
     "text": [
      "100\n",
      "90\n"
     ]
    }
   ],
   "source": [
    "\n",
    "s.set_score(100)\n",
    "print(s.score)\n",
    "\n",
    "\n",
    "s2.set_score(90)\n",
    "print(s2.score)"
   ]
  },
  {
   "cell_type": "markdown",
   "metadata": {},
   "source": [
    "通常情况下，上面的set_score方法可以直接定义在class中，但动态绑定允许我们在程序运行的过程中动态给class加上功能，这在静态语言中很难实现。"
   ]
  },
  {
   "cell_type": "markdown",
   "metadata": {},
   "source": [
    "## 使用slots\n",
    "但是，如果我们想要限制实例的属性怎么办？比如，只允许对Student实例添加name和age属性。\n",
    "\n",
    "为了达到限制的目的，Python允许在定义`class`的时候，定义一个特殊的 `__slots__` 变量，来限制该`class`实例能添加的属性："
   ]
  },
  {
   "cell_type": "code",
   "execution_count": 17,
   "metadata": {},
   "outputs": [],
   "source": [
    "class Student(object):\n",
    "    __slots__ = ('name', 'age') # 用tuple定义允许绑定的属性名称"
   ]
  },
  {
   "cell_type": "markdown",
   "metadata": {},
   "source": [
    "然后，我们试试："
   ]
  },
  {
   "cell_type": "code",
   "execution_count": 18,
   "metadata": {},
   "outputs": [
    {
     "ename": "AttributeError",
     "evalue": "'Student' object has no attribute 'score'",
     "output_type": "error",
     "traceback": [
      "\u001b[0;31m---------------------------------------------------------------------------\u001b[0m",
      "\u001b[0;31mAttributeError\u001b[0m                            Traceback (most recent call last)",
      "\u001b[1;32m/Users/robinyu/Workspace/JupyterNotebook/Python/07 面向对象高级编程/1.使用__slots__.ipynb Cell 17\u001b[0m in \u001b[0;36m<cell line: 4>\u001b[0;34m()\u001b[0m\n\u001b[1;32m      <a href='vscode-notebook-cell:/Users/robinyu/Workspace/JupyterNotebook/Python/07%20%E9%9D%A2%E5%90%91%E5%AF%B9%E8%B1%A1%E9%AB%98%E7%BA%A7%E7%BC%96%E7%A8%8B/1.%E4%BD%BF%E7%94%A8__slots__.ipynb#X23sZmlsZQ%3D%3D?line=1'>2</a>\u001b[0m s\u001b[39m.\u001b[39mname \u001b[39m=\u001b[39m \u001b[39m'\u001b[39m\u001b[39mJames\u001b[39m\u001b[39m'\u001b[39m\n\u001b[1;32m      <a href='vscode-notebook-cell:/Users/robinyu/Workspace/JupyterNotebook/Python/07%20%E9%9D%A2%E5%90%91%E5%AF%B9%E8%B1%A1%E9%AB%98%E7%BA%A7%E7%BC%96%E7%A8%8B/1.%E4%BD%BF%E7%94%A8__slots__.ipynb#X23sZmlsZQ%3D%3D?line=2'>3</a>\u001b[0m s\u001b[39m.\u001b[39mage \u001b[39m=\u001b[39m \u001b[39m'\u001b[39m\u001b[39m20\u001b[39m\u001b[39m'\u001b[39m\n\u001b[0;32m----> <a href='vscode-notebook-cell:/Users/robinyu/Workspace/JupyterNotebook/Python/07%20%E9%9D%A2%E5%90%91%E5%AF%B9%E8%B1%A1%E9%AB%98%E7%BA%A7%E7%BC%96%E7%A8%8B/1.%E4%BD%BF%E7%94%A8__slots__.ipynb#X23sZmlsZQ%3D%3D?line=3'>4</a>\u001b[0m s\u001b[39m.\u001b[39;49mscore \u001b[39m=\u001b[39m \u001b[39m'\u001b[39m\u001b[39m90\u001b[39m\u001b[39m'\u001b[39m\n",
      "\u001b[0;31mAttributeError\u001b[0m: 'Student' object has no attribute 'score'"
     ]
    }
   ],
   "source": [
    "s = Student() # 创建新的实例\n",
    "s.name = 'James' # 绑定属性'name'\n",
    "s.age = '20' # 绑定属性'age'\n",
    "s.score = '90' # 绑定属性'score'"
   ]
  },
  {
   "cell_type": "markdown",
   "metadata": {},
   "source": [
    "由于'score'没有被放到slots中，所以不能绑定score属性，试图绑定score将得到AttributeError的错误。\n",
    "\n",
    "使用slots要注意，slots定义的属性仅对当前类实例起作用，对继承的子类是不起作用的："
   ]
  },
  {
   "cell_type": "code",
   "execution_count": null,
   "metadata": {},
   "outputs": [],
   "source": [
    "class GraduateStudent(Student):\n",
    "    pass\n",
    "\n",
    "g = GraduateStudent()\n",
    "g.score(12)"
   ]
  },
  {
   "cell_type": "markdown",
   "metadata": {},
   "source": [
    "除非在子类中也定义 `__slots__`，这样，子类实例允许定义的属性就是自身的 `__slots__` 加上父类的 `__slots__`。"
   ]
  }
 ],
 "metadata": {
  "kernelspec": {
   "display_name": "Python 3.9.13 ('JupyterNotebook-5PCSqSH0')",
   "language": "python",
   "name": "python3"
  },
  "language_info": {
   "codemirror_mode": {
    "name": "ipython",
    "version": 3
   },
   "file_extension": ".py",
   "mimetype": "text/x-python",
   "name": "python",
   "nbconvert_exporter": "python",
   "pygments_lexer": "ipython3",
   "version": "3.9.13"
  },
  "orig_nbformat": 4,
  "vscode": {
   "interpreter": {
    "hash": "c57bdfac97ca45c05f862af0e07e2a609dfb06d83bc5ec7dd8d02f8ae1750a09"
   }
  }
 },
 "nbformat": 4,
 "nbformat_minor": 2
}
