{
 "cells": [
  {
   "cell_type": "markdown",
   "metadata": {},
   "source": [
    "# StringIO和BytesIO\n",
    "## StringIO\n",
    "很多时候，数据读写不一定是文件，也可以在内存中读写。\n",
    "\n",
    "`StringIO` 顾名思义就是在 `内存中读写str`。\n",
    "\n",
    "要把 `str` 写入 `StringIO` ，我们需要先创建一个 `StringIO`，然后，像文件一样写入即可："
   ]
  },
  {
   "cell_type": "code",
   "execution_count": 1,
   "metadata": {},
   "outputs": [
    {
     "name": "stdout",
     "output_type": "stream",
     "text": [
      "hello world !\n"
     ]
    }
   ],
   "source": [
    "from io import StringIO\n",
    "\n",
    "f = StringIO()\n",
    "f.write('hello')\n",
    "\n",
    "f.write(' ')\n",
    "\n",
    "f.write('world !')\n",
    "\n",
    "print(f.getvalue())"
   ]
  },
  {
   "cell_type": "markdown",
   "metadata": {},
   "source": [
    "`getvalue()` 方法用于获得写入后的`str`。\n",
    "\n",
    "要读取 `StringIO` ，可以用一个`str`初始化`StringIO`，然后，像读文件一样读取："
   ]
  },
  {
   "cell_type": "code",
   "execution_count": 2,
   "metadata": {},
   "outputs": [
    {
     "name": "stdout",
     "output_type": "stream",
     "text": [
      "Hello!\n",
      "Hi!\n",
      "Goodbye!\n"
     ]
    }
   ],
   "source": [
    "from io import StringIO\n",
    "\n",
    "f = StringIO('Hello!\\nHi!\\nGoodbye!')\n",
    "\n",
    "while True:\n",
    "    s = f.readline()\n",
    "    if s == '':\n",
    "        break\n",
    "    print(s.strip())"
   ]
  },
  {
   "cell_type": "markdown",
   "metadata": {},
   "source": [
    "## BytesIO\n",
    "`StringIO`操作的只能是`str`，如果要操作二进制数据，就需要使用`BytesIO`。\n",
    "\n",
    "`BytesIO`实现了在内存中读写`bytes`，我们创建一个`BytesIO`，然后写入一些`bytes`："
   ]
  },
  {
   "cell_type": "code",
   "execution_count": 3,
   "metadata": {},
   "outputs": [
    {
     "name": "stdout",
     "output_type": "stream",
     "text": [
      "b'\\xe4\\xb8\\xad\\xe6\\x96\\x87'\n"
     ]
    }
   ],
   "source": [
    "from io import BytesIO\n",
    "\n",
    "f = BytesIO()\n",
    "f.write('中文'.encode('utf-8'))\n",
    "\n",
    "print(f.getvalue())"
   ]
  },
  {
   "cell_type": "markdown",
   "metadata": {},
   "source": [
    "请注意，写入的不是str，而是经过UTF-8编码的bytes。\n",
    "\n",
    "和`StringIO`类似，可以用一个`bytes`初始化`BytesIO`，然后，像读文件一样读取："
   ]
  },
  {
   "cell_type": "code",
   "execution_count": 4,
   "metadata": {},
   "outputs": [
    {
     "data": {
      "text/plain": [
       "b'\\xe4\\xb8\\xad\\xe6\\x96\\x87'"
      ]
     },
     "execution_count": 4,
     "metadata": {},
     "output_type": "execute_result"
    }
   ],
   "source": [
    "from io import BytesIO\n",
    "\n",
    "f = BytesIO(b'\\xe4\\xb8\\xad\\xe6\\x96\\x87')\n",
    "f.read()\n"
   ]
  }
 ],
 "metadata": {
  "kernelspec": {
   "display_name": "Python 3.9.13 ('JupyterNotebook-5PCSqSH0')",
   "language": "python",
   "name": "python3"
  },
  "language_info": {
   "codemirror_mode": {
    "name": "ipython",
    "version": 3
   },
   "file_extension": ".py",
   "mimetype": "text/x-python",
   "name": "python",
   "nbconvert_exporter": "python",
   "pygments_lexer": "ipython3",
   "version": "3.9.13"
  },
  "orig_nbformat": 4,
  "vscode": {
   "interpreter": {
    "hash": "c57bdfac97ca45c05f862af0e07e2a609dfb06d83bc5ec7dd8d02f8ae1750a09"
   }
  }
 },
 "nbformat": 4,
 "nbformat_minor": 2
}
