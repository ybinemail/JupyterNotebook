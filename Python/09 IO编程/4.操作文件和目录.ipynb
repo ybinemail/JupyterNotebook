{
 "cells": [
  {
   "cell_type": "markdown",
   "metadata": {},
   "source": [
    "# 操作文件和目录\n",
    "如果我们要操作文件、目录，可以在命令行下面输入操作系统提供的各种命令来完成。比如dir、cp等命令。\n",
    "\n",
    "如果要在Python程序中执行这些目录和文件的操作怎么办？\n",
    "\n",
    "其实操作系统提供的命令只是简单地调用了操作系统提供的接口函数，Python内置的`os`模块也可以直接调用操作系统提供的接口函数。\n",
    "\n",
    "打开Python交互式命令行，我们来看看如何使用`os`模块的基本功能："
   ]
  },
  {
   "cell_type": "code",
   "execution_count": 1,
   "metadata": {},
   "outputs": [
    {
     "data": {
      "text/plain": [
       "'posix'"
      ]
     },
     "execution_count": 1,
     "metadata": {},
     "output_type": "execute_result"
    }
   ],
   "source": [
    "import os\n",
    "os.name"
   ]
  },
  {
   "cell_type": "markdown",
   "metadata": {},
   "source": [
    "如果是posix，说明系统是Linux、Unix或Mac OS X，如果是nt，就是Windows系统。\n",
    "\n",
    "要获取详细的系统信息，可以调用`uname()`函数："
   ]
  },
  {
   "cell_type": "code",
   "execution_count": 2,
   "metadata": {},
   "outputs": [
    {
     "data": {
      "text/plain": [
       "posix.uname_result(sysname='Darwin', nodename='Macbook.local', release='20.6.0', version='Darwin Kernel Version 20.6.0: Mon Aug 30 06:12:20 PDT 2021; root:xnu-7195.141.6~3/RELEASE_ARM64_T8101', machine='arm64')"
      ]
     },
     "execution_count": 2,
     "metadata": {},
     "output_type": "execute_result"
    }
   ],
   "source": [
    "import os\n",
    "os.uname()"
   ]
  },
  {
   "cell_type": "markdown",
   "metadata": {},
   "source": [
    "注意`uname()`函数在Windows上不提供，也就是说，os模块的某些函数是跟操作系统相关的。\n",
    "\n",
    "## 环境变量\n",
    "在操作系统中定义的环境变量，全部保存在`os.environ`这个变量中，可以直接查看："
   ]
  },
  {
   "cell_type": "code",
   "execution_count": 3,
   "metadata": {},
   "outputs": [
    {
     "data": {
      "text/plain": [
       "environ{'SHELL': '/bin/zsh',\n",
       "        'TMPDIR': '/var/folders/qp/w7t0hyg957d_xlc3kv2q49sw0000gn/T/',\n",
       "        'PYTHONUNBUFFERED': '1',\n",
       "        'ORIGINAL_XDG_CURRENT_DESKTOP': 'undefined',\n",
       "        'MallocNanoZone': '0',\n",
       "        'ZSH': '/Users/robinyu/.config/.oh-my-zsh',\n",
       "        'PYTHONIOENCODING': 'utf-8',\n",
       "        'USER': 'robinyu',\n",
       "        'COMMAND_MODE': 'unix2003',\n",
       "        'SSH_AUTH_SOCK': '/private/tmp/com.apple.launchd.2nTT4HRVEk/Listeners',\n",
       "        '__CF_USER_TEXT_ENCODING': '0x1F5:0:0',\n",
       "        'VIRTUAL_ENV': '/Users/robinyu/.local/share/virtualenvs/JupyterNotebook-5PCSqSH0',\n",
       "        'PAGER': 'cat',\n",
       "        'VSCODE_AMD_ENTRYPOINT': 'vs/workbench/api/node/extensionHostProcess',\n",
       "        'ELECTRON_RUN_AS_NODE': '1',\n",
       "        'LSCOLORS': 'Gxfxcxdxbxegedabagacad',\n",
       "        'PATH': '/Users/robinyu/.local/share/virtualenvs/JupyterNotebook-5PCSqSH0/bin:/Users/robinyu/.local/share/virtualenvs/JupyterNotebook-5PCSqSH0/bin:/usr/local/bin:/usr/bin:/bin:/usr/sbin:/sbin:/Applications/Wireshark.app/Contents/MacOS:/opt/homebrew/bin:/Users/robinyu/Workspace/GOPATH/bin:/Users/robinyu/.fzf/bin',\n",
       "        '__CFBundleIdentifier': 'com.microsoft.VSCode',\n",
       "        'PWD': '/',\n",
       "        'VSCODE_HANDLES_UNCAUGHT_ERRORS': 'true',\n",
       "        'XPC_FLAGS': '0x0',\n",
       "        'PS1': '(JupyterNotebook) ',\n",
       "        'XPC_SERVICE_NAME': '0',\n",
       "        'SHLVL': '1',\n",
       "        'HOME': '/Users/robinyu',\n",
       "        'VSCODE_NLS_CONFIG': '{\"locale\":\"zh-cn\",\"availableLanguages\":{\"*\":\"zh-cn\"},\"_languagePackId\":\"08bdb29c43b4c03defdaaecc51ad48b6.zh-cn\",\"_translationsConfigFile\":\"/Users/robinyu/Library/Application Support/Code/clp/08bdb29c43b4c03defdaaecc51ad48b6.zh-cn/tcf.json\",\"_cacheRoot\":\"/Users/robinyu/Library/Application Support/Code/clp/08bdb29c43b4c03defdaaecc51ad48b6.zh-cn\",\"_resolvedLanguagePackCoreLocation\":\"/Users/robinyu/Library/Application Support/Code/clp/08bdb29c43b4c03defdaaecc51ad48b6.zh-cn/6d9b74a70ca9c7733b29f0456fd8195364076dda\",\"_corruptedFile\":\"/Users/robinyu/Library/Application Support/Code/clp/08bdb29c43b4c03defdaaecc51ad48b6.zh-cn/corrupted.info\",\"_languagePackSupport\":true}',\n",
       "        'LESS': '-R',\n",
       "        'LOGNAME': 'robinyu',\n",
       "        'VSCODE_IPC_HOOK': '/Users/robinyu/Library/Application Support/Code/1.70.1-main.sock',\n",
       "        'VSCODE_CODE_CACHE_PATH': '/Users/robinyu/Library/Application Support/Code/CachedData/6d9b74a70ca9c7733b29f0456fd8195364076dda',\n",
       "        'VSCODE_PID': '886',\n",
       "        'VSCODE_CWD': '/',\n",
       "        '_': '/Users/robinyu/.local/share/virtualenvs/JupyterNotebook-5PCSqSH0/bin/python',\n",
       "        'LC_CTYPE': 'UTF-8',\n",
       "        'PYTHONPATH': '/Users/robinyu/.vscode/extensions/ms-toolsai.jupyter-2022.7.1102252217/pythonFiles:/Users/robinyu/.vscode/extensions/ms-toolsai.jupyter-2022.7.1102252217/pythonFiles/lib/python',\n",
       "        'JUPYTER_PATH': '/Users/robinyu/.vscode/extensions/ms-toolsai.jupyter-2022.7.1102252217/temp/jupyter',\n",
       "        'OLDPWD': '/',\n",
       "        'JPY_PARENT_PID': '1059',\n",
       "        'TERM': 'xterm-color',\n",
       "        'CLICOLOR': '1',\n",
       "        'GIT_PAGER': 'cat',\n",
       "        'MPLBACKEND': 'module://matplotlib_inline.backend_inline'}"
      ]
     },
     "execution_count": 3,
     "metadata": {},
     "output_type": "execute_result"
    }
   ],
   "source": [
    "os.environ"
   ]
  },
  {
   "cell_type": "markdown",
   "metadata": {},
   "source": [
    "要获取某个环境变量的值，可以调用`os.environ.get('key')`："
   ]
  },
  {
   "cell_type": "code",
   "execution_count": 4,
   "metadata": {},
   "outputs": [
    {
     "data": {
      "text/plain": [
       "'default'"
      ]
     },
     "execution_count": 4,
     "metadata": {},
     "output_type": "execute_result"
    }
   ],
   "source": [
    "os.environ.get('PATH')\n",
    "os.environ.get('x','default')"
   ]
  },
  {
   "cell_type": "markdown",
   "metadata": {},
   "source": [
    "## 操作文件和目录\n",
    "操作文件和目录的函数一部分放在`os`模块中，一部分放在`os.path`模块中，这一点要注意一下。查看、创建和删除目录可以这么调用：\n",
    "\n",
    "```py\n",
    "# 查看当前目录的绝对路径:\n",
    ">>> os.path.abspath('.')\n",
    "'/Users/michael'\n",
    "# 在某个目录下创建一个新目录，首先把新目录的完整路径表示出来:\n",
    ">>> os.path.join('/Users/michael', 'testdir')\n",
    "'/Users/michael/testdir'\n",
    "# 然后创建一个目录:\n",
    ">>> os.mkdir('/Users/michael/testdir')\n",
    "# 删掉一个目录:\n",
    ">>> os.rmdir('/Users/michael/testdir')\n",
    "```\n",
    "\n",
    "把两个路径合成一个时，不要直接拼字符串，而要通过`os.path.join()`函数，这样可以正确处理不同操作系统的路径分隔符。在Linux/Unix/Mac下，`os.path.join()`返回这样的字符串：\n",
    "```\n",
    "part-1/part-2\n",
    "```\n",
    "而Windows下会返回这样的字符串：\n",
    "```\n",
    "part-1\\part-2\n",
    "```\n",
    "\n",
    "同样的道理，要拆分路径时，也不要直接去拆字符串，而要通过`os.path.split()`函数，这样可以把一个路径拆分为`两部分`，`后一部分总是最后级别的目录或文件名`：\n",
    "\n",
    "```py\n",
    ">>> os.path.split('/Users/michael/testdir/file.txt')\n",
    "('/Users/michael/testdir', 'file.txt')\n",
    "```\n",
    "\n",
    "`os.path.splitext()`可以直接让你得到文件扩展名，很多时候非常方便：\n",
    "\n",
    "```py\n",
    ">>> os.path.splitext('/path/to/file.txt')\n",
    "('/path/to/file', '.txt')\n",
    "```\n",
    "\n",
    "这些合并、拆分路径的函数并不要求目录和文件要真实存在，它们只对字符串进行操作。\n",
    "\n",
    "文件操作使用下面的函数。假定当前目录下有一个test.txt文件：\n",
    "\n",
    "```py\n",
    "# 对文件重命名:\n",
    ">>> os.rename('test.txt', 'test.py')\n",
    "# 删掉文件:\n",
    ">>> os.remove('test.py')\n",
    "```"
   ]
  },
  {
   "cell_type": "markdown",
   "metadata": {},
   "source": [
    "但是复制文件的函数居然在 `os` 模块中不存在！原因是复制文件并非由操作系统提供的系统调用。理论上讲，我们通过上一节的读写文件可以完成文件复制，只不过要多写很多代码。\n",
    "\n",
    "幸运的是 `shutil` 模块提供了 `copyfile()` 的函数，你还可以在 `shutil` 模块中找到很多实用函数，它们可以看做是 `os` 模块的补充。\n",
    "\n",
    "最后看看如何利用Python的特性来过滤文件。比如我们要列出当前目录下的所有目录，只需要一行代码：\n",
    "\n",
    "```py\n",
    ">>> [x for x in os.listdir('.') if os.path.isdir(x)]\n",
    "['.lein', '.local', '.m2', '.npm', '.ssh', '.Trash', '.vim', 'Applications', 'Desktop', ...]\n",
    "```\n",
    "\n",
    "要列出所有的.py文件，也只需一行代码：\n",
    "\n",
    "```py\n",
    ">>> [x for x in os.listdir('.') if os.path.isfile(x) and os.path.splitext(x)[1]=='.py']\n",
    "['apis.py', 'config.py', 'models.py', 'pymonitor.py', 'test_db.py', 'urls.py', 'wsgiapp.py']\n",
    "```\n"
   ]
  }
 ],
 "metadata": {
  "kernelspec": {
   "display_name": "Python 3.9.13 ('JupyterNotebook-5PCSqSH0')",
   "language": "python",
   "name": "python3"
  },
  "language_info": {
   "codemirror_mode": {
    "name": "ipython",
    "version": 3
   },
   "file_extension": ".py",
   "mimetype": "text/x-python",
   "name": "python",
   "nbconvert_exporter": "python",
   "pygments_lexer": "ipython3",
   "version": "3.9.13"
  },
  "orig_nbformat": 4,
  "vscode": {
   "interpreter": {
    "hash": "c57bdfac97ca45c05f862af0e07e2a609dfb06d83bc5ec7dd8d02f8ae1750a09"
   }
  }
 },
 "nbformat": 4,
 "nbformat_minor": 2
}
