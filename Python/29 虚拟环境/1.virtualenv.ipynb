{
 "cells": [
  {
   "cell_type": "markdown",
   "metadata": {},
   "source": [
    "## virtualenv\n",
    "在开发Python应用程序的时候，系统安装的Python3只有一个版本：3.4。所有第三方的包都会被`pip`安装到Python3的`site-packages`目录下。\n",
    "\n",
    "如果我们要同时开发多个应用程序，那这些应用程序都会共用一个Python，就是安装在系统的Python 3。如果应用A需要jinja 2.7，而应用B需要jinja 2.6怎么办？\n",
    "\n",
    "这种情况下，每个应用可能需要各自拥有一套“独立”的Python运行环境。`virtualenv`就是用来为一个应用创建一套`“隔离”`的Python运行环境。\n",
    "\n",
    "首先，我们用`pip`安装`virtualenv`：\n",
    "```\n",
    "$ pip3 install virtualenv\n",
    "```\n",
    "\n",
    "然后，假定我们要开发一个新的项目，需要一套独立的Python运行环境，可以这么做：\n",
    "\n",
    "第一步，创建目录：\n",
    "```\n",
    "Mac:~ michael$ mkdir myproject\n",
    "Mac:~ michael$ cd myproject/\n",
    "Mac:myproject michael$\n",
    "```\n",
    "\n",
    "第二步，创建一个独立的Python运行环境，命名为`venv`：\n",
    "```\n",
    "Mac:myproject michael$ virtualenv --no-site-packages venv\n",
    "Using base prefix '/usr/local/.../Python.framework/Versions/3.4'\n",
    "New python executable in venv/bin/python3.4\n",
    "Also creating executable in venv/bin/python\n",
    "Installing setuptools, pip, wheel...done.\n",
    "```\n",
    "\n",
    "命令virtualenv就可以创建一个独立的Python运行环境，我们还加上了参数`—no-site-packages`，这样，已经安装到系统Python环境中的所有第三方包都不会复制过来，这样，我们就得到了一个不带任何第三方包的“干净”的Python运行环境。\n",
    "\n",
    "新建的Python环境被放到当前目录下的`venv`目录。有了`venv`这个Python环境，可以用`source`进入该环境：\n",
    "\n",
    "```\n",
    "Mac:myproject michael$ source venv/bin/activate\n",
    "(venv)Mac:myproject michael$\n",
    "```\n",
    "\n",
    "注意到命令提示符变了，有个(`venv`)前缀，表示当前环境是一个名为`venv`的Python环境。\n",
    "\n",
    "下面正常安装各种第三方包，并运行python命令：\n",
    "```\n",
    "(venv)Mac:myproject michael$ pip install jinja2\n",
    "...\n",
    "Successfully installed jinja2-2.7.3 markupsafe-0.23\n",
    "(venv)Mac:myproject michael$ python myapp.py\n",
    "...\n",
    "```\n",
    "\n",
    "在`venv`环境下，用`pip`安装的包都被安装到`venv`这个环境下，系统Python环境不受任何影响。也就是说，`venv`环境是专门针对`myproject`这个应用创建的。\n",
    "\n",
    "退出当前的`venv`环境，使用`deactivate`命令：\n",
    "```\n",
    "(venv)Mac:myproject michael$ deactivate \n",
    "Mac:myproject michael$\n",
    "```\n",
    "\n",
    "此时就回到了正常的环境，现在pip或python均是在系统Python环境下执行。\n",
    "\n",
    "完全可以针对每个应用创建独立的Python运行环境，这样就可以对每个应用的Python环境进行隔离。\n",
    "\n",
    "`virtualenv`是如何创建“独立”的Python运行环境的呢？\n",
    "\n",
    "原理很简单，就是把系统Python复制一份到`virtualenv`的环境，用命令`source venv/bin/activate`进入一个`virtualenv`环境时，`virtualenv`会修改相关环境变量，让命令python和pip均指向当前的virtualenv环境。\n",
    "\n",
    "小结\n",
    "`virtualenv`为应用提供了隔离的Python运行环境，解决了不同应用间多版本的冲突问题。"
   ]
  }
 ],
 "metadata": {
  "kernelspec": {
   "display_name": "Python 3.9.13 64-bit",
   "language": "python",
   "name": "python3"
  },
  "language_info": {
   "name": "python",
   "version": "3.9.13"
  },
  "orig_nbformat": 4,
  "vscode": {
   "interpreter": {
    "hash": "b0fa6594d8f4cbf19f97940f81e996739fb7646882a419484c72d19e05852a7e"
   }
  }
 },
 "nbformat": 4,
 "nbformat_minor": 2
}
