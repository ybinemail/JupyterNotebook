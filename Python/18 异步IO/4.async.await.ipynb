{
 "cells": [
  {
   "cell_type": "markdown",
   "metadata": {},
   "source": [
    "# async/await\n",
    "用`asyncio`提供的`@asyncio.coroutine`可以把一个`generator`标记为`coroutine`类型，然后在`coroutine`内部用`yield from`调用另一个`coroutine`实现异步操作。\n",
    "\n",
    "为了简化并更好地标识异步`IO`，从Python 3.5开始引入了新的语法`async`和`await`，可以让`coroutine`的代码更简洁易读。\n",
    "\n",
    "请注意，`async`和`await`是针对`coroutine`的新语法，要使用新的语法，只需要做两步简单的替换：\n",
    "\n",
    "把`@asyncio.coroutine`替换为`async`；\n",
    "把`yield from`替换为`await`。\n",
    "\n",
    "`asyncio`的编程模型就是一个`消息循环`。我们从`asyncio模块`中直接获取一个`EventLoop`的引用，然后把需要执行的协程扔到`EventLoop`中执行，就实现了`异步IO`。\n",
    "\n",
    "让我们对比一下上一节的代码："
   ]
  },
  {
   "cell_type": "code",
   "execution_count": null,
   "metadata": {},
   "outputs": [],
   "source": [
    "##  废弃\n",
    "@asyncio.coroutine\n",
    "def hello():\n",
    "    print(\"Hello world!\")\n",
    "    r = yield from asyncio.sleep(1)\n",
    "    print(\"Hello again!\")"
   ]
  },
  {
   "cell_type": "markdown",
   "metadata": {},
   "source": [
    "用新语法重新编写如下："
   ]
  },
  {
   "cell_type": "code",
   "execution_count": null,
   "metadata": {},
   "outputs": [],
   "source": [
    "import asyncio\n",
    "\n",
    "async def hello():\n",
    "    print(\"Hello world!\")\n",
    "    r = await asyncio.sleep(1)\n",
    "    print(\"Hello again!\")\n",
    "\n",
    "# 获取EventLoop:\n",
    "loop = asyncio.get_event_loop()\n",
    "\n",
    "# 执行coroutine\n",
    "loop.run_until_complete(hello())\n",
    "\n",
    "loop.close()"
   ]
  },
  {
   "cell_type": "markdown",
   "metadata": {},
   "source": [
    "`async`把一个`generator`标记为`coroutine`类型，然后，我们就把这个`coroutine`扔到`EventLoop`中执行。\n",
    "\n",
    "`hello()`会首先打印出`Hello world!`，然后，`await`语法可以让我们方便地调用另一个`generator`。由于`asyncio.sleep()`也是一个`coroutine`，所以线程不会等待`asyncio.sleep()`，而是直接中断并执行下一个消息循环。当`asyncio.sleep()`返回时，线程就可以从`await`拿到返回值（此处是None），然后接着执行下一行语句。\n",
    "\n",
    "把`asyncio.sleep(1)`看成是一个耗时1秒的IO操作，在此期间，主线程并未等待，而是去执行`EventLoop`中其他可以执行的`coroutine`了，因此可以实现并发执行。\n",
    "\n",
    "我们用Task封装两个`coroutine`试试："
   ]
  },
  {
   "cell_type": "code",
   "execution_count": null,
   "metadata": {},
   "outputs": [],
   "source": [
    "import threading\n",
    "import asyncio\n",
    "\n",
    "\n",
    "async def hello():\n",
    "    print('Hello world! (%s)' % threading.currentThread())\n",
    "    await asyncio.sleep(1)\n",
    "    print('Hello again! (%s)' % threading.currentThread())\n",
    "    \n",
    "loop = asyncio.get_event_loop()\n",
    "tasks = [hello(), hello()]\n",
    "loop.run_until_complete(asyncio.wait(tasks))\n",
    "loop.close()"
   ]
  },
  {
   "cell_type": "markdown",
   "metadata": {},
   "source": [
    "观察执行过程，由打印的当前线程名称可以看出，两个`coroutine`是由同一个线程并发执行的。\n",
    "\n",
    "如果把`asyncio.sleep()`换成真正的`IO`操作，则多个`coroutine`就可以由一个线程并发执行。\n",
    "\n",
    "我们用`asyncio`的异步网络连接来获取sina、sohu和163的网站首页："
   ]
  },
  {
   "cell_type": "code",
   "execution_count": null,
   "metadata": {},
   "outputs": [],
   "source": [
    "import asyncio\n",
    "\n",
    "async def wget(host):\n",
    "    print('wget %s...' % host)\n",
    "    connect = asyncio.open_connection(host, 80)\n",
    "    reader, writer = await connect\n",
    "    header = 'GET / HTTP/1.0\\r\\nHost: %s\\r\\n\\r\\n' % host\n",
    "    writer.write(header.encode('utf-8'))\n",
    "    await writer.drain()\n",
    "    while True:\n",
    "        line = await reader.readline()\n",
    "        if line == b'\\r\\n':\n",
    "            break\n",
    "        print('%s header > %s' % (host, line.decode('utf-8').rstrip()))\n",
    "    # Ignore the body, close the socket\n",
    "    writer.close()\n",
    "loop = asyncio.get_event_loop()\n",
    "tasks = [wget(host) for host in ['www.sina.com.cn', 'www.sohu.com', 'www.163.com']]\n",
    "loop.run_until_complete(asyncio.wait(tasks))\n",
    "loop.close()"
   ]
  }
 ],
 "metadata": {
  "kernelspec": {
   "display_name": "Python 3.9.13 ('JupyterNotebook-5PCSqSH0')",
   "language": "python",
   "name": "python3"
  },
  "language_info": {
   "codemirror_mode": {
    "name": "ipython",
    "version": 3
   },
   "file_extension": ".py",
   "mimetype": "text/x-python",
   "name": "python",
   "nbconvert_exporter": "python",
   "pygments_lexer": "ipython3",
   "version": "3.9.13"
  },
  "orig_nbformat": 4,
  "vscode": {
   "interpreter": {
    "hash": "c57bdfac97ca45c05f862af0e07e2a609dfb06d83bc5ec7dd8d02f8ae1750a09"
   }
  }
 },
 "nbformat": 4,
 "nbformat_minor": 2
}
