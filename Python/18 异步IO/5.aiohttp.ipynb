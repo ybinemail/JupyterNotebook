{
 "cells": [
  {
   "cell_type": "markdown",
   "metadata": {},
   "source": [
    "# aiohttp\n",
    "`asyncio`可以实现单线程并发`IO操作`。如果仅用在客户端，发挥的威力不大。如果把`asyncio`用在服务器端，例如`Web`服务器，由于`HTTP`连接就是`IO操作`，因此可以用`单线程+coroutine`实现多用户的高并发支持。\n",
    "\n",
    "`asyncio`实现了`TCP、UDP、SSL`等协议，`aiohttp`则是基于`asyncio`实现的`HTTP框架`。\n",
    "\n",
    "我们先安装`aiohttp`：\n",
    "\n",
    "```\n",
    "pip install aiohttp\n",
    "```\n",
    "然后编写一个HTTP服务器，分别处理以下URL：\n",
    "```\n",
    "\n",
    "* / - 首页返回b'<h1>Index</h1>'；\n",
    "\n",
    "* /hello/{name} - 根据URL参数返回文本hello, %s!。\n",
    "```\n",
    "\n",
    "代码如下："
   ]
  },
  {
   "cell_type": "code",
   "execution_count": null,
   "metadata": {},
   "outputs": [],
   "source": [
    "import asyncio\n",
    "from aiohttp import web\n",
    "\n",
    "\n",
    "async def index(request):\n",
    "    await asyncio.sleep(0.5)\n",
    "    return web.Response(body=b'<h1>Index</h1>')\n",
    "\n",
    "\n",
    "async def hello(request):\n",
    "    await asyncio.sleep(0.5)\n",
    "    text = '<h1>hello, %s!</h1>' % request.match_info['name']\n",
    "    return web.Response(body=text.encode('utf-8'))\n",
    "\n",
    "\n",
    "async def init(loop):\n",
    "    app = web.Application(loop=loop)\n",
    "    app.router.add_route('GET', '/', index)\n",
    "    app.router.add_route('GET', '/hello/{name}', hello)\n",
    "    srv = await loop.create_server(app.make_handler(), '127.0.0.1', 8000)\n",
    "    print('Server started at http://127.0.0.1:8000...')\n",
    "    return srv\n",
    "\n",
    "\n",
    "loop = asyncio.get_event_loop()\n",
    "loop.run_until_complete(init(loop))\n",
    "loop.run_forever()"
   ]
  },
  {
   "cell_type": "markdown",
   "metadata": {},
   "source": [
    "注意aiohttp的初始化函数init()也是一个coroutine，loop.create_server()则利用asyncio创建TCP服务。"
   ]
  }
 ],
 "metadata": {
  "language_info": {
   "name": "python"
  },
  "orig_nbformat": 4
 },
 "nbformat": 4,
 "nbformat_minor": 2
}
