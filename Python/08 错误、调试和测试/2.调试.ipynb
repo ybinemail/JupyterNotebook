{
 "cells": [
  {
   "cell_type": "markdown",
   "metadata": {},
   "source": [
    "# 调试\n",
    "程序能一次写完并正常运行的概率很小，基本不超过1%。总会有各种各样的bug需要修正。有的bug很简单，看看错误信息就知道，有的bug很复杂，我们需要知道出错时，哪些变量的值是正确的，哪些变量的值是错误的，因此，需要一整套调试程序的手段来修复bug。\n",
    "\n",
    "## print\n",
    "第一种方法简单直接粗暴有效，就是用print()把可能有问题的变量打印出来看看："
   ]
  },
  {
   "cell_type": "code",
   "execution_count": null,
   "metadata": {},
   "outputs": [],
   "source": [
    "def foo(s):\n",
    "    n = int(s)\n",
    "    print('>>> n = %d' % n)\n",
    "    return 10 / n\n",
    "def main():\n",
    "    foo('0')\n",
    "main()"
   ]
  },
  {
   "cell_type": "markdown",
   "metadata": {},
   "source": [
    "执行后在输出中查找打印的变量值：\n",
    "\n",
    "```py\n",
    ">>> n =0 \n",
    "\n",
    "Traceback (most recent call last):\n",
    "  ...\n",
    "ZeroDivisionError: integer division or modulo by zero\n",
    "```\n",
    "\n",
    "用print()最大的坏处是将来还得删掉它，想想程序里到处都是`print()`，运行结果也会包含很多垃圾信息。所以，我们又有第二种方法。"
   ]
  },
  {
   "cell_type": "markdown",
   "metadata": {},
   "source": [
    "## 断言\n",
    "凡是用`print()`来辅助查看的地方，都可以用断言（`assert`）来替代："
   ]
  },
  {
   "cell_type": "code",
   "execution_count": null,
   "metadata": {},
   "outputs": [],
   "source": [
    "def foo(s):\n",
    "    n = int(s)\n",
    "    assert n != 0, 'n is zero!'\n",
    "    return 10 / n\n",
    "def main():\n",
    "    foo('0')"
   ]
  },
  {
   "cell_type": "markdown",
   "metadata": {},
   "source": [
    "`assert`的意思是，表达式`n != 0`应该是`True`，否则，根据程序运行的逻辑，后面的代码肯定会出错。\n",
    "\n",
    "如果断言失败，`assert`语句本身就会抛出`AssertionError`\n",
    "\n",
    "```py\n",
    "Traceback (most recent call last):\n",
    "  ...\n",
    "AssertionError: n is zero!``\n",
    "```\n",
    "\n",
    "程序中如果到处充斥着`assert`，和`print()`相比也好不到哪去。不过，启动`Python`解释器时可以用`-O参数`来关闭`assert`：\n",
    "\n",
    "关闭后，你可以把所有的assert语句当成pass来看。"
   ]
  },
  {
   "cell_type": "markdown",
   "metadata": {},
   "source": [
    "## logging\n",
    "把print()替换为logging是第3种方式，和assert比，logging不会抛出错误，而且可以输出到文件："
   ]
  },
  {
   "cell_type": "code",
   "execution_count": 3,
   "metadata": {},
   "outputs": [
    {
     "ename": "ZeroDivisionError",
     "evalue": "division by zero",
     "output_type": "error",
     "traceback": [
      "\u001b[0;31m---------------------------------------------------------------------------\u001b[0m",
      "\u001b[0;31mZeroDivisionError\u001b[0m                         Traceback (most recent call last)",
      "\u001b[1;32m/Users/robinyu/Workspace/JupyterNotebook/Python/08 错误、调试和测试/2.调试.ipynb Cell 8\u001b[0m in \u001b[0;36m<cell line: 5>\u001b[0;34m()\u001b[0m\n\u001b[1;32m      <a href='vscode-notebook-cell:/Users/robinyu/Workspace/JupyterNotebook/Python/08%20%E9%94%99%E8%AF%AF%E3%80%81%E8%B0%83%E8%AF%95%E5%92%8C%E6%B5%8B%E8%AF%95/2.%E8%B0%83%E8%AF%95.ipynb#X10sZmlsZQ%3D%3D?line=2'>3</a>\u001b[0m n \u001b[39m=\u001b[39m \u001b[39mint\u001b[39m(s)\n\u001b[1;32m      <a href='vscode-notebook-cell:/Users/robinyu/Workspace/JupyterNotebook/Python/08%20%E9%94%99%E8%AF%AF%E3%80%81%E8%B0%83%E8%AF%95%E5%92%8C%E6%B5%8B%E8%AF%95/2.%E8%B0%83%E8%AF%95.ipynb#X10sZmlsZQ%3D%3D?line=3'>4</a>\u001b[0m logging\u001b[39m.\u001b[39minfo(\u001b[39m'\u001b[39m\u001b[39mn = \u001b[39m\u001b[39m%d\u001b[39;00m\u001b[39m'\u001b[39m \u001b[39m%\u001b[39m n)\n\u001b[0;32m----> <a href='vscode-notebook-cell:/Users/robinyu/Workspace/JupyterNotebook/Python/08%20%E9%94%99%E8%AF%AF%E3%80%81%E8%B0%83%E8%AF%95%E5%92%8C%E6%B5%8B%E8%AF%95/2.%E8%B0%83%E8%AF%95.ipynb#X10sZmlsZQ%3D%3D?line=4'>5</a>\u001b[0m \u001b[39mprint\u001b[39m(\u001b[39m10\u001b[39;49m \u001b[39m/\u001b[39;49m n)\n",
      "\u001b[0;31mZeroDivisionError\u001b[0m: division by zero"
     ]
    }
   ],
   "source": [
    "import logging\n",
    "s = '0'\n",
    "n = int(s)\n",
    "logging.info('n = %d' % n)\n",
    "print(10 / n)"
   ]
  },
  {
   "cell_type": "markdown",
   "metadata": {},
   "source": [
    "logging.info()就可以输出一段文本。运行，发现除了ZeroDivisionError，没有任何信息。怎么回事？\n",
    "\n",
    "别急，在import logging之后添加一行配置再试试："
   ]
  },
  {
   "cell_type": "code",
   "execution_count": 2,
   "metadata": {},
   "outputs": [],
   "source": [
    "import logging\n",
    "logging.basicConfig(level=logging.INFO)"
   ]
  },
  {
   "cell_type": "markdown",
   "metadata": {},
   "source": [
    "这就是`logging`的好处，它允许你指定记录信息的级别，有`debug，info，warning，error`等几个级别，当我们指定`level=INFO`时，`logging.debug`就不起作用了。同理，指定`level=WARNING`后，`debug和info`就不起作用了。这样一来，你可以放心地输出不同级别的信息，也不用删除，最后统一控制输出哪个级别的信息。\n",
    "\n",
    "`logging`的另一个好处是通过简单的配置，一条语句可以同时输出到不同的地方，比如`console`和文件。"
   ]
  },
  {
   "cell_type": "markdown",
   "metadata": {},
   "source": [
    "## pdb\n",
    "第4种方式是启动Python的调试器pdb，让程序以单步方式运行，可以随时查看运行状态。我们先准备好程序：\n",
    "```py\n",
    "# err.py\n",
    "s = '0'\n",
    "n = int(s)\n",
    "print(10 / n)\n",
    "```\n",
    "然后启动：\n",
    "```py\n",
    "$ python3 -m pdb err.py\n",
    "> /Users/michael/Github/learn-python3/samples/debug/err.py(2)<module>()\n",
    "-> s = '0'\n",
    "```\n",
    "以参数-m pdb启动后，pdb定位到下一步要执行的代码-&gt; s = '0'。输入命令l来查看代码：\n",
    "```py\n",
    "(Pdb) l\n",
    "  1     # err.py\n",
    "  2  -> s = '0'\n",
    "  3     n = int(s)\n",
    "  4     print(10 / n)\n",
    "````\n",
    "输入命令n可以单步执行代码：\n",
    "```py\n",
    "(Pdb) n\n",
    "> /Users/michael/Github/learn-python3/samples/debug/err.py(3)<module>()\n",
    "-> n = int(s)\n",
    "(Pdb) n\n",
    "> /Users/michael/Github/learn-python3/samples/debug/err.py(4)<module>()\n",
    "-> print(10 / n)\n",
    "```\n",
    "任何时候都可以输入命令p 变量名来查看变量：\n",
    "```py\n",
    "(Pdb) p s\n",
    "'0'\n",
    "(Pdb) p n\n",
    "0\n",
    "```\n",
    "输入命令q结束调试，退出程序：\n",
    "```py\n",
    "(Pdb) q\n",
    "```\n",
    "这种通过pdb在命令行调试的方法理论上是万能的，但实在是太麻烦了，如果有一千行代码，要运行到第999行得敲多少命令啊。还好，我们还有另一种调试方法。"
   ]
  },
  {
   "cell_type": "markdown",
   "metadata": {},
   "source": [
    "## pdb.set_trace()\n",
    "这个方法也是用pdb，但是不需要单步执行，我们只需要import pdb，然后，在可能出错的地方放一个pdb.set_trace()，就可以设置一个断点：\n",
    "```py\n",
    "# err.py\n",
    "import pdb\n",
    "s = '0'\n",
    "n = int(s)\n",
    "pdb.set_trace() # 运行到这里会自动暂停\n",
    "print(10 / n)\n",
    "```\n",
    "运行代码，程序会自动在pdb.set_trace()暂停并进入pdb调试环境，可以用命令p查看变量，或者用命令c继续运行：\n",
    "\n",
    "```shell\n",
    "$ python3 err.py \n",
    "> /Users/michael/Github/learn-python3/samples/debug/err.py(7)<module>()\n",
    "-> print(10 / n)\n",
    "(Pdb) p n\n",
    "0\n",
    "(Pdb) c\n",
    "Traceback (most recent call last):\n",
    "  File \"err.py\", line 7, in <module>\n",
    "    print(10 / n)\n",
    "ZeroDivisionError: division by zero\n",
    "```\n",
    "这个方式比直接启动pdb单步调试效率要高很多，但也高不到哪去。"
   ]
  }
 ],
 "metadata": {
  "kernelspec": {
   "display_name": "Python 3.9.13 ('JupyterNotebook-5PCSqSH0')",
   "language": "python",
   "name": "python3"
  },
  "language_info": {
   "codemirror_mode": {
    "name": "ipython",
    "version": 3
   },
   "file_extension": ".py",
   "mimetype": "text/x-python",
   "name": "python",
   "nbconvert_exporter": "python",
   "pygments_lexer": "ipython3",
   "version": "3.9.13"
  },
  "orig_nbformat": 4,
  "vscode": {
   "interpreter": {
    "hash": "c57bdfac97ca45c05f862af0e07e2a609dfb06d83bc5ec7dd8d02f8ae1750a09"
   }
  }
 },
 "nbformat": 4,
 "nbformat_minor": 2
}
