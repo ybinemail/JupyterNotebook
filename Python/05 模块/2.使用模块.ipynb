{
 "cells": [
  {
   "cell_type": "markdown",
   "metadata": {},
   "source": [
    "# 使用模块\n",
    "Python本身就内置了很多非常有用的模块，只要安装完毕，这些模块就可以立刻使用。\n",
    "\n",
    "我们以内建的sys模块为例，编写一个hello的模块："
   ]
  },
  {
   "cell_type": "code",
   "execution_count": 3,
   "metadata": {},
   "outputs": [
    {
     "name": "stdout",
     "output_type": "stream",
     "text": [
      "Too many arguments!\n"
     ]
    }
   ],
   "source": [
    "#!/usr/bin/env python3\n",
    "# -*- coding: utf-8 -*-\n",
    "\n",
    "' a test module '\n",
    "\n",
    "__author__ = 'Michael Liao'\n",
    "\n",
    "import sys\n",
    "\n",
    "def test():\n",
    "    args = sys.argv\n",
    "    if len(args)==1:\n",
    "            print('Hello, world!')\n",
    "    elif len(args)==2:\n",
    "        print('Hello, %s!' % args[1])\n",
    "    else:\n",
    "        print('Too many arguments!')\n",
    "        \n",
    "if __name__=='__main__':\n",
    "    test()"
   ]
  },
  {
   "cell_type": "markdown",
   "metadata": {},
   "source": [
    "* 第1行和第2行是标准注释，第1行注释可以让这个hello.py文件直接在Unix/Linux/Mac上运行，第2行注释表示.py文件本身使用标准UTF-8编码；\n",
    "\n",
    "* 第4行是一个字符串，表示模块的文档注释，任何模块代码的第一个字符串都被视为模块的 **文档注释** ；\n",
    "\n",
    "* 第6行使用author变量把作者写进去，这样当你公开源代码后别人就可以瞻仰你的大名；\n",
    "\n",
    "以上就是Python模块的标准文件模板，当然也可以全部删掉不写，但是，按标准办事肯定没错。\n",
    "\n",
    "后面开始就是真正的代码部分。\n",
    "\n",
    "你可能注意到了，使用sys模块的第一步，就是导入该模块：\n",
    "\n",
    "`import sys`\n",
    "\n",
    "导入sys模块后，我们就有了变量sys指向该模块，利用sys这个变量，就可以访问sys模块的所有功能。\n",
    "\n",
    "sys模块有一个argv变量，用list存储了命令行的所有参数。argv至少有一个元素，因为第一个参数永远是该.py文件的名称，例如：\n",
    "\n",
    "运行`python3 hello.py`获得的`sys.argv`就是`['hello.py']`；\n",
    "\n",
    "运行`python3 hello.py Michael`获得的`sys.argv`就是`['hello.py', 'Michael]`。\n",
    "\n",
    "最后，注意到这两行代码：\n",
    "\n",
    "`if __name__=='__main__':`\n",
    "    `test()`\n",
    "\n",
    "当我们在命令行运行hello模块文件时，Python解释器把一个特殊变量name置为main，而如果在其他地方导入该hello模块时，if判断将失败，因此，这种if测试可以让一个模块通过命令行运行时执行一些额外的代码，最常见的就是运行测试。\n",
    "\n",
    "我们可以用命令行运行hello.py看看效果："
   ]
  },
  {
   "cell_type": "code",
   "execution_count": null,
   "metadata": {},
   "outputs": [],
   "source": [
    "$ python3 hello.py\n",
    "Hello, world!\n",
    "$ python hello.py Michael\n",
    "Hello, Michael!"
   ]
  },
  {
   "cell_type": "markdown",
   "metadata": {},
   "source": [
    "如果启动Python交互环境，再导入hello模块, 导入时，没有打印Hello, word!，因为没有执行test()函数。\n",
    "\n",
    "调用hello.test()时，才能打印出Hello, word!："
   ]
  },
  {
   "cell_type": "code",
   "execution_count": null,
   "metadata": {},
   "outputs": [],
   "source": [
    "import hello\n",
    "\n",
    "hello.test()"
   ]
  },
  {
   "cell_type": "markdown",
   "metadata": {},
   "source": [
    "## 作用域\n",
    "在一个模块中，我们可能会定义很多函数和变量，但有的函数和变量我们希望给别人使用，有的函数和变量我们希望仅仅在模块内部使用。在Python中，是通过_前缀来实现的。\n",
    "\n",
    "正常的函数和变量名是公开的（public），可以被直接引用，比如：abc，x123，PI等；\n",
    "\n",
    "类似__xxx__这样的变量是特殊变量，可以被直接引用，但是有特殊用途，比如上面的__author__，__name__就是特殊变量，hello模块定义的文档注释也可以用特殊变量__doc__访问，我们自己的变量一般不要用这种变量名；\n",
    "\n",
    "类似_xxx_和__xxx这样的函数或变量就是非公开的（private），不应该被直接引用，比如_abc，__abc等；\n",
    "\n",
    "之所以我们说，private函数和变量“不应该”被直接引用，而不是“不能”被直接引用，是因为Python并没有一种方法可以完全限制访问private函数或变量，但是，从编程习惯上不应该引用private函数或变量。\n",
    "\n",
    "private函数或变量不应该被别人引用，那它们有什么用呢？请看例子："
   ]
  },
  {
   "cell_type": "code",
   "execution_count": null,
   "metadata": {},
   "outputs": [],
   "source": [
    "def _private_1(name):\n",
    "    return 'Hello, %s' % name\n",
    "def _private_2(name):\n",
    "    return 'Hi, %s' % name\n",
    "def greeting(name):\n",
    "    if len(name) > 3:\n",
    "        return _private_1(name)\n",
    "    else:\n",
    "        return _private_2(name)"
   ]
  },
  {
   "cell_type": "markdown",
   "metadata": {},
   "source": [
    "我们在模块里公开greeting()函数，而把内部逻辑用private函数隐藏起来了，这样，调用greeting()函数不用关心内部的private函数细节，这也是一种非常有用的代码封装和抽象的方法，即：\n",
    "\n",
    "外部不需要引用的函数全部定义成private，只有外部需要引用的函数才定义为public。\n",
    "\n"
   ]
  }
 ],
 "metadata": {
  "kernelspec": {
   "display_name": "Python 3.9.13 ('JupyterNotebook-5PCSqSH0')",
   "language": "python",
   "name": "python3"
  },
  "language_info": {
   "codemirror_mode": {
    "name": "ipython",
    "version": 3
   },
   "file_extension": ".py",
   "mimetype": "text/x-python",
   "name": "python",
   "nbconvert_exporter": "python",
   "pygments_lexer": "ipython3",
   "version": "3.9.13"
  },
  "orig_nbformat": 4,
  "vscode": {
   "interpreter": {
    "hash": "c57bdfac97ca45c05f862af0e07e2a609dfb06d83bc5ec7dd8d02f8ae1750a09"
   }
  }
 },
 "nbformat": 4,
 "nbformat_minor": 2
}
