{
 "cells": [
  {
   "cell_type": "markdown",
   "metadata": {},
   "source": [
    "# Numpy基础学习和使用"
   ]
  },
  {
   "cell_type": "markdown",
   "metadata": {},
   "source": [
    "## 创建ndarray\n",
    "接受一切序列型的对象，包括其他数组"
   ]
  },
  {
   "cell_type": "code",
   "execution_count": 16,
   "metadata": {},
   "outputs": [
    {
     "name": "stdout",
     "output_type": "stream",
     "text": [
      "arr1= [6.  7.5 8.  0.  1. ]\n",
      "arr2= [[1 2 3 4]\n",
      " [5 6 7 8]]\n"
     ]
    }
   ],
   "source": [
    "import numpy as np\n",
    "## 列表转换\n",
    "data1 = [6,7.5,8,0,1]\n",
    "arr1 = np.array(data1)\n",
    "print(\"arr1= \" +  arr1.__str__())\n",
    "\n",
    "## 嵌套序列\n",
    "data2 =[[1,2,3,4],[5,6,7,8]]\n",
    "arr2 = np.array(data2)\n",
    "print(\"arr2= \" + arr2.__str__())\n"
   ]
  },
  {
   "cell_type": "markdown",
   "metadata": {},
   "source": [
    "* zero 和 ones 函数可以分别创建指定长度或形状的全0或全1的数组\n",
    "* empty 可以创建一个没有任何具体数值的数组\n",
    "* arange 是Python内置 range 的数组版本"
   ]
  },
  {
   "cell_type": "code",
   "execution_count": 17,
   "metadata": {},
   "outputs": [
    {
     "name": "stdout",
     "output_type": "stream",
     "text": [
      "[0. 0. 0. 0. 0. 0. 0. 0. 0. 0.]\n",
      "[[1. 1. 1. 1. 1. 1.]\n",
      " [1. 1. 1. 1. 1. 1.]\n",
      " [1. 1. 1. 1. 1. 1.]]\n",
      "[[[ 2.31584178e+077 -2.31584194e+077]\n",
      "  [ 2.96439388e-323  0.00000000e+000]\n",
      "  [ 2.12199579e-314  8.75983079e+164]]\n",
      "\n",
      " [[ 4.47032376e-090  3.27484543e+179]\n",
      "  [ 1.29167885e+160  3.29706744e-032]\n",
      "  [ 3.99910963e+252  8.34402697e-309]]]\n",
      "[0 1 2 3 4]\n"
     ]
    }
   ],
   "source": [
    "print(np.zeros(10))\n",
    "print(np.ones((3,6)))\n",
    "print(np.empty((2,3,2))) ## 未初始化的垃圾数据\n",
    "print(np.arange(5))"
   ]
  },
  {
   "cell_type": "markdown",
   "metadata": {},
   "source": [
    "### ndarray的数据类型\n",
    "* 是一个特殊的对象，它含有ndarray数据类型的信息\n",
    "* np.array会尝试为新建的数组推断出一个较为合适的数据类型，对于随机创建的数组，更倾向于 float64"
   ]
  },
  {
   "cell_type": "code",
   "execution_count": 18,
   "metadata": {},
   "outputs": [
    {
     "name": "stdout",
     "output_type": "stream",
     "text": [
      "float64\n",
      "int32\n"
     ]
    }
   ],
   "source": [
    "arr1 = np.array([1,2,3],dtype=np.float64)\n",
    "arr2 = np.array([1,2,3],dtype=np.int32)\n",
    "\n",
    "print(arr1.dtype)\n",
    "print(arr2.dtype)"
   ]
  },
  {
   "cell_type": "markdown",
   "metadata": {},
   "source": [
    "* 显示转换数据类型\n",
    "* 注：大精度数据转小精度数据，则会丢失数据，例如浮点数，转整数\n",
    "* 字符串数组中，如果表示都是数字，也可以用astype将其转换为数值型"
   ]
  },
  {
   "cell_type": "code",
   "execution_count": 19,
   "metadata": {},
   "outputs": [
    {
     "name": "stdout",
     "output_type": "stream",
     "text": [
      "int64\n",
      "float64\n",
      "[ 3.7  -1.2  -2.6   0.5   4.22]\n",
      "[ 3 -1 -2  0  4]\n",
      "[b'1.24' b'0.68']\n"
     ]
    }
   ],
   "source": [
    "arr = np.array([1,2,3,4])\n",
    "print(arr.dtype)\n",
    "\n",
    "float_arr = arr.astype(np.float64)\n",
    "print(float_arr.dtype)\n",
    "\n",
    "## 精度转换丢失\n",
    "float_arr2 = np.array([3.7,-1.2,-2.6,0.5,4.22])\n",
    "print(float_arr2)\n",
    "int_arr = float_arr2.astype(np.int32)\n",
    "print(int_arr)\n",
    "\n",
    "## 字符串，表示数值\n",
    "numic_strings = np.array(['1.24','0.68'],dtype=np.string_)\n",
    "numic_strings.astype(np.float64)\n",
    "print(numic_strings)"
   ]
  },
  {
   "cell_type": "markdown",
   "metadata": {},
   "source": [
    "### 矢量化运算\n",
    "可对数据执行批量运算，大小相等的数组之间的任何运算都会将运算应用到元素级"
   ]
  },
  {
   "cell_type": "code",
   "execution_count": 21,
   "metadata": {},
   "outputs": [
    {
     "name": "stdout",
     "output_type": "stream",
     "text": [
      "[[ 1  4  9]\n",
      " [16 25 36]]\n",
      "[[0 0 0]\n",
      " [0 0 0]]\n",
      "[[1.         0.5        0.33333333]\n",
      " [0.25       0.2        0.16666667]]\n"
     ]
    }
   ],
   "source": [
    "arr = np.array([[1,2,3],[4,5,6]])\n",
    "\n",
    "print(arr * arr)\n",
    "print(arr - arr)\n",
    "print(1/arr)"
   ]
  },
  {
   "cell_type": "markdown",
   "metadata": {},
   "source": [
    "### 基本索引和切片\n",
    "索引可以对数组进行数据子集选取"
   ]
  },
  {
   "cell_type": "code",
   "execution_count": 28,
   "metadata": {},
   "outputs": [
    {
     "name": "stdout",
     "output_type": "stream",
     "text": [
      "[0 1 2 3 4 5 6 7 8 9]\n",
      "5\n",
      "[5 6 7]\n",
      "[ 0  1  2  3  4 12 12 12  8  9]\n",
      "[1 2 3]\n",
      "[    0     1 12345     3     4    12    12    12     8     9]\n",
      "[ 0 64 64 64  4 12 12 12  8  9]\n"
     ]
    }
   ],
   "source": [
    "arr = np.arange(10)\n",
    "print(arr)\n",
    "print(arr[5])\n",
    "print(arr[5:8])\n",
    "# 对切片赋值\n",
    "arr[5:8] = 12\n",
    "print(arr)\n",
    "\n",
    "arr_slice  = arr[1:4]\n",
    "print(arr_slice)\n",
    "arr_slice[1] = 12345\n",
    "## 数据修改反映到源数组上\n",
    "print(arr)\n",
    "\n",
    "arr_slice[:] = 64\n",
    "print(arr)"
   ]
  },
  {
   "cell_type": "markdown",
   "metadata": {},
   "source": [
    "> 注意：\n",
    "* 对切片赋值时，该值会自动传播到整个选区\n",
    "* 和列表区别在于，数组切片是原始数组的视图，即数据不会被复制，视图上的任何修改都会直接反映到源数组上"
   ]
  },
  {
   "cell_type": "markdown",
   "metadata": {},
   "source": [
    "对于高阶数组的索引则为低阶数组，例如二维数组中，索引位置上的元素标量，是一维数组"
   ]
  },
  {
   "cell_type": "code",
   "execution_count": 29,
   "metadata": {},
   "outputs": [
    {
     "name": "stdout",
     "output_type": "stream",
     "text": [
      "[[1 2 3]\n",
      " [4 5 6]\n",
      " [7 8 9]]\n",
      "[7 8 9]\n",
      "3\n",
      "3\n"
     ]
    }
   ],
   "source": [
    "arr2d = np.array([[1,2,3],[4,5,6],[7,8,9]])\n",
    "print(arr2d)\n",
    "print(arr2d[2])\n",
    "\n",
    "# 各元素进行递归访问\n",
    "print(arr2d[0][2])\n",
    "# 支持逗号隔开的索引列表\n",
    "print(arr2d[0,2])"
   ]
  },
  {
   "cell_type": "markdown",
   "metadata": {},
   "source": [
    "高级数组操作"
   ]
  },
  {
   "cell_type": "code",
   "execution_count": 30,
   "metadata": {},
   "outputs": [
    {
     "name": "stdout",
     "output_type": "stream",
     "text": [
      "[[[ 1  2  3]\n",
      "  [ 4  5  6]\n",
      "  [ 7  8  9]\n",
      "  [10 11 12]]]\n",
      "[[ 1  2  3]\n",
      " [ 4  5  6]\n",
      " [ 7  8  9]\n",
      " [10 11 12]]\n",
      "[[[1234 1234 1234]\n",
      "  [1234 1234 1234]\n",
      "  [1234 1234 1234]\n",
      "  [1234 1234 1234]]]\n",
      "[[[ 1  2  3]\n",
      "  [ 4  5  6]\n",
      "  [ 7  8  9]\n",
      "  [10 11 12]]]\n"
     ]
    }
   ],
   "source": [
    "arr3d = np.array([[[1,2,3],[4,5,6],[7,8,9],[10,11,12]]])\n",
    "print(arr3d)\n",
    "print(arr3d[0])\n",
    "old_value = arr3d[0].copy()\n",
    "arr3d[0] = 1234\n",
    "print(arr3d)\n",
    "arr3d[0] = old_value\n",
    "print(arr3d)"
   ]
  },
  {
   "cell_type": "markdown",
   "metadata": {},
   "source": [
    "### 切片索引\n",
    "切片语法和Python列表功能比较类似，同时高维度对象也适用"
   ]
  },
  {
   "cell_type": "code",
   "execution_count": null,
   "metadata": {},
   "outputs": [],
   "source": [
    "arr = np.arange(10)\n",
    "print(arr[1:4])\n",
    "\n",
    "print(arr2d[:2])\n",
    "# 传入多个切\n",
    "print(arr2d[:2,1:])\n",
    "# 整数索引和切片混合\n",
    "print(arr2d[1,2:])\n",
    "# 只有冒号，表示整个轴\n",
    "print(arr2d[:,:1])"
   ]
  },
  {
   "cell_type": "markdown",
   "metadata": {},
   "source": [
    "### 布尔型索引\n"
   ]
  },
  {
   "cell_type": "markdown",
   "metadata": {},
   "source": [
    "### 花式索引"
   ]
  },
  {
   "cell_type": "markdown",
   "metadata": {},
   "source": [
    "### 数组转置和轴对称"
   ]
  }
 ],
 "metadata": {
  "kernelspec": {
   "display_name": "Python 3.9.13 ('JupyterNotebook-5PCSqSH0')",
   "language": "python",
   "name": "python3"
  },
  "language_info": {
   "codemirror_mode": {
    "name": "ipython",
    "version": 3
   },
   "file_extension": ".py",
   "mimetype": "text/x-python",
   "name": "python",
   "nbconvert_exporter": "python",
   "pygments_lexer": "ipython3",
   "version": "3.9.13"
  },
  "orig_nbformat": 4,
  "vscode": {
   "interpreter": {
    "hash": "c57bdfac97ca45c05f862af0e07e2a609dfb06d83bc5ec7dd8d02f8ae1750a09"
   }
  }
 },
 "nbformat": 4,
 "nbformat_minor": 2
}
